{
  "cells": [
    {
      "cell_type": "markdown",
      "source": [
        "#**Predicting Transaction Price of Apartments in Tokyo**\n",
        "\n",
        "**Team 4 Members**: Harry Hu, Husain Ghadiali, Raj Patel, Yiwen Fan <br>\n",
        "**Notebook Link**: [Click here](https://colab.research.google.com/drive/1HAjPILBDN2X4FG0xKyMfTfoRqATC1x6C?usp=share_link)"
      ],
      "metadata": {
        "id": "Jrl_1Rm5aqt9"
      }
    },
    {
      "cell_type": "markdown",
      "source": [
        "**Table of Contents**\n",
        "\n",
        "1. [Overview](#scrollTo=S8gjt8gBKTW2)\n",
        "2. [Column Preprocessing & Data Preparation](#scrollTo=RjxQTNdFM6sH)\n",
        "3. [Model Evaluation](#scrollTo=_rHor5TcPHrp&line=1&uniqifier=1)\n",
        "4. [Model Fine Tuning](#scrollTo=46dkqjKr3Zn1)\n",
        "5. [Model Deployment](#scrollTo=JgX5wjmlEuhy)"
      ],
      "metadata": {
        "id": "IUe0ULp8j6WC"
      }
    },
    {
      "cell_type": "markdown",
      "metadata": {
        "id": "S8gjt8gBKTW2"
      },
      "source": [
        "#1.Overview"
      ]
    },
    {
      "cell_type": "markdown",
      "source": [
        "## 1.1 Business Problem"
      ],
      "metadata": {
        "id": "byJUVHjmrTzX"
      }
    },
    {
      "cell_type": "markdown",
      "source": [
        "In this analysis, we aim at predicting the transcation price of a certain apartment in Tokyo, Japan, given a number of attributes.\n",
        "We are using several regression models from `scikit-learn` to build a predictive solution. "
      ],
      "metadata": {
        "id": "CH4fXO6ivsqL"
      }
    },
    {
      "cell_type": "markdown",
      "source": [
        "## 1.2 Motivation"
      ],
      "metadata": {
        "id": "NdeUyHJAxs9h"
      }
    },
    {
      "cell_type": "markdown",
      "source": [
        "Analyzing this data can help us solve several problems. Both the real estate industry and local governments can use this information to make strategic business decisions. Real estate agencies can use this to get a better understanding of the housing market and be able to predict transaction prices based on specific variables. \n",
        "\n",
        "An example of this is determining transaction prices based on location. This can help new and existing homeowners get a better understanding of the value of their properties. \n",
        "\n",
        "\n",
        "Local Governments can also use this analysis to implement better housing policies which can help residents accommodate to affordable living zones within the city. They can also provide tax credits, deductions, and subsidies to residents based on the real estate market."
      ],
      "metadata": {
        "id": "BaBX8c-Q7Isa"
      }
    },
    {
      "cell_type": "markdown",
      "source": [
        "## 1.3 Data Source"
      ],
      "metadata": {
        "id": "vacPhnUUx1tG"
      }
    },
    {
      "cell_type": "markdown",
      "source": [
        "The dataset used in this analysis is collected and provided by Ministry of Land, Infrastructure, Transport and Tourism (MLIT) of Japan. It contains real estate transcation price information of 47 prefectures in Japan. In our analysis, we focus on the real estate transcation price information in Tokyo from 2016 to 2019.\n",
        "\n",
        "Source of the dataset: https://www.land.mlit.go.jp/webland_english/servlet/MainServlet"
      ],
      "metadata": {
        "id": "UqYFRNPOx4lv"
      }
    },
    {
      "cell_type": "markdown",
      "source": [
        "## 1.4 Column Description\n",
        "\n",
        "Detailed descriptions of every column in this dataset are listed in the following table."
      ],
      "metadata": {
        "id": "QlKI9W-OzhDp"
      }
    },
    {
      "cell_type": "markdown",
      "metadata": {
        "id": "SWEfKUs-YNBd"
      },
      "source": [
        "<center><b>Column Description Table</b>\n",
        "\n",
        "Column Name | Description | Data Type | Numeric or Categorical | Null | Comment |\n",
        "----|----|:----:|:----:|:----:|----|\n",
        "0. No <font color ='red'>drop</font> | an extra column contains all the index values |int|-|no|This column is irrelevant to our analysis\n",
        "1. Type <font color ='red'>drop</font> | real estate type | object | - | no |There is redundancy in this column due to having similiar information in the other columns.\n",
        "2. Region <font color ='red'>drop</font> | the characteristics of surrounding areas | object | - | yes | There is redundancy in this column due to having similiar information in the other columns.\n",
        "3. Municipality Code <font color ='red'>drop</font> | City code of Japan | int | - | no | The information in this column is irrelevant to our analysis\n",
        "4. Prefecture <font color ='red'>drop</font> | Prefecture Name of Japan | oject | - | no | Prefecture is equivalent to State. For this analysis we only focus on Tokyo, rendering this column irrelevant.\n",
        "5. Municipality |In which location the property is located|object|categorical| no |1. Change column name to `Location`; 2. `ward` to `urban`, others to `suburban`\n",
        "6. DistrictName <font color ='red'>drop</font> | The name of the district where the property is located | object | - | yes |There is redundancy in this column due to having similiar information in the other columns.\n",
        "7. NearestStation <font color ='red'>drop</font> | The name of the nearest station to the property | object | - | yes | This column is irrelevant to our analysis\n",
        "8. TimeToNearestStation <font color ='red'>drop</font> | Time to the nearest station | object || yes |There is redundancy in this column due to having similiar information in the other columns.\n",
        "9. MinTimeToNearestStation |the minimum time distance (minute) from the location of the property to the nearest train station |float|Numeric|yes| use this column plus `MaxTimeToNearestStation` column to calculate the average time\n",
        "10. MaxTimeToNearestStation |the maximum time distance (minute) from the location of the property to the nearest train station|float|Numeric|yes|1. drop rows where this value is null. 2. calculate average time with min\n",
        "11. TradePrice <font color = 'orange'>response variable</font> | Total transaction value of the property |int|Numeric|no| This is the response variable of our analysis\n",
        "12. FloorPlan |room layout|object|Numeric|no|convert to the number of bedroom\n",
        "13. Area | the registered area ($m^2$) of the property | int | Numeric | no | check for the max value \n",
        "14. AreaIsGreaterFlag <font color ='red'>drop</font> | An area of 2000 $m^2$ or greater, the area data are displayed 2000, and this flag is `true` | int | - | no | This is only a derived column from the `Area` column, which contains redundant information\n",
        "15. Unit Price <font color ='red'>drop</font> | Unit Land Price(Yen) per $m^2$ | float | - | yes | There is redundancy in this column due to having similiar information in the other columns.\n",
        "16. PricePerTsubo <font color ='red'>drop</font>| Unit Land Price(Yen) per Tsubo. Tsubo is a japanese units | float | - | yes | There is redundancy in this column due to having similiar information in the other columns.\n",
        "17. LandShape <font color ='red'>drop</font> | the shape of the land on which the property is located | object | - | yes | This column is irrelevant to our analysis.\n",
        "18. Frontage <font color ='red'>drop</font>| The width of the street in front of the property in ($m$) | float | - | yes |This column is irrelevant to our analysis.\n",
        "19. FrontageIsGreaterFlag <font color ='red'>drop</font> | For properties with frontage data records \"50.0m or longer.\" this flag is set to true | bool | - | no | This column is irrelevant to our analysis.\n",
        "20. TotalFloorArea <font color ='red'>drop</font>| the total Floor Area ($m^2$) | float | - | yes | This column is irrelevant to our analysis.\n",
        "21. TotalFloorAreaIsGreaterFlag <font color ='red'>drop</font>|For data that are \"2,000 $m^2$ or greater”, this flag is set to true | int | - | no | This column is irrelevant to our analysis.\n",
        "22. BuildingYear | construction year of the property | float |Categorical|yes|1. we need to group `BuildingYear` entires into different bins <br> 2. We are using this column and the `Year` (Transaction Year) to calculate the Age of the building\n",
        "23. PrewarBuilding <font color ='red'>drop</font>| buildings built before 1945 are documented as 1945, and the flag is set to true | float | - | yes | There is redundancy in this column due to having similiar information in the other columns.\n",
        "24. Structure | the structure of each building | object | categorical |yes| keep SRC, RC, & S, group all others into 'Others'\n",
        "25. Use | the current usage of the property | object | categorical |yes| keep `house` (include any value with the keyword 'house') and group others into `others`\n",
        "26. Purpose <font color ='red'>drop</font>| the purpose of future use. For example, House, shop, office, factory, warehouse, and other | object | - | yes | There is redundancy in this column due to having similiar information in the other columns.\n",
        "27. Direction <font color ='red'>drop</font>| the direction towards which the property is facing | object | - | yes | This column is irrelevant to our analysis.\n",
        "28. Classification <font color ='red'>drop</font>| frontage road Classification | object | - | yes | This column is irrelevant to our analysis.\n",
        "29. Breadth <font color ='red'>drop</font>| frontage road width(m) | float | - | yes | This column is irrelevant to our analysis.\n",
        "30. CityPlanning | the district names disgnated by the City Planning Act, which represents the use of the block |object|categorical|yes| drop `Outside City Planning Area`, group others into 3 categories\n",
        "31. CoverageRatio <font color ='red'>drop</font>| Maximus Building Coverage Ratio(%)|float|-|yes| This column is irrelevant to our analysis.\n",
        "32. FloorAreaRatio <font color ='red'>drop</font>|Maximus Floor-area Ratio(%)|float|-|yes| This column is irrelevant to our analysis.\n",
        "33. Period <font color ='red'>drop</font>|time of transaction (yea + qaurter column)| object |-|no| There is redundancy in this column due to having similiar information in the other columns.\n",
        "34. Year | transaction Year |int|catgeorical|no| 1.use this and `BuildingYear` to calcualte the age of the Apartment 2. keep the year from 2016 - 2019\n",
        "35. Quarter <font color ='red'>drop</font>|time of transaction year-quarter|int|-|no| There is redundancy in this column due to having similiar information in the other columns.\n",
        "36. Renovation | the state of renovation of the property at the time of transaction |object|categorical|yes| TBD \n",
        "37. Remarks <font color ='red'>drop</font>|Note from the people who put together the dataset|object|-|yes| This column is irrelevant to our analysis.\n",
        "\n",
        "</center>\n",
        "<br><br>\n",
        "\n",
        "After dropping the extra columns, we end up with 13 columns in total. Among which, the response variable is `tradePrice`. There are 8 categorical features, and 4 numerical features."
      ]
    },
    {
      "cell_type": "markdown",
      "source": [
        "##1.5 Basic Overview of the Dataset\n",
        "\n"
      ],
      "metadata": {
        "id": "G6_LULcwYIK-"
      }
    },
    {
      "cell_type": "markdown",
      "source": [
        "In this section we explore the housing dataset. We check for null values, count of unique values, and perform other basic explorations to have a holistic view of the dataset."
      ],
      "metadata": {
        "id": "4BzbpIkfqytK"
      }
    },
    {
      "cell_type": "code",
      "execution_count": null,
      "metadata": {
        "id": "C1hkh2ttBoe_"
      },
      "outputs": [],
      "source": [
        "import pandas as pd\n",
        "import numpy as np\n",
        "import matplotlib.pyplot as plt\n",
        "import seaborn as sns\n",
        "from sklearn.preprocessing import scale\n",
        "from sklearn.linear_model import LinearRegression\n",
        "from sklearn.model_selection import cross_validate\n",
        "from sklearn.metrics import mean_squared_error, r2_score\n",
        "\n",
        "import warnings\n",
        "warnings.filterwarnings(\"ignore\")\n",
        "\n",
        "%matplotlib inline\n",
        "plt.style.use('seaborn-white')"
      ]
    },
    {
      "cell_type": "code",
      "execution_count": null,
      "metadata": {
        "colab": {
          "base_uri": "https://localhost:8080/"
        },
        "id": "Rp0QDga1B_Uz",
        "outputId": "1d6d3121-8f24-46e6-8110-805d1f111f0b"
      },
      "outputs": [
        {
          "output_type": "stream",
          "name": "stdout",
          "text": [
            "Mounted at /content/drive\n"
          ]
        },
        {
          "output_type": "execute_result",
          "data": {
            "text/plain": [
              "(406575, 38)"
            ]
          },
          "metadata": {},
          "execution_count": 2
        }
      ],
      "source": [
        "from google.colab import drive\n",
        "drive.mount('/content/drive', force_remount=True)\n",
        "data_folder = '/content/drive/Shareddrives/ba810 group project/data/'\n",
        "house = pd.read_csv(data_folder + 'Japan Real Estate Prices by MLIT (original data) .csv',index_col = False)\n",
        "house.shape"
      ]
    },
    {
      "cell_type": "code",
      "execution_count": null,
      "metadata": {
        "colab": {
          "base_uri": "https://localhost:8080/"
        },
        "id": "wAC9ww4oCdDO",
        "outputId": "296fc0fa-27f8-4191-aba7-1097bdae7a5f"
      },
      "outputs": [
        {
          "output_type": "stream",
          "name": "stdout",
          "text": [
            "<class 'pandas.core.frame.DataFrame'>\n",
            "RangeIndex: 406575 entries, 0 to 406574\n",
            "Data columns (total 38 columns):\n",
            " #   Column                       Non-Null Count   Dtype  \n",
            "---  ------                       --------------   -----  \n",
            " 0   No                           406575 non-null  int64  \n",
            " 1   Type                         406575 non-null  object \n",
            " 2   Region                       221704 non-null  object \n",
            " 3   MunicipalityCode             406575 non-null  int64  \n",
            " 4   Prefecture                   406575 non-null  object \n",
            " 5   Municipality                 406575 non-null  object \n",
            " 6   DistrictName                 406329 non-null  object \n",
            " 7   NearestStation               404847 non-null  object \n",
            " 8   TimeToNearestStation         396236 non-null  object \n",
            " 9   MinTimeToNearestStation      396236 non-null  float64\n",
            " 10  MaxTimeToNearestStation      396086 non-null  float64\n",
            " 11  TradePrice                   406575 non-null  int64  \n",
            " 12  FloorPlan                    178131 non-null  object \n",
            " 13  Area                         406575 non-null  int64  \n",
            " 14  AreaIsGreaterFlag            406575 non-null  int64  \n",
            " 15  UnitPrice                    79503 non-null   float64\n",
            " 16  PricePerTsubo                79503 non-null   float64\n",
            " 17  LandShape                    221302 non-null  object \n",
            " 18  Frontage                     202887 non-null  float64\n",
            " 19  FrontageIsGreaterFlag        406575 non-null  bool   \n",
            " 20  TotalFloorArea               136425 non-null  float64\n",
            " 21  TotalFloorAreaIsGreaterFlag  406575 non-null  int64  \n",
            " 22  BuildingYear                 314296 non-null  float64\n",
            " 23  PrewarBuilding               406575 non-null  int64  \n",
            " 24  Structure                    318357 non-null  object \n",
            " 25  Use                          308690 non-null  object \n",
            " 26  Purpose                      157731 non-null  object \n",
            " 27  Direction                    221280 non-null  object \n",
            " 28  Classification               218833 non-null  object \n",
            " 29  Breadth                      217602 non-null  float64\n",
            " 30  CityPlanning                 402749 non-null  object \n",
            " 31  CoverageRatio                400660 non-null  float64\n",
            " 32  FloorAreaRatio               400660 non-null  float64\n",
            " 33  Period                       406575 non-null  object \n",
            " 34  Year                         406575 non-null  int64  \n",
            " 35  Quarter                      406575 non-null  int64  \n",
            " 36  Renovation                   166501 non-null  object \n",
            " 37  Remarks                      31766 non-null   object \n",
            "dtypes: bool(1), float64(10), int64(9), object(18)\n",
            "memory usage: 115.2+ MB\n"
          ]
        }
      ],
      "source": [
        "house.info()"
      ]
    },
    {
      "cell_type": "code",
      "execution_count": null,
      "metadata": {
        "colab": {
          "base_uri": "https://localhost:8080/"
        },
        "id": "OxiR4lsGCe8O",
        "outputId": "5b0a8fb8-111c-4e35-8bcb-53adfe7a9393"
      },
      "outputs": [
        {
          "output_type": "execute_result",
          "data": {
            "text/plain": [
              "No                             406575\n",
              "Type                                5\n",
              "Region                              4\n",
              "MunicipalityCode                   59\n",
              "Prefecture                          1\n",
              "Municipality                       59\n",
              "DistrictName                     1448\n",
              "NearestStation                    657\n",
              "TimeToNearestStation               34\n",
              "MinTimeToNearestStation            34\n",
              "MaxTimeToNearestStation            33\n",
              "TradePrice                        504\n",
              "FloorPlan                          48\n",
              "Area                              157\n",
              "AreaIsGreaterFlag                   2\n",
              "UnitPrice                         412\n",
              "PricePerTsubo                     408\n",
              "LandShape                           9\n",
              "Frontage                          477\n",
              "FrontageIsGreaterFlag               2\n",
              "TotalFloorArea                    129\n",
              "TotalFloorAreaIsGreaterFlag         2\n",
              "BuildingYear                       76\n",
              "PrewarBuilding                      2\n",
              "Structure                          26\n",
              "Use                               206\n",
              "Purpose                             6\n",
              "Direction                           9\n",
              "Classification                     14\n",
              "Breadth                           382\n",
              "CityPlanning                       16\n",
              "CoverageRatio                       6\n",
              "FloorAreaRatio                     17\n",
              "Period                             57\n",
              "Year                               15\n",
              "Quarter                             4\n",
              "Renovation                          2\n",
              "Remarks                            25\n",
              "dtype: int64"
            ]
          },
          "metadata": {},
          "execution_count": 4
        }
      ],
      "source": [
        "house.nunique()"
      ]
    },
    {
      "cell_type": "code",
      "execution_count": null,
      "metadata": {
        "colab": {
          "base_uri": "https://localhost:8080/",
          "height": 457
        },
        "id": "Cyun272SDr71",
        "outputId": "ff5b9e5b-c27f-4458-dd74-f17ce4ef002a"
      },
      "outputs": [
        {
          "output_type": "execute_result",
          "data": {
            "text/plain": [
              "   No                                 Type           Region  MunicipalityCode  \\\n",
              "0   1         Pre-owned Condominiums, etc.              NaN             13101   \n",
              "1   2         Pre-owned Condominiums, etc.              NaN             13101   \n",
              "2   3  Residential Land(Land and Building)  Commercial Area             13101   \n",
              "3   4  Residential Land(Land and Building)  Commercial Area             13101   \n",
              "4   5         Pre-owned Condominiums, etc.              NaN             13101   \n",
              "\n",
              "  Prefecture  Municipality DistrictName NearestStation TimeToNearestStation  \\\n",
              "0      Tokyo  Chiyoda Ward    Iidabashi      Iidabashi                    4   \n",
              "1      Tokyo  Chiyoda Ward    Iidabashi      Iidabashi                    4   \n",
              "2      Tokyo  Chiyoda Ward    Iidabashi      Iidabashi                    2   \n",
              "3      Tokyo  Chiyoda Ward    Iidabashi      Iidabashi                    1   \n",
              "4      Tokyo  Chiyoda Ward    Iidabashi      Iidabashi                    4   \n",
              "\n",
              "   MinTimeToNearestStation  ...           Classification  Breadth  \\\n",
              "0                      4.0  ...                      NaN      NaN   \n",
              "1                      4.0  ...                      NaN      NaN   \n",
              "2                      2.0  ...                Ward Road      4.0   \n",
              "3                      1.0  ...  Tokyo Metropolitan Road     27.0   \n",
              "4                      4.0  ...                      NaN      NaN   \n",
              "\n",
              "      CityPlanning  CoverageRatio  FloorAreaRatio            Period  Year  \\\n",
              "0  Commercial Zone           80.0           500.0  3rd quarter 2019  2019   \n",
              "1  Commercial Zone           80.0           500.0  3rd quarter 2019  2019   \n",
              "2  Commercial Zone           80.0           500.0  2nd quarter 2019  2019   \n",
              "3  Commercial Zone           80.0           700.0  2nd quarter 2019  2019   \n",
              "4  Commercial Zone           80.0           500.0  2nd quarter 2019  2019   \n",
              "\n",
              "  Quarter  Renovation  Remarks  \n",
              "0       3     Not yet      NaN  \n",
              "1       3        Done      NaN  \n",
              "2       2         NaN      NaN  \n",
              "3       2         NaN      NaN  \n",
              "4       2        Done      NaN  \n",
              "\n",
              "[5 rows x 38 columns]"
            ],
            "text/html": [
              "\n",
              "  <div id=\"df-d8eed307-a97b-4795-9dec-3b79d8abc438\">\n",
              "    <div class=\"colab-df-container\">\n",
              "      <div>\n",
              "<style scoped>\n",
              "    .dataframe tbody tr th:only-of-type {\n",
              "        vertical-align: middle;\n",
              "    }\n",
              "\n",
              "    .dataframe tbody tr th {\n",
              "        vertical-align: top;\n",
              "    }\n",
              "\n",
              "    .dataframe thead th {\n",
              "        text-align: right;\n",
              "    }\n",
              "</style>\n",
              "<table border=\"1\" class=\"dataframe\">\n",
              "  <thead>\n",
              "    <tr style=\"text-align: right;\">\n",
              "      <th></th>\n",
              "      <th>No</th>\n",
              "      <th>Type</th>\n",
              "      <th>Region</th>\n",
              "      <th>MunicipalityCode</th>\n",
              "      <th>Prefecture</th>\n",
              "      <th>Municipality</th>\n",
              "      <th>DistrictName</th>\n",
              "      <th>NearestStation</th>\n",
              "      <th>TimeToNearestStation</th>\n",
              "      <th>MinTimeToNearestStation</th>\n",
              "      <th>...</th>\n",
              "      <th>Classification</th>\n",
              "      <th>Breadth</th>\n",
              "      <th>CityPlanning</th>\n",
              "      <th>CoverageRatio</th>\n",
              "      <th>FloorAreaRatio</th>\n",
              "      <th>Period</th>\n",
              "      <th>Year</th>\n",
              "      <th>Quarter</th>\n",
              "      <th>Renovation</th>\n",
              "      <th>Remarks</th>\n",
              "    </tr>\n",
              "  </thead>\n",
              "  <tbody>\n",
              "    <tr>\n",
              "      <th>0</th>\n",
              "      <td>1</td>\n",
              "      <td>Pre-owned Condominiums, etc.</td>\n",
              "      <td>NaN</td>\n",
              "      <td>13101</td>\n",
              "      <td>Tokyo</td>\n",
              "      <td>Chiyoda Ward</td>\n",
              "      <td>Iidabashi</td>\n",
              "      <td>Iidabashi</td>\n",
              "      <td>4</td>\n",
              "      <td>4.0</td>\n",
              "      <td>...</td>\n",
              "      <td>NaN</td>\n",
              "      <td>NaN</td>\n",
              "      <td>Commercial Zone</td>\n",
              "      <td>80.0</td>\n",
              "      <td>500.0</td>\n",
              "      <td>3rd quarter 2019</td>\n",
              "      <td>2019</td>\n",
              "      <td>3</td>\n",
              "      <td>Not yet</td>\n",
              "      <td>NaN</td>\n",
              "    </tr>\n",
              "    <tr>\n",
              "      <th>1</th>\n",
              "      <td>2</td>\n",
              "      <td>Pre-owned Condominiums, etc.</td>\n",
              "      <td>NaN</td>\n",
              "      <td>13101</td>\n",
              "      <td>Tokyo</td>\n",
              "      <td>Chiyoda Ward</td>\n",
              "      <td>Iidabashi</td>\n",
              "      <td>Iidabashi</td>\n",
              "      <td>4</td>\n",
              "      <td>4.0</td>\n",
              "      <td>...</td>\n",
              "      <td>NaN</td>\n",
              "      <td>NaN</td>\n",
              "      <td>Commercial Zone</td>\n",
              "      <td>80.0</td>\n",
              "      <td>500.0</td>\n",
              "      <td>3rd quarter 2019</td>\n",
              "      <td>2019</td>\n",
              "      <td>3</td>\n",
              "      <td>Done</td>\n",
              "      <td>NaN</td>\n",
              "    </tr>\n",
              "    <tr>\n",
              "      <th>2</th>\n",
              "      <td>3</td>\n",
              "      <td>Residential Land(Land and Building)</td>\n",
              "      <td>Commercial Area</td>\n",
              "      <td>13101</td>\n",
              "      <td>Tokyo</td>\n",
              "      <td>Chiyoda Ward</td>\n",
              "      <td>Iidabashi</td>\n",
              "      <td>Iidabashi</td>\n",
              "      <td>2</td>\n",
              "      <td>2.0</td>\n",
              "      <td>...</td>\n",
              "      <td>Ward Road</td>\n",
              "      <td>4.0</td>\n",
              "      <td>Commercial Zone</td>\n",
              "      <td>80.0</td>\n",
              "      <td>500.0</td>\n",
              "      <td>2nd quarter 2019</td>\n",
              "      <td>2019</td>\n",
              "      <td>2</td>\n",
              "      <td>NaN</td>\n",
              "      <td>NaN</td>\n",
              "    </tr>\n",
              "    <tr>\n",
              "      <th>3</th>\n",
              "      <td>4</td>\n",
              "      <td>Residential Land(Land and Building)</td>\n",
              "      <td>Commercial Area</td>\n",
              "      <td>13101</td>\n",
              "      <td>Tokyo</td>\n",
              "      <td>Chiyoda Ward</td>\n",
              "      <td>Iidabashi</td>\n",
              "      <td>Iidabashi</td>\n",
              "      <td>1</td>\n",
              "      <td>1.0</td>\n",
              "      <td>...</td>\n",
              "      <td>Tokyo Metropolitan Road</td>\n",
              "      <td>27.0</td>\n",
              "      <td>Commercial Zone</td>\n",
              "      <td>80.0</td>\n",
              "      <td>700.0</td>\n",
              "      <td>2nd quarter 2019</td>\n",
              "      <td>2019</td>\n",
              "      <td>2</td>\n",
              "      <td>NaN</td>\n",
              "      <td>NaN</td>\n",
              "    </tr>\n",
              "    <tr>\n",
              "      <th>4</th>\n",
              "      <td>5</td>\n",
              "      <td>Pre-owned Condominiums, etc.</td>\n",
              "      <td>NaN</td>\n",
              "      <td>13101</td>\n",
              "      <td>Tokyo</td>\n",
              "      <td>Chiyoda Ward</td>\n",
              "      <td>Iidabashi</td>\n",
              "      <td>Iidabashi</td>\n",
              "      <td>4</td>\n",
              "      <td>4.0</td>\n",
              "      <td>...</td>\n",
              "      <td>NaN</td>\n",
              "      <td>NaN</td>\n",
              "      <td>Commercial Zone</td>\n",
              "      <td>80.0</td>\n",
              "      <td>500.0</td>\n",
              "      <td>2nd quarter 2019</td>\n",
              "      <td>2019</td>\n",
              "      <td>2</td>\n",
              "      <td>Done</td>\n",
              "      <td>NaN</td>\n",
              "    </tr>\n",
              "  </tbody>\n",
              "</table>\n",
              "<p>5 rows × 38 columns</p>\n",
              "</div>\n",
              "      <button class=\"colab-df-convert\" onclick=\"convertToInteractive('df-d8eed307-a97b-4795-9dec-3b79d8abc438')\"\n",
              "              title=\"Convert this dataframe to an interactive table.\"\n",
              "              style=\"display:none;\">\n",
              "        \n",
              "  <svg xmlns=\"http://www.w3.org/2000/svg\" height=\"24px\"viewBox=\"0 0 24 24\"\n",
              "       width=\"24px\">\n",
              "    <path d=\"M0 0h24v24H0V0z\" fill=\"none\"/>\n",
              "    <path d=\"M18.56 5.44l.94 2.06.94-2.06 2.06-.94-2.06-.94-.94-2.06-.94 2.06-2.06.94zm-11 1L8.5 8.5l.94-2.06 2.06-.94-2.06-.94L8.5 2.5l-.94 2.06-2.06.94zm10 10l.94 2.06.94-2.06 2.06-.94-2.06-.94-.94-2.06-.94 2.06-2.06.94z\"/><path d=\"M17.41 7.96l-1.37-1.37c-.4-.4-.92-.59-1.43-.59-.52 0-1.04.2-1.43.59L10.3 9.45l-7.72 7.72c-.78.78-.78 2.05 0 2.83L4 21.41c.39.39.9.59 1.41.59.51 0 1.02-.2 1.41-.59l7.78-7.78 2.81-2.81c.8-.78.8-2.07 0-2.86zM5.41 20L4 18.59l7.72-7.72 1.47 1.35L5.41 20z\"/>\n",
              "  </svg>\n",
              "      </button>\n",
              "      \n",
              "  <style>\n",
              "    .colab-df-container {\n",
              "      display:flex;\n",
              "      flex-wrap:wrap;\n",
              "      gap: 12px;\n",
              "    }\n",
              "\n",
              "    .colab-df-convert {\n",
              "      background-color: #E8F0FE;\n",
              "      border: none;\n",
              "      border-radius: 50%;\n",
              "      cursor: pointer;\n",
              "      display: none;\n",
              "      fill: #1967D2;\n",
              "      height: 32px;\n",
              "      padding: 0 0 0 0;\n",
              "      width: 32px;\n",
              "    }\n",
              "\n",
              "    .colab-df-convert:hover {\n",
              "      background-color: #E2EBFA;\n",
              "      box-shadow: 0px 1px 2px rgba(60, 64, 67, 0.3), 0px 1px 3px 1px rgba(60, 64, 67, 0.15);\n",
              "      fill: #174EA6;\n",
              "    }\n",
              "\n",
              "    [theme=dark] .colab-df-convert {\n",
              "      background-color: #3B4455;\n",
              "      fill: #D2E3FC;\n",
              "    }\n",
              "\n",
              "    [theme=dark] .colab-df-convert:hover {\n",
              "      background-color: #434B5C;\n",
              "      box-shadow: 0px 1px 3px 1px rgba(0, 0, 0, 0.15);\n",
              "      filter: drop-shadow(0px 1px 2px rgba(0, 0, 0, 0.3));\n",
              "      fill: #FFFFFF;\n",
              "    }\n",
              "  </style>\n",
              "\n",
              "      <script>\n",
              "        const buttonEl =\n",
              "          document.querySelector('#df-d8eed307-a97b-4795-9dec-3b79d8abc438 button.colab-df-convert');\n",
              "        buttonEl.style.display =\n",
              "          google.colab.kernel.accessAllowed ? 'block' : 'none';\n",
              "\n",
              "        async function convertToInteractive(key) {\n",
              "          const element = document.querySelector('#df-d8eed307-a97b-4795-9dec-3b79d8abc438');\n",
              "          const dataTable =\n",
              "            await google.colab.kernel.invokeFunction('convertToInteractive',\n",
              "                                                     [key], {});\n",
              "          if (!dataTable) return;\n",
              "\n",
              "          const docLinkHtml = 'Like what you see? Visit the ' +\n",
              "            '<a target=\"_blank\" href=https://colab.research.google.com/notebooks/data_table.ipynb>data table notebook</a>'\n",
              "            + ' to learn more about interactive tables.';\n",
              "          element.innerHTML = '';\n",
              "          dataTable['output_type'] = 'display_data';\n",
              "          await google.colab.output.renderOutput(dataTable, element);\n",
              "          const docLink = document.createElement('div');\n",
              "          docLink.innerHTML = docLinkHtml;\n",
              "          element.appendChild(docLink);\n",
              "        }\n",
              "      </script>\n",
              "    </div>\n",
              "  </div>\n",
              "  "
            ]
          },
          "metadata": {},
          "execution_count": 5
        }
      ],
      "source": [
        "house.head(5)"
      ]
    },
    {
      "cell_type": "code",
      "execution_count": null,
      "metadata": {
        "id": "R94r0n69fcLD"
      },
      "outputs": [],
      "source": [
        "df = house.copy()"
      ]
    },
    {
      "cell_type": "code",
      "execution_count": null,
      "metadata": {
        "id": "h86Y4aIbffd3"
      },
      "outputs": [],
      "source": [
        "# dropping columns, keep TimeToNearestStation as we need it for transformation later\n",
        "\n",
        "df = df.drop(df.columns[[0, 1, 2, 3, 4, 6, 7, 14, 15, 16, 17, 18, 19, 20, 21, 23, 26, 27, 28, 29, 31, 32, 33, 35, 36, 37]], axis = 1)"
      ]
    },
    {
      "cell_type": "code",
      "execution_count": null,
      "metadata": {
        "colab": {
          "base_uri": "https://localhost:8080/"
        },
        "id": "b1GOW2B-gAYb",
        "outputId": "a79c8822-58fc-4c50-88d5-02b28e8443e0"
      },
      "outputs": [
        {
          "output_type": "execute_result",
          "data": {
            "text/plain": [
              "Index(['Municipality', 'TimeToNearestStation', 'MinTimeToNearestStation',\n",
              "       'MaxTimeToNearestStation', 'TradePrice', 'FloorPlan', 'Area',\n",
              "       'BuildingYear', 'Structure', 'Use', 'CityPlanning', 'Year'],\n",
              "      dtype='object')"
            ]
          },
          "metadata": {},
          "execution_count": 8
        }
      ],
      "source": [
        "df.columns"
      ]
    },
    {
      "cell_type": "code",
      "execution_count": null,
      "metadata": {
        "id": "qQRbBNzjgRe_"
      },
      "outputs": [],
      "source": [
        "# keep records after 2016\n",
        "\n",
        "df = df[df['Year'] > 2015]"
      ]
    },
    {
      "cell_type": "code",
      "execution_count": null,
      "metadata": {
        "colab": {
          "base_uri": "https://localhost:8080/"
        },
        "id": "Kgf0XDp8geyO",
        "outputId": "7234e49c-d678-4211-abfd-7408286eb803"
      },
      "outputs": [
        {
          "output_type": "execute_result",
          "data": {
            "text/plain": [
              "count    114467.000000\n",
              "mean       2017.315689\n",
              "std           1.054274\n",
              "min        2016.000000\n",
              "25%        2016.000000\n",
              "50%        2017.000000\n",
              "75%        2018.000000\n",
              "max        2019.000000\n",
              "Name: Year, dtype: float64"
            ]
          },
          "metadata": {},
          "execution_count": 10
        }
      ],
      "source": [
        "# check year values\n",
        "\n",
        "df.Year.describe()"
      ]
    },
    {
      "cell_type": "code",
      "execution_count": null,
      "metadata": {
        "id": "WjgdaL-IjVkt"
      },
      "outputs": [],
      "source": [
        "# keep only the records on apartments\n",
        "# drop all houses which do not have floorplan (only properties with floorplan are apartments)\n",
        "\n",
        "df = df.dropna(subset = ['FloorPlan']) \n",
        "\n",
        "not_apart = ['Open Floor', 'Duplex'] # these two types are also not apartments\n",
        "df = df[df.FloorPlan.isin(not_apart) == False]"
      ]
    },
    {
      "cell_type": "markdown",
      "metadata": {
        "id": "cOfEAhDHKxXw"
      },
      "source": [
        "##1.6 Correlation Analysis"
      ]
    },
    {
      "cell_type": "markdown",
      "source": [
        "From the heatmap, there is a relatively strong correlation between `Area` and `TradePrice`. Correlation coefficients between `MinTimeToNearestStation` and `MaxTimeToNearestStation` is close to 1, however, it's clear that collinearity occurs between these two variables."
      ],
      "metadata": {
        "id": "oMuLtK-11WKI"
      }
    },
    {
      "cell_type": "code",
      "execution_count": null,
      "metadata": {
        "id": "DWN3dkQgK2HR",
        "colab": {
          "base_uri": "https://localhost:8080/",
          "height": 581
        },
        "outputId": "6fd29169-825e-4d9e-b780-fd3ab59bffa5"
      },
      "outputs": [
        {
          "output_type": "display_data",
          "data": {
            "text/plain": [
              "<Figure size 576x576 with 2 Axes>"
            ],
            "image/png": "[encoded data removed]"
          },
          "metadata": {}
        }
      ],
      "source": [
        "# Correlation between numeric variables\n",
        "\n",
        "attributes = [\"TradePrice\", \"Area\", \"MinTimeToNearestStation\",\n",
        "              \"MaxTimeToNearestStation\"]\n",
        "\n",
        "corr = df[attributes].corr()\n",
        "\n",
        "f, ax = plt.subplots(figsize=(8, 8))\n",
        "\n",
        "ax = sns.heatmap(corr, annot=True, cmap=\"YlGnBu\")\n",
        "ax.set_xticklabels(attributes, rotation=45, fontsize = 12)\n",
        "ax.set_yticklabels(attributes, rotation=0, fontsize = 12);"
      ]
    },
    {
      "cell_type": "code",
      "execution_count": null,
      "metadata": {
        "colab": {
          "base_uri": "https://localhost:8080/"
        },
        "id": "Iul_OqV_K5WB",
        "outputId": "b0b47ab6-6cdc-4790-8264-217958c0b3b3"
      },
      "outputs": [
        {
          "output_type": "execute_result",
          "data": {
            "text/plain": [
              "TradePrice                 1.000000\n",
              "Area                       0.572674\n",
              "MinTimeToNearestStation   -0.070975\n",
              "MaxTimeToNearestStation   -0.075529\n",
              "Name: TradePrice, dtype: float64"
            ]
          },
          "metadata": {},
          "execution_count": 13
        }
      ],
      "source": [
        "corr[\"TradePrice\"].sort_values(ascending=False)"
      ]
    },
    {
      "cell_type": "code",
      "execution_count": null,
      "metadata": {
        "colab": {
          "base_uri": "https://localhost:8080/",
          "height": 151
        },
        "id": "VNy2ebKXLDxk",
        "outputId": "7ae0c18c-06b1-497c-8e60-45fb41377062"
      },
      "outputs": [
        {
          "output_type": "display_data",
          "data": {
            "text/plain": [
              "<Figure size 432x288 with 0 Axes>"
            ]
          },
          "metadata": {}
        },
        {
          "output_type": "display_data",
          "data": {
            "text/plain": [
              "<Figure size 864x720 with 16 Axes>"
            ],
            "image/png": "[encoded data removed]"
          },
          "metadata": {}
        }
      ],
      "source": [
        "from pandas.plotting import scatter_matrix\n",
        "plt.clf()\n",
        "attributes = [\"TradePrice\", \"Area\", \"MinTimeToNearestStation\",\n",
        "              \"MaxTimeToNearestStation\"]\n",
        "scatter_matrix(df[attributes], figsize=(12, 10))\n",
        "plt.show()"
      ]
    },
    {
      "cell_type": "markdown",
      "metadata": {
        "id": "RjxQTNdFM6sH"
      },
      "source": [
        "#2.Column Preprocessing & Data Preparation"
      ]
    },
    {
      "cell_type": "markdown",
      "metadata": {
        "id": "TosaBOUaM_E5"
      },
      "source": [
        "##2.1 Column Transformations"
      ]
    },
    {
      "cell_type": "markdown",
      "metadata": {
        "id": "0Qej8xhaWoxY"
      },
      "source": [
        "###2.1.1 Municipality"
      ]
    },
    {
      "cell_type": "markdown",
      "source": [
        "Approximately three-quarters of the population of Tokyo Metropolis live in the “23 special wards” which are located in the eastern section of Tokyo. The remainder living in outer Tokyo which accounts for approximately two-thirds of the land area. \n",
        "\n",
        "For the 50 nested labels within the `municipality` column, if they contain the keyword `ward` we map them into the `Urban` category and rest to `Suburban`."
      ],
      "metadata": {
        "id": "daC4b0NF34P9"
      }
    },
    {
      "cell_type": "code",
      "execution_count": null,
      "metadata": {
        "colab": {
          "base_uri": "https://localhost:8080/"
        },
        "outputId": "544864c6-e6dc-4e9c-d3fa-fc92bb9d8240",
        "id": "FpWs4FFQWoxd"
      },
      "outputs": [
        {
          "output_type": "execute_result",
          "data": {
            "text/plain": [
              "Urban       45733\n",
              "Suburban     7734\n",
              "Name: Location, dtype: int64"
            ]
          },
          "metadata": {},
          "execution_count": 15
        }
      ],
      "source": [
        "# Group records contain word \"ward\" as \"Urban\", and the others as \"Suburban\"\n",
        "\n",
        "df[\"Location\"] = np.where(df[\"Municipality\"].str.contains(\" Ward\"), \"Urban\", \"Suburban\")\n",
        "df.Location.value_counts()"
      ]
    },
    {
      "cell_type": "code",
      "execution_count": null,
      "metadata": {
        "id": "aMpsWpVMWoxd"
      },
      "outputs": [],
      "source": [
        "# drop Municipality column\n",
        "\n",
        "df.drop(columns = 'Municipality', axis = 1, inplace = True)"
      ]
    },
    {
      "cell_type": "code",
      "execution_count": null,
      "metadata": {
        "colab": {
          "base_uri": "https://localhost:8080/"
        },
        "outputId": "08cdeb97-57da-4f08-a861-5a12a9a64c79",
        "id": "UxHqnNZyWoxd"
      },
      "outputs": [
        {
          "output_type": "execute_result",
          "data": {
            "text/plain": [
              "Index(['TimeToNearestStation', 'MinTimeToNearestStation',\n",
              "       'MaxTimeToNearestStation', 'TradePrice', 'FloorPlan', 'Area',\n",
              "       'BuildingYear', 'Structure', 'Use', 'CityPlanning', 'Year', 'Location'],\n",
              "      dtype='object')"
            ]
          },
          "metadata": {},
          "execution_count": 17
        }
      ],
      "source": [
        "df.columns"
      ]
    },
    {
      "cell_type": "markdown",
      "metadata": {
        "id": "uw0oaegUWoxd"
      },
      "source": [
        "###2.1.2 Min & Max time to nearest station"
      ]
    },
    {
      "cell_type": "markdown",
      "source": [
        "`TimeToNearestStation` shows the the time distance (in minutes) from the location of the property to the nearest train station (for subway, to the ground entrance). \n",
        "\n",
        "For the non-numeric values in `TimeToNearestStation`, for example \"1H-1H30\", are splitted as `60` into `MinTimeToNearestStation` and as `90` into `MaxTimeToNearestStation`. \n",
        "\n",
        "We calculate the average time to the nearest station based on the values from `MinTimeToNearestStation` and `MaxTimeToNearestStation`. "
      ],
      "metadata": {
        "id": "xMUxNH0uB3Wn"
      }
    },
    {
      "cell_type": "code",
      "execution_count": null,
      "metadata": {
        "colab": {
          "base_uri": "https://localhost:8080/"
        },
        "outputId": "3fdb7361-5f9b-4e37-a86a-66653026d7af",
        "id": "4rR8XQsHWoxd"
      },
      "outputs": [
        {
          "output_type": "stream",
          "name": "stdout",
          "text": [
            "<class 'pandas.core.frame.DataFrame'>\n",
            "Int64Index: 53467 entries, 0 to 358449\n",
            "Data columns (total 13 columns):\n",
            " #   Column                   Non-Null Count  Dtype  \n",
            "---  ------                   --------------  -----  \n",
            " 0   TimeToNearestStation     53402 non-null  object \n",
            " 1   MinTimeToNearestStation  53402 non-null  float64\n",
            " 2   MaxTimeToNearestStation  53397 non-null  float64\n",
            " 3   TradePrice               53467 non-null  int64  \n",
            " 4   FloorPlan                53467 non-null  object \n",
            " 5   Area                     53467 non-null  int64  \n",
            " 6   BuildingYear             52084 non-null  float64\n",
            " 7   Structure                52688 non-null  object \n",
            " 8   Use                      43397 non-null  object \n",
            " 9   CityPlanning             52998 non-null  object \n",
            " 10  Year                     53467 non-null  int64  \n",
            " 11  Location                 53467 non-null  object \n",
            " 12  AvgTimeToNearestStation  53402 non-null  float64\n",
            "dtypes: float64(4), int64(3), object(6)\n",
            "memory usage: 5.7+ MB\n"
          ]
        }
      ],
      "source": [
        "# use these two columns to calculate the average time to neareast station\n",
        "\n",
        "df['AvgTimeToNearestStation'] = df[['MinTimeToNearestStation','MaxTimeToNearestStation']].mean(axis = 1)\n",
        "df.info()"
      ]
    },
    {
      "cell_type": "code",
      "execution_count": null,
      "metadata": {
        "id": "8zniJqY6Woxd"
      },
      "outputs": [],
      "source": [
        "# Changing these particular AvgtimeToNearestStation with \"2H-\" to NaN\n",
        "\n",
        "df.loc[df.TimeToNearestStation == '2H-', 'AvgTimeToNearestStation'] = np.NaN"
      ]
    },
    {
      "cell_type": "code",
      "execution_count": null,
      "metadata": {
        "id": "XPNk5OrLWoxd"
      },
      "outputs": [],
      "source": [
        "# Drop TimeToNearestStation, MinTimeToNearestStation, and MaxTimeToNearestStation\n",
        "\n",
        "df = df.drop(df.columns[[0,1,2]], axis = 1)"
      ]
    },
    {
      "cell_type": "markdown",
      "metadata": {
        "id": "3w5eWrOWWoxd"
      },
      "source": [
        "###2.1.3 FloorPlan"
      ]
    },
    {
      "cell_type": "markdown",
      "source": [
        "For the `FloorPlan`, it contains information about the room layout of each property, for example: 1K, 2LDK, 3LDK, 4LDK and etc. \n",
        "\n",
        "We create a new column named `RoomCount` storing only the first number of the labels which represent the number of bedrooms in each property."
      ],
      "metadata": {
        "id": "TNAyALI3M5_L"
      }
    },
    {
      "cell_type": "code",
      "execution_count": null,
      "metadata": {
        "id": "rI4EzpaVWoxd"
      },
      "outputs": [],
      "source": [
        "# create a new RoomCount column, to get the first number (which represents # of the bedroom) from the values of the FloorPlan column\n",
        "\n",
        "df[\"RoomCount\"] = df[\"FloorPlan\"].apply(lambda x: x[0])"
      ]
    },
    {
      "cell_type": "code",
      "execution_count": null,
      "metadata": {
        "id": "G6RXcRSkWoxd"
      },
      "outputs": [],
      "source": [
        "# for StudioApartment, we are changing the letter S to 1\n",
        "\n",
        "df[\"RoomCount\"] = df[\"RoomCount\"].replace('S','1')"
      ]
    },
    {
      "cell_type": "code",
      "execution_count": null,
      "metadata": {
        "id": "_n4JpfTGWoxd"
      },
      "outputs": [],
      "source": [
        "# convert the entire column into integer\n",
        "\n",
        "df['RoomCount'] = df['RoomCount'].astype(int)"
      ]
    },
    {
      "cell_type": "code",
      "execution_count": null,
      "metadata": {
        "colab": {
          "base_uri": "https://localhost:8080/"
        },
        "outputId": "c2e75e66-9a68-4ddf-be8e-f69e44b0b2c8",
        "id": "WfNEDhipWoxd"
      },
      "outputs": [
        {
          "output_type": "execute_result",
          "data": {
            "text/plain": [
              "0         1\n",
              "1         3\n",
              "4         2\n",
              "6         1\n",
              "7         1\n",
              "         ..\n",
              "357658    3\n",
              "357662    3\n",
              "358297    1\n",
              "358300    2\n",
              "358449    2\n",
              "Name: RoomCount, Length: 53467, dtype: int64"
            ]
          },
          "metadata": {},
          "execution_count": 24
        }
      ],
      "source": [
        "# check the RoomCount column\n",
        "\n",
        "df.RoomCount"
      ]
    },
    {
      "cell_type": "code",
      "execution_count": null,
      "metadata": {
        "id": "B78P_usrWoxd"
      },
      "outputs": [],
      "source": [
        "# drop FloorPlan column\n",
        "\n",
        "df.drop(columns = 'FloorPlan', inplace = True)"
      ]
    },
    {
      "cell_type": "code",
      "execution_count": null,
      "metadata": {
        "colab": {
          "base_uri": "https://localhost:8080/"
        },
        "outputId": "a519a4ec-ad88-40a2-d79b-0dba6244d5f9",
        "id": "aW6ZLUYdWoxd"
      },
      "outputs": [
        {
          "output_type": "execute_result",
          "data": {
            "text/plain": [
              "Index(['TradePrice', 'Area', 'BuildingYear', 'Structure', 'Use',\n",
              "       'CityPlanning', 'Year', 'Location', 'AvgTimeToNearestStation',\n",
              "       'RoomCount'],\n",
              "      dtype='object')"
            ]
          },
          "metadata": {},
          "execution_count": 26
        }
      ],
      "source": [
        "df.columns"
      ]
    },
    {
      "cell_type": "markdown",
      "metadata": {
        "id": "jafFJfIhWoxd"
      },
      "source": [
        "###2.1.4 BuildingYear"
      ]
    },
    {
      "cell_type": "markdown",
      "source": [
        "The first transformation of this variable is to create a new column named `Age` which stores the age of the property at the time of the transaction."
      ],
      "metadata": {
        "id": "yIV_giSpN7fN"
      }
    },
    {
      "cell_type": "code",
      "execution_count": null,
      "metadata": {
        "id": "D15fLjeEWoxd"
      },
      "outputs": [],
      "source": [
        "# create a new column named 'Age' which stores the age of the property at the time of the transaction\n",
        "\n",
        "df[\"Age\"] = df[\"Year\"] - df[\"BuildingYear\"]"
      ]
    },
    {
      "cell_type": "markdown",
      "source": [
        "The second transformation of this variable is to group building years into several buckets. In 1981, the Building Standard Act in Japan was revised and the New Anti-seismic Design Code came into effect. Therefore, we group properties that were built before 1982 as \"pre 1982\" and map other properties into \"1982-1989\", \"1990-1999\", \"2000-2009\", and \"2010-2019\".\n",
        "\n",
        "\n",
        "Reference for the \"Building Standard Act\" : https://www.realestate-tokyo.com/news/earthquake-resistance-of-buildings-in-japan/"
      ],
      "metadata": {
        "id": "_zbDBEGaOLo5"
      }
    },
    {
      "cell_type": "code",
      "execution_count": null,
      "metadata": {
        "id": "jEGkZgEeWoxe"
      },
      "outputs": [],
      "source": [
        "# grouping building years into bins (create a new column as 'ConstructionYear')\n",
        "# 1. for all the records before 1982, group into one bin: 'pre 1982' (reason: Japanese Building Stadards Act changed)\n",
        "# 2. for all the records from 1982 (included) to 2019: 1982-1989, 1990-1999, 2000-2009, 2010-2019 "
      ]
    },
    {
      "cell_type": "code",
      "execution_count": null,
      "metadata": {
        "id": "Xhh7aNdxWoxe"
      },
      "outputs": [],
      "source": [
        "# step 1\n",
        "df.loc[df.BuildingYear < 1982, 'ConstructionYear'] = 'Pre 1982'"
      ]
    },
    {
      "cell_type": "code",
      "execution_count": null,
      "metadata": {
        "id": "w0kmmL_wWoxe"
      },
      "outputs": [],
      "source": [
        "# step 2\n",
        "df.loc[(df.BuildingYear > 1981) & (df.BuildingYear < 1990), 'ConstructionYear'] = '1982-1989'"
      ]
    },
    {
      "cell_type": "code",
      "execution_count": null,
      "metadata": {
        "id": "RxVNbA4qWoxe"
      },
      "outputs": [],
      "source": [
        "df.loc[(df.BuildingYear > 1989) & (df.BuildingYear < 2000), 'ConstructionYear'] = '1990-1999'"
      ]
    },
    {
      "cell_type": "code",
      "execution_count": null,
      "metadata": {
        "id": "gS2TI1qlWoxe"
      },
      "outputs": [],
      "source": [
        "df.loc[(df.BuildingYear > 1999) & (df.BuildingYear < 2010), 'ConstructionYear'] = '2000-2009'"
      ]
    },
    {
      "cell_type": "code",
      "execution_count": null,
      "metadata": {
        "id": "ltdSAjepWoxe"
      },
      "outputs": [],
      "source": [
        "df.loc[df.BuildingYear > 2009, 'ConstructionYear'] = '2010-2019'"
      ]
    },
    {
      "cell_type": "code",
      "execution_count": null,
      "metadata": {
        "colab": {
          "base_uri": "https://localhost:8080/"
        },
        "outputId": "4067b2fa-34d7-41cb-cde2-d68234a9ea79",
        "id": "pmXKnaPkWoxe"
      },
      "outputs": [
        {
          "output_type": "execute_result",
          "data": {
            "text/plain": [
              "2000-2009    20140\n",
              "2010-2019     9969\n",
              "1990-1999     9743\n",
              "1982-1989     6179\n",
              "Pre 1982      6053\n",
              "Name: ConstructionYear, dtype: int64"
            ]
          },
          "metadata": {},
          "execution_count": 34
        }
      ],
      "source": [
        "df.ConstructionYear.value_counts()"
      ]
    },
    {
      "cell_type": "markdown",
      "metadata": {
        "id": "OaGczo8kWoxe"
      },
      "source": [
        "###2.1.5 Structure"
      ]
    },
    {
      "cell_type": "markdown",
      "source": [
        "The structure of each building is provided using the following abbreviations:\n",
        "\"SRC\" stands for \"Steel frame reinforced concrete\", \"RC\" stands for \"Reinforced concrete\", \"LS\" stands for \"Light steel structure\" and etc. Since most of the values fall into \"RC\", \"SRC\" and \"S\", we group the other type of sructures into \"others\". "
      ],
      "metadata": {
        "id": "FY3K5I3QQCqG"
      }
    },
    {
      "cell_type": "code",
      "execution_count": null,
      "metadata": {
        "colab": {
          "base_uri": "https://localhost:8080/"
        },
        "outputId": "c8a12820-3abb-494e-c0d3-4c7f06c59915",
        "id": "cN9i_K0UWoxe"
      },
      "outputs": [
        {
          "output_type": "execute_result",
          "data": {
            "text/plain": [
              "RC         37761\n",
              "SRC        14480\n",
              "S            367\n",
              "SRC, RC       62\n",
              "RC, S          8\n",
              "LS             6\n",
              "SRC, S         3\n",
              "W              1\n",
              "Name: Structure, dtype: int64"
            ]
          },
          "metadata": {},
          "execution_count": 35
        }
      ],
      "source": [
        "df.Structure.value_counts()"
      ]
    },
    {
      "cell_type": "code",
      "execution_count": null,
      "metadata": {
        "id": "1cD8D23NWoxe"
      },
      "outputs": [],
      "source": [
        "# keep RC, SRC, S, map all other structure types into 'others'\n",
        "\n",
        "s_mapping = {'SRC, RC': 'Others', 'RC, S': 'Others', 'LS': 'Others', 'SRC, S': 'Others', 'W': 'Others'}\n",
        "\n",
        "df['Structure'] = df['Structure'].replace(s_mapping)"
      ]
    },
    {
      "cell_type": "code",
      "execution_count": null,
      "metadata": {
        "colab": {
          "base_uri": "https://localhost:8080/"
        },
        "outputId": "a33793e2-029c-4108-85da-8fd5d21e4069",
        "id": "9fe3L1rPWoxe"
      },
      "outputs": [
        {
          "output_type": "execute_result",
          "data": {
            "text/plain": [
              "RC        37761\n",
              "SRC       14480\n",
              "S           367\n",
              "Others       80\n",
              "Name: Structure, dtype: int64"
            ]
          },
          "metadata": {},
          "execution_count": 37
        }
      ],
      "source": [
        "df.Structure.value_counts()"
      ]
    },
    {
      "cell_type": "markdown",
      "metadata": {
        "id": "_JImt-WwWoxe"
      },
      "source": [
        "###2.1.6 Use"
      ]
    },
    {
      "cell_type": "markdown",
      "source": [
        "`Use` tells about the current usage of the property. For multiple-use cases, all uses are listed. For example: House, office, warehouse, workshop, parking lot, and others. Judging by the number of entries, we map all usage into \"House\" and \"Other\".\n"
      ],
      "metadata": {
        "id": "-l_agCU8RPsq"
      }
    },
    {
      "cell_type": "code",
      "execution_count": null,
      "metadata": {
        "colab": {
          "base_uri": "https://localhost:8080/"
        },
        "outputId": "4ef71ce2-9c93-4b76-ae2a-e5149e547f79",
        "id": "swr0yEWNWoxe"
      },
      "outputs": [
        {
          "output_type": "execute_result",
          "data": {
            "text/plain": [
              "House                  43248\n",
              "Office                    83\n",
              "Other                     35\n",
              "House, Office             10\n",
              "Shop                       9\n",
              "House, Shop                4\n",
              "House, Other               3\n",
              "House, Warehouse           1\n",
              "Office, Parking Lot        1\n",
              "Warehouse                  1\n",
              "House, Parking Lot         1\n",
              "Factory                    1\n",
              "Name: Use, dtype: int64"
            ]
          },
          "metadata": {},
          "execution_count": 38
        }
      ],
      "source": [
        "df.Use.value_counts()"
      ]
    },
    {
      "cell_type": "code",
      "execution_count": null,
      "metadata": {
        "id": "QlQ0teXUWoxe"
      },
      "outputs": [],
      "source": [
        "# juding by the number of entries of a use type of 'House' and others, it would be wise to map categories into only two categories: 'House', & 'Other'\n",
        "\n",
        "u_mapping = {'House, Office': 'House', 'House, Warehouse': 'House', 'House, Shop': 'House',\n",
        "           'House, Parking Lot': 'House', 'House, Other': 'House', 'Other': 'Other',\n",
        "           'Shop': 'Other', 'Warehouse': 'Other', 'Factory': 'Other', 'Office, Parking Lot': 'Other', 'Office': 'Other'}\n",
        "\n",
        "df['Use'] = df['Use'].replace(u_mapping)"
      ]
    },
    {
      "cell_type": "code",
      "execution_count": null,
      "metadata": {
        "colab": {
          "base_uri": "https://localhost:8080/"
        },
        "outputId": "c3487654-2e7c-48d0-acf0-289c99957dac",
        "id": "G9xuebo5Woxe"
      },
      "outputs": [
        {
          "output_type": "execute_result",
          "data": {
            "text/plain": [
              "House    43267\n",
              "Other      130\n",
              "Name: Use, dtype: int64"
            ]
          },
          "metadata": {},
          "execution_count": 40
        }
      ],
      "source": [
        "df.Use.value_counts()"
      ]
    },
    {
      "cell_type": "markdown",
      "metadata": {
        "id": "-BgkJw_2Woxe"
      },
      "source": [
        "###2.1.7 CityPlanning"
      ]
    },
    {
      "cell_type": "markdown",
      "source": [
        "`CityPlanning` contains the use of districts designated by the City Planning Act. "
      ],
      "metadata": {
        "id": "vO-wwCkEULsD"
      }
    },
    {
      "cell_type": "code",
      "execution_count": null,
      "metadata": {
        "colab": {
          "base_uri": "https://localhost:8080/"
        },
        "outputId": "3e09f364-7900-40ed-da9b-ed2c8fcbaa50",
        "id": "OT7wN4U_Woxe"
      },
      "outputs": [
        {
          "output_type": "execute_result",
          "data": {
            "text/plain": [
              "array(['Commercial Zone', 'Category II Residential Zone',\n",
              "       'Category I Residential Zone', nan, 'Quasi-industrial Zone',\n",
              "       'Quasi-residential Zone',\n",
              "       'Category I Exclusively Medium-high Residential Zone',\n",
              "       'Category II Exclusively Medium-high Residential Zone',\n",
              "       'Neighborhood Commercial Zone',\n",
              "       'Category I Exclusively Low-story Residential Zone',\n",
              "       'Category II Exclusively Low-story Residential Zone',\n",
              "       'Industrial Zone', 'Exclusively Industrial Zone',\n",
              "       'Urbanization Control Area', 'Quasi-city Planning Area',\n",
              "       'Outside City Planning Area'], dtype=object)"
            ]
          },
          "metadata": {},
          "execution_count": 41
        }
      ],
      "source": [
        "# checking unique values in 'CityPlanning'\n",
        "\n",
        "pd.unique(df['CityPlanning'])"
      ]
    },
    {
      "cell_type": "code",
      "execution_count": null,
      "metadata": {
        "colab": {
          "base_uri": "https://localhost:8080/"
        },
        "outputId": "8626f9ac-09c1-474e-e79a-4a101b2726fe",
        "id": "F6UjZ5jDWoxe"
      },
      "outputs": [
        {
          "output_type": "execute_result",
          "data": {
            "text/plain": [
              "Commercial Zone                                         16957\n",
              "Quasi-industrial Zone                                   10213\n",
              "Neighborhood Commercial Zone                             7165\n",
              "Category I Exclusively Medium-high Residential Zone      6407\n",
              "Category I Residential Zone                              5320\n",
              "Category I Exclusively Low-story Residential Zone        1853\n",
              "Category II Residential Zone                             1706\n",
              "Category II Exclusively Medium-high Residential Zone     1208\n",
              "Industrial Zone                                          1051\n",
              "Quasi-residential Zone                                    980\n",
              "Category II Exclusively Low-story Residential Zone        115\n",
              "Exclusively Industrial Zone                                17\n",
              "Quasi-city Planning Area                                    4\n",
              "Urbanization Control Area                                   1\n",
              "Outside City Planning Area                                  1\n",
              "Name: CityPlanning, dtype: int64"
            ]
          },
          "metadata": {},
          "execution_count": 42
        }
      ],
      "source": [
        "# how many values in each categories in the 'CityPlanning' column?\n",
        "\n",
        "df['CityPlanning'].value_counts()"
      ]
    },
    {
      "cell_type": "markdown",
      "metadata": {
        "id": "cO4hxuldWoxe"
      },
      "source": [
        "Judging by the number of different categories under the `CityPlanning column`, the following transformations should be performed:\n",
        "\n",
        "- Dropping the `Outside City Planning Area` due to only 1 entry\n",
        "\n",
        "- Mapping the resting categories into 4 general categories:\n",
        "\n",
        "  1. Commercial\n",
        "  2. Industrial\n",
        "  3. Residential"
      ]
    },
    {
      "cell_type": "code",
      "execution_count": null,
      "metadata": {
        "id": "OxVrGNWzWoxe"
      },
      "outputs": [],
      "source": [
        "# dropping outside City Planning Area\n",
        "\n",
        "drop_areas = ['Quasi-city Planning Area', 'Outside City Planning Area', 'Urbanization Control Area']\n",
        "df = df[df.CityPlanning.isin(drop_areas) == False]"
      ]
    },
    {
      "cell_type": "code",
      "execution_count": null,
      "metadata": {
        "id": "AILU8jyOWoxe"
      },
      "outputs": [],
      "source": [
        "# mapping\n",
        "\n",
        "c_mapping = {'Quasi-industrial Zone': 'Industrial Zone', 'Neighborhood Commercial Zone': 'Commercial Zone', 'Category I Exclusively Medium-high Residential Zone': 'Residential Zone',\n",
        "           'Category I Residential Zone': 'Residential Zone', 'Category I Exclusively Low-story Residential Zone': 'Residential Zone',\n",
        "           'Category II Residential Zone': 'Residential Zone', 'Category II Exclusively Medium-high Residential Zone': 'Residential Zone',\n",
        "           'Quasi-residential Zone': 'Residential Zone', 'Category II Exclusively Low-story Residential Zone': 'Residential Zone', 'Exclusively Industrial Zone': 'Industrial Zone'}\n",
        "\n",
        "df['CityPlanning'] = df['CityPlanning'].replace(c_mapping)"
      ]
    },
    {
      "cell_type": "code",
      "execution_count": null,
      "metadata": {
        "colab": {
          "base_uri": "https://localhost:8080/"
        },
        "outputId": "c1135531-b520-46c0-b078-3bc970b48cd5",
        "id": "9BB0RozfWoxe"
      },
      "outputs": [
        {
          "output_type": "execute_result",
          "data": {
            "text/plain": [
              "array(['Commercial Zone', 'Residential Zone', nan, 'Industrial Zone'],\n",
              "      dtype=object)"
            ]
          },
          "metadata": {},
          "execution_count": 45
        }
      ],
      "source": [
        "# check the result\n",
        "\n",
        "pd.unique(df['CityPlanning'])"
      ]
    },
    {
      "cell_type": "markdown",
      "metadata": {
        "id": "4gQDzwC_9iqQ"
      },
      "source": [
        "##2.2 Checking the Dataframe Post-Transformation"
      ]
    },
    {
      "cell_type": "code",
      "execution_count": null,
      "metadata": {
        "colab": {
          "base_uri": "https://localhost:8080/",
          "height": 201
        },
        "id": "qjCSE5V29nKn",
        "outputId": "30fc529b-c5fb-4fc9-e05c-8e111fb604a8"
      },
      "outputs": [
        {
          "output_type": "execute_result",
          "data": {
            "text/plain": [
              "   TradePrice  Area  BuildingYear Structure    Use     CityPlanning  Year  \\\n",
              "0    40000000    30        2013.0        RC  House  Commercial Zone  2019   \n",
              "1   130000000    80        2007.0        RC    NaN  Commercial Zone  2019   \n",
              "4   100000000    65        2007.0        RC  House  Commercial Zone  2019   \n",
              "6    24000000    35        1985.0       SRC  House  Commercial Zone  2018   \n",
              "7    13000000    20        1982.0       SRC    NaN  Commercial Zone  2018   \n",
              "\n",
              "  Location  AvgTimeToNearestStation  RoomCount   Age ConstructionYear  \n",
              "0    Urban                      4.0          1   6.0        2010-2019  \n",
              "1    Urban                      4.0          3  12.0        2000-2009  \n",
              "4    Urban                      4.0          2  12.0        2000-2009  \n",
              "6    Urban                      3.0          1  33.0        1982-1989  \n",
              "7    Urban                      4.0          1  36.0        1982-1989  "
            ],
            "text/html": [
              "\n",
              "  <div id=\"df-135f06fa-8c78-48f1-965c-140ac2c5ff88\">\n",
              "    <div class=\"colab-df-container\">\n",
              "      <div>\n",
              "<style scoped>\n",
              "    .dataframe tbody tr th:only-of-type {\n",
              "        vertical-align: middle;\n",
              "    }\n",
              "\n",
              "    .dataframe tbody tr th {\n",
              "        vertical-align: top;\n",
              "    }\n",
              "\n",
              "    .dataframe thead th {\n",
              "        text-align: right;\n",
              "    }\n",
              "</style>\n",
              "<table border=\"1\" class=\"dataframe\">\n",
              "  <thead>\n",
              "    <tr style=\"text-align: right;\">\n",
              "      <th></th>\n",
              "      <th>TradePrice</th>\n",
              "      <th>Area</th>\n",
              "      <th>BuildingYear</th>\n",
              "      <th>Structure</th>\n",
              "      <th>Use</th>\n",
              "      <th>CityPlanning</th>\n",
              "      <th>Year</th>\n",
              "      <th>Location</th>\n",
              "      <th>AvgTimeToNearestStation</th>\n",
              "      <th>RoomCount</th>\n",
              "      <th>Age</th>\n",
              "      <th>ConstructionYear</th>\n",
              "    </tr>\n",
              "  </thead>\n",
              "  <tbody>\n",
              "    <tr>\n",
              "      <th>0</th>\n",
              "      <td>40000000</td>\n",
              "      <td>30</td>\n",
              "      <td>2013.0</td>\n",
              "      <td>RC</td>\n",
              "      <td>House</td>\n",
              "      <td>Commercial Zone</td>\n",
              "      <td>2019</td>\n",
              "      <td>Urban</td>\n",
              "      <td>4.0</td>\n",
              "      <td>1</td>\n",
              "      <td>6.0</td>\n",
              "      <td>2010-2019</td>\n",
              "    </tr>\n",
              "    <tr>\n",
              "      <th>1</th>\n",
              "      <td>130000000</td>\n",
              "      <td>80</td>\n",
              "      <td>2007.0</td>\n",
              "      <td>RC</td>\n",
              "      <td>NaN</td>\n",
              "      <td>Commercial Zone</td>\n",
              "      <td>2019</td>\n",
              "      <td>Urban</td>\n",
              "      <td>4.0</td>\n",
              "      <td>3</td>\n",
              "      <td>12.0</td>\n",
              "      <td>2000-2009</td>\n",
              "    </tr>\n",
              "    <tr>\n",
              "      <th>4</th>\n",
              "      <td>100000000</td>\n",
              "      <td>65</td>\n",
              "      <td>2007.0</td>\n",
              "      <td>RC</td>\n",
              "      <td>House</td>\n",
              "      <td>Commercial Zone</td>\n",
              "      <td>2019</td>\n",
              "      <td>Urban</td>\n",
              "      <td>4.0</td>\n",
              "      <td>2</td>\n",
              "      <td>12.0</td>\n",
              "      <td>2000-2009</td>\n",
              "    </tr>\n",
              "    <tr>\n",
              "      <th>6</th>\n",
              "      <td>24000000</td>\n",
              "      <td>35</td>\n",
              "      <td>1985.0</td>\n",
              "      <td>SRC</td>\n",
              "      <td>House</td>\n",
              "      <td>Commercial Zone</td>\n",
              "      <td>2018</td>\n",
              "      <td>Urban</td>\n",
              "      <td>3.0</td>\n",
              "      <td>1</td>\n",
              "      <td>33.0</td>\n",
              "      <td>1982-1989</td>\n",
              "    </tr>\n",
              "    <tr>\n",
              "      <th>7</th>\n",
              "      <td>13000000</td>\n",
              "      <td>20</td>\n",
              "      <td>1982.0</td>\n",
              "      <td>SRC</td>\n",
              "      <td>NaN</td>\n",
              "      <td>Commercial Zone</td>\n",
              "      <td>2018</td>\n",
              "      <td>Urban</td>\n",
              "      <td>4.0</td>\n",
              "      <td>1</td>\n",
              "      <td>36.0</td>\n",
              "      <td>1982-1989</td>\n",
              "    </tr>\n",
              "  </tbody>\n",
              "</table>\n",
              "</div>\n",
              "      <button class=\"colab-df-convert\" onclick=\"convertToInteractive('df-135f06fa-8c78-48f1-965c-140ac2c5ff88')\"\n",
              "              title=\"Convert this dataframe to an interactive table.\"\n",
              "              style=\"display:none;\">\n",
              "        \n",
              "  <svg xmlns=\"http://www.w3.org/2000/svg\" height=\"24px\"viewBox=\"0 0 24 24\"\n",
              "       width=\"24px\">\n",
              "    <path d=\"M0 0h24v24H0V0z\" fill=\"none\"/>\n",
              "    <path d=\"M18.56 5.44l.94 2.06.94-2.06 2.06-.94-2.06-.94-.94-2.06-.94 2.06-2.06.94zm-11 1L8.5 8.5l.94-2.06 2.06-.94-2.06-.94L8.5 2.5l-.94 2.06-2.06.94zm10 10l.94 2.06.94-2.06 2.06-.94-2.06-.94-.94-2.06-.94 2.06-2.06.94z\"/><path d=\"M17.41 7.96l-1.37-1.37c-.4-.4-.92-.59-1.43-.59-.52 0-1.04.2-1.43.59L10.3 9.45l-7.72 7.72c-.78.78-.78 2.05 0 2.83L4 21.41c.39.39.9.59 1.41.59.51 0 1.02-.2 1.41-.59l7.78-7.78 2.81-2.81c.8-.78.8-2.07 0-2.86zM5.41 20L4 18.59l7.72-7.72 1.47 1.35L5.41 20z\"/>\n",
              "  </svg>\n",
              "      </button>\n",
              "      \n",
              "  <style>\n",
              "    .colab-df-container {\n",
              "      display:flex;\n",
              "      flex-wrap:wrap;\n",
              "      gap: 12px;\n",
              "    }\n",
              "\n",
              "    .colab-df-convert {\n",
              "      background-color: #E8F0FE;\n",
              "      border: none;\n",
              "      border-radius: 50%;\n",
              "      cursor: pointer;\n",
              "      display: none;\n",
              "      fill: #1967D2;\n",
              "      height: 32px;\n",
              "      padding: 0 0 0 0;\n",
              "      width: 32px;\n",
              "    }\n",
              "\n",
              "    .colab-df-convert:hover {\n",
              "      background-color: #E2EBFA;\n",
              "      box-shadow: 0px 1px 2px rgba(60, 64, 67, 0.3), 0px 1px 3px 1px rgba(60, 64, 67, 0.15);\n",
              "      fill: #174EA6;\n",
              "    }\n",
              "\n",
              "    [theme=dark] .colab-df-convert {\n",
              "      background-color: #3B4455;\n",
              "      fill: #D2E3FC;\n",
              "    }\n",
              "\n",
              "    [theme=dark] .colab-df-convert:hover {\n",
              "      background-color: #434B5C;\n",
              "      box-shadow: 0px 1px 3px 1px rgba(0, 0, 0, 0.15);\n",
              "      filter: drop-shadow(0px 1px 2px rgba(0, 0, 0, 0.3));\n",
              "      fill: #FFFFFF;\n",
              "    }\n",
              "  </style>\n",
              "\n",
              "      <script>\n",
              "        const buttonEl =\n",
              "          document.querySelector('#df-135f06fa-8c78-48f1-965c-140ac2c5ff88 button.colab-df-convert');\n",
              "        buttonEl.style.display =\n",
              "          google.colab.kernel.accessAllowed ? 'block' : 'none';\n",
              "\n",
              "        async function convertToInteractive(key) {\n",
              "          const element = document.querySelector('#df-135f06fa-8c78-48f1-965c-140ac2c5ff88');\n",
              "          const dataTable =\n",
              "            await google.colab.kernel.invokeFunction('convertToInteractive',\n",
              "                                                     [key], {});\n",
              "          if (!dataTable) return;\n",
              "\n",
              "          const docLinkHtml = 'Like what you see? Visit the ' +\n",
              "            '<a target=\"_blank\" href=https://colab.research.google.com/notebooks/data_table.ipynb>data table notebook</a>'\n",
              "            + ' to learn more about interactive tables.';\n",
              "          element.innerHTML = '';\n",
              "          dataTable['output_type'] = 'display_data';\n",
              "          await google.colab.output.renderOutput(dataTable, element);\n",
              "          const docLink = document.createElement('div');\n",
              "          docLink.innerHTML = docLinkHtml;\n",
              "          element.appendChild(docLink);\n",
              "        }\n",
              "      </script>\n",
              "    </div>\n",
              "  </div>\n",
              "  "
            ]
          },
          "metadata": {},
          "execution_count": 46
        }
      ],
      "source": [
        "df.head()"
      ]
    },
    {
      "cell_type": "code",
      "execution_count": null,
      "metadata": {
        "colab": {
          "base_uri": "https://localhost:8080/"
        },
        "id": "mGJ-h8qS9rXL",
        "outputId": "e699167a-8169-4955-b691-6a59b6fd6cf9"
      },
      "outputs": [
        {
          "output_type": "execute_result",
          "data": {
            "text/plain": [
              "(53461, 12)"
            ]
          },
          "metadata": {},
          "execution_count": 47
        }
      ],
      "source": [
        "df.shape"
      ]
    },
    {
      "cell_type": "code",
      "execution_count": null,
      "metadata": {
        "colab": {
          "base_uri": "https://localhost:8080/"
        },
        "id": "WFc5mFr7dpf4",
        "outputId": "1345c18f-1599-4cee-f9fd-0df549dc191f"
      },
      "outputs": [
        {
          "output_type": "stream",
          "name": "stdout",
          "text": [
            "<class 'pandas.core.frame.DataFrame'>\n",
            "Int64Index: 53461 entries, 0 to 358449\n",
            "Data columns (total 12 columns):\n",
            " #   Column                   Non-Null Count  Dtype  \n",
            "---  ------                   --------------  -----  \n",
            " 0   TradePrice               53461 non-null  int64  \n",
            " 1   Area                     53461 non-null  int64  \n",
            " 2   BuildingYear             52080 non-null  float64\n",
            " 3   Structure                52687 non-null  object \n",
            " 4   Use                      43397 non-null  object \n",
            " 5   CityPlanning             52992 non-null  object \n",
            " 6   Year                     53461 non-null  int64  \n",
            " 7   Location                 53461 non-null  object \n",
            " 8   AvgTimeToNearestStation  53391 non-null  float64\n",
            " 9   RoomCount                53461 non-null  int64  \n",
            " 10  Age                      52080 non-null  float64\n",
            " 11  ConstructionYear         52080 non-null  object \n",
            "dtypes: float64(3), int64(4), object(5)\n",
            "memory usage: 5.3+ MB\n"
          ]
        }
      ],
      "source": [
        "df.info()"
      ]
    },
    {
      "cell_type": "markdown",
      "metadata": {
        "id": "3Vr4oOZyR14F"
      },
      "source": [
        "##2.3 Creating Train & Test Data"
      ]
    },
    {
      "cell_type": "markdown",
      "source": [
        "Splitting the dataset to get the training and testing data with a 80-20 split."
      ],
      "metadata": {
        "id": "rRqP6mK4tUYZ"
      }
    },
    {
      "cell_type": "code",
      "execution_count": null,
      "metadata": {
        "colab": {
          "base_uri": "https://localhost:8080/"
        },
        "id": "FjWeLKvrR3uZ",
        "outputId": "4f45e370-8f2a-46e6-a74f-d378fe1c3a43"
      },
      "outputs": [
        {
          "output_type": "execute_result",
          "data": {
            "text/plain": [
              "(42768, 10693)"
            ]
          },
          "metadata": {},
          "execution_count": 49
        }
      ],
      "source": [
        "from sklearn.model_selection import train_test_split\n",
        "\n",
        "train_set, test_set = train_test_split(df, test_size=0.2, random_state=42)\n",
        "len(train_set), len(test_set)"
      ]
    },
    {
      "cell_type": "markdown",
      "metadata": {
        "id": "zBi8z0qsSoiG"
      },
      "source": [
        "##2.4 Building the Pipeline"
      ]
    },
    {
      "cell_type": "markdown",
      "source": [
        "After preparing the dataset and performing the required operations, we build the pipeline."
      ],
      "metadata": {
        "id": "AQ5xBXUItkIs"
      }
    },
    {
      "cell_type": "code",
      "execution_count": null,
      "metadata": {
        "colab": {
          "base_uri": "https://localhost:8080/"
        },
        "id": "ukh0lSTRRCbS",
        "outputId": "bae1eebe-b0b3-43f7-bdf5-abf4ba550d11"
      },
      "outputs": [
        {
          "output_type": "execute_result",
          "data": {
            "text/plain": [
              "TradePrice                     0\n",
              "Area                           0\n",
              "BuildingYear                1381\n",
              "Structure                    774\n",
              "Use                        10064\n",
              "CityPlanning                 469\n",
              "Year                           0\n",
              "Location                       0\n",
              "AvgTimeToNearestStation       70\n",
              "RoomCount                      0\n",
              "Age                         1381\n",
              "ConstructionYear            1381\n",
              "dtype: int64"
            ]
          },
          "metadata": {},
          "execution_count": 50
        }
      ],
      "source": [
        "# check null\n",
        "\n",
        "df.isna().sum()"
      ]
    },
    {
      "cell_type": "code",
      "execution_count": null,
      "metadata": {
        "id": "Pzwy7rLottlp"
      },
      "outputs": [],
      "source": [
        "# building the pipeline 2\n",
        "\n",
        "from sklearn.experimental import enable_iterative_imputer\n",
        "from sklearn.impute import IterativeImputer\n",
        "from sklearn.impute import SimpleImputer\n",
        "from sklearn.pipeline import Pipeline\n",
        "from sklearn.preprocessing import StandardScaler\n",
        "from sklearn.preprocessing import OneHotEncoder\n",
        "from sklearn.compose import ColumnTransformer\n",
        "from sklearn.pipeline import make_pipeline\n",
        "from sklearn.ensemble import RandomForestClassifier\n",
        "\n",
        "num_attribs = [\"Area\", \"BuildingYear\", \"Year\", \"AvgTimeToNearestStation\",\n",
        "               \"RoomCount\", \"Age\"]\n",
        "\n",
        "cat_attribs = [\"Structure\", \"Use\", \"CityPlanning\", \"Location\", \"ConstructionYear\"]\n",
        "\n",
        "num_pipeline = Pipeline([\n",
        "    (\"impute\", IterativeImputer()), \n",
        "    (\"standardize\", StandardScaler())\n",
        "])\n",
        "    \n",
        "cat_pipeline = Pipeline([\n",
        "    #(\"impute\", IterativeImputer(estimator = RandomForestClassifier(random_state = 0))),\n",
        "    (\"impute\", SimpleImputer(strategy = \"most_frequent\")),\n",
        "    (\"dummify\", OneHotEncoder(sparse=False, drop = 'first'))\n",
        "])\n",
        "\n",
        "pipeline = ColumnTransformer([\n",
        "    (\"num\", num_pipeline, num_attribs),\n",
        "    (\"cat\", cat_pipeline, cat_attribs)\n",
        "    ])"
      ]
    },
    {
      "cell_type": "code",
      "execution_count": null,
      "metadata": {
        "colab": {
          "base_uri": "https://localhost:8080/",
          "height": 203
        },
        "id": "2zjHwtuZTBwI",
        "outputId": "56d847e1-998c-4794-ab08-832b74c64dd4"
      },
      "outputs": [
        {
          "output_type": "execute_result",
          "data": {
            "text/plain": [
              "ColumnTransformer(transformers=[('num',\n",
              "                                 Pipeline(steps=[('impute', IterativeImputer()),\n",
              "                                                 ('standardize',\n",
              "                                                  StandardScaler())]),\n",
              "                                 ['Area', 'BuildingYear', 'Year',\n",
              "                                  'AvgTimeToNearestStation', 'RoomCount',\n",
              "                                  'Age']),\n",
              "                                ('cat',\n",
              "                                 Pipeline(steps=[('impute',\n",
              "                                                  SimpleImputer(strategy='most_frequent')),\n",
              "                                                 ('dummify',\n",
              "                                                  OneHotEncoder(drop='first',\n",
              "                                                                sparse=False))]),\n",
              "                                 ['Structure', 'Use', 'CityPlanning',\n",
              "                                  'Location', 'ConstructionYear'])])"
            ],
            "text/html": [
              "<style>#sk-ce35820f-f1ee-4fc5-978f-2c04314d0cd8 {color: black;background-color: white;}#sk-ce35820f-f1ee-4fc5-978f-2c04314d0cd8 pre{padding: 0;}#sk-ce35820f-f1ee-4fc5-978f-2c04314d0cd8 div.sk-toggleable {background-color: white;}#sk-ce35820f-f1ee-4fc5-978f-2c04314d0cd8 label.sk-toggleable__label {cursor: pointer;display: block;width: 100%;margin-bottom: 0;padding: 0.3em;box-sizing: border-box;text-align: center;}#sk-ce35820f-f1ee-4fc5-978f-2c04314d0cd8 label.sk-toggleable__label-arrow:before {content: \"▸\";float: left;margin-right: 0.25em;color: #696969;}#sk-ce35820f-f1ee-4fc5-978f-2c04314d0cd8 label.sk-toggleable__label-arrow:hover:before {color: black;}#sk-ce35820f-f1ee-4fc5-978f-2c04314d0cd8 div.sk-estimator:hover label.sk-toggleable__label-arrow:before {color: black;}#sk-ce35820f-f1ee-4fc5-978f-2c04314d0cd8 div.sk-toggleable__content {max-height: 0;max-width: 0;overflow: hidden;text-align: left;background-color: #f0f8ff;}#sk-ce35820f-f1ee-4fc5-978f-2c04314d0cd8 div.sk-toggleable__content pre {margin: 0.2em;color: black;border-radius: 0.25em;background-color: #f0f8ff;}#sk-ce35820f-f1ee-4fc5-978f-2c04314d0cd8 input.sk-toggleable__control:checked~div.sk-toggleable__content {max-height: 200px;max-width: 100%;overflow: auto;}#sk-ce35820f-f1ee-4fc5-978f-2c04314d0cd8 input.sk-toggleable__control:checked~label.sk-toggleable__label-arrow:before {content: \"▾\";}#sk-ce35820f-f1ee-4fc5-978f-2c04314d0cd8 div.sk-estimator input.sk-toggleable__control:checked~label.sk-toggleable__label {background-color: #d4ebff;}#sk-ce35820f-f1ee-4fc5-978f-2c04314d0cd8 div.sk-label input.sk-toggleable__control:checked~label.sk-toggleable__label {background-color: #d4ebff;}#sk-ce35820f-f1ee-4fc5-978f-2c04314d0cd8 input.sk-hidden--visually {border: 0;clip: rect(1px 1px 1px 1px);clip: rect(1px, 1px, 1px, 1px);height: 1px;margin: -1px;overflow: hidden;padding: 0;position: absolute;width: 1px;}#sk-ce35820f-f1ee-4fc5-978f-2c04314d0cd8 div.sk-estimator {font-family: monospace;background-color: #f0f8ff;border: 1px dotted black;border-radius: 0.25em;box-sizing: border-box;margin-bottom: 0.5em;}#sk-ce35820f-f1ee-4fc5-978f-2c04314d0cd8 div.sk-estimator:hover {background-color: #d4ebff;}#sk-ce35820f-f1ee-4fc5-978f-2c04314d0cd8 div.sk-parallel-item::after {content: \"\";width: 100%;border-bottom: 1px solid gray;flex-grow: 1;}#sk-ce35820f-f1ee-4fc5-978f-2c04314d0cd8 div.sk-label:hover label.sk-toggleable__label {background-color: #d4ebff;}#sk-ce35820f-f1ee-4fc5-978f-2c04314d0cd8 div.sk-serial::before {content: \"\";position: absolute;border-left: 1px solid gray;box-sizing: border-box;top: 2em;bottom: 0;left: 50%;}#sk-ce35820f-f1ee-4fc5-978f-2c04314d0cd8 div.sk-serial {display: flex;flex-direction: column;align-items: center;background-color: white;padding-right: 0.2em;padding-left: 0.2em;}#sk-ce35820f-f1ee-4fc5-978f-2c04314d0cd8 div.sk-item {z-index: 1;}#sk-ce35820f-f1ee-4fc5-978f-2c04314d0cd8 div.sk-parallel {display: flex;align-items: stretch;justify-content: center;background-color: white;}#sk-ce35820f-f1ee-4fc5-978f-2c04314d0cd8 div.sk-parallel::before {content: \"\";position: absolute;border-left: 1px solid gray;box-sizing: border-box;top: 2em;bottom: 0;left: 50%;}#sk-ce35820f-f1ee-4fc5-978f-2c04314d0cd8 div.sk-parallel-item {display: flex;flex-direction: column;position: relative;background-color: white;}#sk-ce35820f-f1ee-4fc5-978f-2c04314d0cd8 div.sk-parallel-item:first-child::after {align-self: flex-end;width: 50%;}#sk-ce35820f-f1ee-4fc5-978f-2c04314d0cd8 div.sk-parallel-item:last-child::after {align-self: flex-start;width: 50%;}#sk-ce35820f-f1ee-4fc5-978f-2c04314d0cd8 div.sk-parallel-item:only-child::after {width: 0;}#sk-ce35820f-f1ee-4fc5-978f-2c04314d0cd8 div.sk-dashed-wrapped {border: 1px dashed gray;margin: 0 0.4em 0.5em 0.4em;box-sizing: border-box;padding-bottom: 0.4em;background-color: white;position: relative;}#sk-ce35820f-f1ee-4fc5-978f-2c04314d0cd8 div.sk-label label {font-family: monospace;font-weight: bold;background-color: white;display: inline-block;line-height: 1.2em;}#sk-ce35820f-f1ee-4fc5-978f-2c04314d0cd8 div.sk-label-container {position: relative;z-index: 2;text-align: center;}#sk-ce35820f-f1ee-4fc5-978f-2c04314d0cd8 div.sk-container {/* jupyter's `normalize.less` sets `[hidden] { display: none; }` but bootstrap.min.css set `[hidden] { display: none !important; }` so we also need the `!important` here to be able to override the default hidden behavior on the sphinx rendered scikit-learn.org. See: https://github.com/scikit-learn/scikit-learn/issues/21755 */display: inline-block !important;position: relative;}#sk-ce35820f-f1ee-4fc5-978f-2c04314d0cd8 div.sk-text-repr-fallback {display: none;}</style><div id=\"sk-ce35820f-f1ee-4fc5-978f-2c04314d0cd8\" class=\"sk-top-container\"><div class=\"sk-text-repr-fallback\"><pre>ColumnTransformer(transformers=[(&#x27;num&#x27;,\n",
              "                                 Pipeline(steps=[(&#x27;impute&#x27;, IterativeImputer()),\n",
              "                                                 (&#x27;standardize&#x27;,\n",
              "                                                  StandardScaler())]),\n",
              "                                 [&#x27;Area&#x27;, &#x27;BuildingYear&#x27;, &#x27;Year&#x27;,\n",
              "                                  &#x27;AvgTimeToNearestStation&#x27;, &#x27;RoomCount&#x27;,\n",
              "                                  &#x27;Age&#x27;]),\n",
              "                                (&#x27;cat&#x27;,\n",
              "                                 Pipeline(steps=[(&#x27;impute&#x27;,\n",
              "                                                  SimpleImputer(strategy=&#x27;most_frequent&#x27;)),\n",
              "                                                 (&#x27;dummify&#x27;,\n",
              "                                                  OneHotEncoder(drop=&#x27;first&#x27;,\n",
              "                                                                sparse=False))]),\n",
              "                                 [&#x27;Structure&#x27;, &#x27;Use&#x27;, &#x27;CityPlanning&#x27;,\n",
              "                                  &#x27;Location&#x27;, &#x27;ConstructionYear&#x27;])])</pre><b>Please rerun this cell to show the HTML repr or trust the notebook.</b></div><div class=\"sk-container\" hidden><div class=\"sk-item sk-dashed-wrapped\"><div class=\"sk-label-container\"><div class=\"sk-label sk-toggleable\"><input class=\"sk-toggleable__control sk-hidden--visually\" id=\"722f1bd1-e112-4de4-9204-1385c4a2643d\" type=\"checkbox\" ><label for=\"722f1bd1-e112-4de4-9204-1385c4a2643d\" class=\"sk-toggleable__label sk-toggleable__label-arrow\">ColumnTransformer</label><div class=\"sk-toggleable__content\"><pre>ColumnTransformer(transformers=[(&#x27;num&#x27;,\n",
              "                                 Pipeline(steps=[(&#x27;impute&#x27;, IterativeImputer()),\n",
              "                                                 (&#x27;standardize&#x27;,\n",
              "                                                  StandardScaler())]),\n",
              "                                 [&#x27;Area&#x27;, &#x27;BuildingYear&#x27;, &#x27;Year&#x27;,\n",
              "                                  &#x27;AvgTimeToNearestStation&#x27;, &#x27;RoomCount&#x27;,\n",
              "                                  &#x27;Age&#x27;]),\n",
              "                                (&#x27;cat&#x27;,\n",
              "                                 Pipeline(steps=[(&#x27;impute&#x27;,\n",
              "                                                  SimpleImputer(strategy=&#x27;most_frequent&#x27;)),\n",
              "                                                 (&#x27;dummify&#x27;,\n",
              "                                                  OneHotEncoder(drop=&#x27;first&#x27;,\n",
              "                                                                sparse=False))]),\n",
              "                                 [&#x27;Structure&#x27;, &#x27;Use&#x27;, &#x27;CityPlanning&#x27;,\n",
              "                                  &#x27;Location&#x27;, &#x27;ConstructionYear&#x27;])])</pre></div></div></div><div class=\"sk-parallel\"><div class=\"sk-parallel-item\"><div class=\"sk-item\"><div class=\"sk-label-container\"><div class=\"sk-label sk-toggleable\"><input class=\"sk-toggleable__control sk-hidden--visually\" id=\"eca17b69-8e43-43df-827f-1baddda099e1\" type=\"checkbox\" ><label for=\"eca17b69-8e43-43df-827f-1baddda099e1\" class=\"sk-toggleable__label sk-toggleable__label-arrow\">num</label><div class=\"sk-toggleable__content\"><pre>[&#x27;Area&#x27;, &#x27;BuildingYear&#x27;, &#x27;Year&#x27;, &#x27;AvgTimeToNearestStation&#x27;, &#x27;RoomCount&#x27;, &#x27;Age&#x27;]</pre></div></div></div><div class=\"sk-serial\"><div class=\"sk-item\"><div class=\"sk-serial\"><div class=\"sk-item\"><div class=\"sk-estimator sk-toggleable\"><input class=\"sk-toggleable__control sk-hidden--visually\" id=\"fa35c28d-8800-4d1a-a873-860a7ed8f32c\" type=\"checkbox\" ><label for=\"fa35c28d-8800-4d1a-a873-860a7ed8f32c\" class=\"sk-toggleable__label sk-toggleable__label-arrow\">IterativeImputer</label><div class=\"sk-toggleable__content\"><pre>IterativeImputer()</pre></div></div></div><div class=\"sk-item\"><div class=\"sk-estimator sk-toggleable\"><input class=\"sk-toggleable__control sk-hidden--visually\" id=\"f0cdaad7-891b-4ab7-83b1-0f576e04aa75\" type=\"checkbox\" ><label for=\"f0cdaad7-891b-4ab7-83b1-0f576e04aa75\" class=\"sk-toggleable__label sk-toggleable__label-arrow\">StandardScaler</label><div class=\"sk-toggleable__content\"><pre>StandardScaler()</pre></div></div></div></div></div></div></div></div><div class=\"sk-parallel-item\"><div class=\"sk-item\"><div class=\"sk-label-container\"><div class=\"sk-label sk-toggleable\"><input class=\"sk-toggleable__control sk-hidden--visually\" id=\"878e2000-09dc-422b-a3ee-d15f2e744e05\" type=\"checkbox\" ><label for=\"878e2000-09dc-422b-a3ee-d15f2e744e05\" class=\"sk-toggleable__label sk-toggleable__label-arrow\">cat</label><div class=\"sk-toggleable__content\"><pre>[&#x27;Structure&#x27;, &#x27;Use&#x27;, &#x27;CityPlanning&#x27;, &#x27;Location&#x27;, &#x27;ConstructionYear&#x27;]</pre></div></div></div><div class=\"sk-serial\"><div class=\"sk-item\"><div class=\"sk-serial\"><div class=\"sk-item\"><div class=\"sk-estimator sk-toggleable\"><input class=\"sk-toggleable__control sk-hidden--visually\" id=\"e0a4fa20-3c43-4024-8d22-fa8236c813a4\" type=\"checkbox\" ><label for=\"e0a4fa20-3c43-4024-8d22-fa8236c813a4\" class=\"sk-toggleable__label sk-toggleable__label-arrow\">SimpleImputer</label><div class=\"sk-toggleable__content\"><pre>SimpleImputer(strategy=&#x27;most_frequent&#x27;)</pre></div></div></div><div class=\"sk-item\"><div class=\"sk-estimator sk-toggleable\"><input class=\"sk-toggleable__control sk-hidden--visually\" id=\"40d188b5-fec5-4996-aab0-8e166ea2f96f\" type=\"checkbox\" ><label for=\"40d188b5-fec5-4996-aab0-8e166ea2f96f\" class=\"sk-toggleable__label sk-toggleable__label-arrow\">OneHotEncoder</label><div class=\"sk-toggleable__content\"><pre>OneHotEncoder(drop=&#x27;first&#x27;, sparse=False)</pre></div></div></div></div></div></div></div></div></div></div></div></div>"
            ]
          },
          "metadata": {},
          "execution_count": 52
        }
      ],
      "source": [
        "from sklearn import set_config\n",
        "\n",
        "set_config(display='diagram') \n",
        "\n",
        "pipeline"
      ]
    },
    {
      "cell_type": "code",
      "execution_count": null,
      "metadata": {
        "colab": {
          "base_uri": "https://localhost:8080/"
        },
        "id": "-UV1rufYdCWG",
        "outputId": "233b9aff-025d-4912-b76c-a33f08e543e3"
      },
      "outputs": [
        {
          "output_type": "stream",
          "name": "stdout",
          "text": [
            "        Area  BuildingYear Structure    Use      CityPlanning  Year  Location  \\\n",
            "62184     25        1988.0        RC  House   Industrial Zone  2016     Urban   \n",
            "284268    70        2007.0        RC  House   Industrial Zone  2016  Suburban   \n",
            "6952      50        2014.0        RC  House  Residential Zone  2016     Urban   \n",
            "59265     45        1984.0       SRC  House   Commercial Zone  2016     Urban   \n",
            "202162    45           NaN        RC  House  Residential Zone  2016     Urban   \n",
            "\n",
            "        AvgTimeToNearestStation  RoomCount   Age ConstructionYear  \n",
            "62184                       5.0          1  28.0        1982-1989  \n",
            "284268                      6.0          3   9.0        2000-2009  \n",
            "6952                        5.0          2   2.0        2010-2019  \n",
            "59265                       6.0          2  32.0        1982-1989  \n",
            "202162                     12.0          2   NaN              NaN  \n"
          ]
        }
      ],
      "source": [
        "# making two new dataframes storing the predictors and the response\n",
        "\n",
        "df_X = train_set.drop(\"TradePrice\", axis=1)\n",
        "df_y = train_set[\"TradePrice\"]\n",
        "print(df_X.head())"
      ]
    },
    {
      "cell_type": "code",
      "execution_count": null,
      "metadata": {
        "id": "Q2f4d3YDdPFz"
      },
      "outputs": [],
      "source": [
        "# fitting the model\n",
        "\n",
        "X_train = pipeline.fit_transform(df_X)\n",
        "y_train = df_y.values"
      ]
    },
    {
      "cell_type": "markdown",
      "metadata": {
        "id": "_rHor5TcPHrp"
      },
      "source": [
        "#3.Model Evaluation\n",
        "\n",
        "For model evaluation, we use cross validation method to further enhance our accuracy. We set the `random_state` of each model to 90, and `cv` to 10."
      ]
    },
    {
      "cell_type": "markdown",
      "metadata": {
        "id": "Qi3cVL-KkGfX"
      },
      "source": [
        "## 3.1 Linear Regression"
      ]
    },
    {
      "cell_type": "markdown",
      "source": [
        "*Linear Regression is a machine learning algorithm that attempts to model the relationship between the independent variables and the depenedent variable.*\n",
        "\n",
        "We use Linear Regression to understand the relation of the independent variables on the `tradeprice` variable."
      ],
      "metadata": {
        "id": "TQojPH58385-"
      }
    },
    {
      "cell_type": "code",
      "execution_count": null,
      "metadata": {
        "colab": {
          "base_uri": "https://localhost:8080/",
          "height": 224
        },
        "id": "ivHfwvcUoQ4h",
        "outputId": "6ec37dd9-fd95-4e59-8c37-5459500e06e0"
      },
      "outputs": [
        {
          "output_type": "execute_result",
          "data": {
            "text/plain": [
              "Pipeline(steps=[('columntransformer',\n",
              "                 ColumnTransformer(transformers=[('num',\n",
              "                                                  Pipeline(steps=[('impute',\n",
              "                                                                   IterativeImputer()),\n",
              "                                                                  ('standardize',\n",
              "                                                                   StandardScaler())]),\n",
              "                                                  ['Area', 'BuildingYear',\n",
              "                                                   'Year',\n",
              "                                                   'AvgTimeToNearestStation',\n",
              "                                                   'RoomCount', 'Age']),\n",
              "                                                 ('cat',\n",
              "                                                  Pipeline(steps=[('impute',\n",
              "                                                                   SimpleImputer(strategy='most_frequent')),\n",
              "                                                                  ('dummify',\n",
              "                                                                   OneHotEncoder(drop='first',\n",
              "                                                                                 sparse=False))]),\n",
              "                                                  ['Structure', 'Use',\n",
              "                                                   'CityPlanning', 'Location',\n",
              "                                                   'ConstructionYear'])])),\n",
              "                ('linearregression', LinearRegression())])"
            ],
            "text/html": [
              "<style>#sk-78acbc74-e820-4835-94d9-97d935724ec1 {color: black;background-color: white;}#sk-78acbc74-e820-4835-94d9-97d935724ec1 pre{padding: 0;}#sk-78acbc74-e820-4835-94d9-97d935724ec1 div.sk-toggleable {background-color: white;}#sk-78acbc74-e820-4835-94d9-97d935724ec1 label.sk-toggleable__label {cursor: pointer;display: block;width: 100%;margin-bottom: 0;padding: 0.3em;box-sizing: border-box;text-align: center;}#sk-78acbc74-e820-4835-94d9-97d935724ec1 label.sk-toggleable__label-arrow:before {content: \"▸\";float: left;margin-right: 0.25em;color: #696969;}#sk-78acbc74-e820-4835-94d9-97d935724ec1 label.sk-toggleable__label-arrow:hover:before {color: black;}#sk-78acbc74-e820-4835-94d9-97d935724ec1 div.sk-estimator:hover label.sk-toggleable__label-arrow:before {color: black;}#sk-78acbc74-e820-4835-94d9-97d935724ec1 div.sk-toggleable__content {max-height: 0;max-width: 0;overflow: hidden;text-align: left;background-color: #f0f8ff;}#sk-78acbc74-e820-4835-94d9-97d935724ec1 div.sk-toggleable__content pre {margin: 0.2em;color: black;border-radius: 0.25em;background-color: #f0f8ff;}#sk-78acbc74-e820-4835-94d9-97d935724ec1 input.sk-toggleable__control:checked~div.sk-toggleable__content {max-height: 200px;max-width: 100%;overflow: auto;}#sk-78acbc74-e820-4835-94d9-97d935724ec1 input.sk-toggleable__control:checked~label.sk-toggleable__label-arrow:before {content: \"▾\";}#sk-78acbc74-e820-4835-94d9-97d935724ec1 div.sk-estimator input.sk-toggleable__control:checked~label.sk-toggleable__label {background-color: #d4ebff;}#sk-78acbc74-e820-4835-94d9-97d935724ec1 div.sk-label input.sk-toggleable__control:checked~label.sk-toggleable__label {background-color: #d4ebff;}#sk-78acbc74-e820-4835-94d9-97d935724ec1 input.sk-hidden--visually {border: 0;clip: rect(1px 1px 1px 1px);clip: rect(1px, 1px, 1px, 1px);height: 1px;margin: -1px;overflow: hidden;padding: 0;position: absolute;width: 1px;}#sk-78acbc74-e820-4835-94d9-97d935724ec1 div.sk-estimator {font-family: monospace;background-color: #f0f8ff;border: 1px dotted black;border-radius: 0.25em;box-sizing: border-box;margin-bottom: 0.5em;}#sk-78acbc74-e820-4835-94d9-97d935724ec1 div.sk-estimator:hover {background-color: #d4ebff;}#sk-78acbc74-e820-4835-94d9-97d935724ec1 div.sk-parallel-item::after {content: \"\";width: 100%;border-bottom: 1px solid gray;flex-grow: 1;}#sk-78acbc74-e820-4835-94d9-97d935724ec1 div.sk-label:hover label.sk-toggleable__label {background-color: #d4ebff;}#sk-78acbc74-e820-4835-94d9-97d935724ec1 div.sk-serial::before {content: \"\";position: absolute;border-left: 1px solid gray;box-sizing: border-box;top: 2em;bottom: 0;left: 50%;}#sk-78acbc74-e820-4835-94d9-97d935724ec1 div.sk-serial {display: flex;flex-direction: column;align-items: center;background-color: white;padding-right: 0.2em;padding-left: 0.2em;}#sk-78acbc74-e820-4835-94d9-97d935724ec1 div.sk-item {z-index: 1;}#sk-78acbc74-e820-4835-94d9-97d935724ec1 div.sk-parallel {display: flex;align-items: stretch;justify-content: center;background-color: white;}#sk-78acbc74-e820-4835-94d9-97d935724ec1 div.sk-parallel::before {content: \"\";position: absolute;border-left: 1px solid gray;box-sizing: border-box;top: 2em;bottom: 0;left: 50%;}#sk-78acbc74-e820-4835-94d9-97d935724ec1 div.sk-parallel-item {display: flex;flex-direction: column;position: relative;background-color: white;}#sk-78acbc74-e820-4835-94d9-97d935724ec1 div.sk-parallel-item:first-child::after {align-self: flex-end;width: 50%;}#sk-78acbc74-e820-4835-94d9-97d935724ec1 div.sk-parallel-item:last-child::after {align-self: flex-start;width: 50%;}#sk-78acbc74-e820-4835-94d9-97d935724ec1 div.sk-parallel-item:only-child::after {width: 0;}#sk-78acbc74-e820-4835-94d9-97d935724ec1 div.sk-dashed-wrapped {border: 1px dashed gray;margin: 0 0.4em 0.5em 0.4em;box-sizing: border-box;padding-bottom: 0.4em;background-color: white;position: relative;}#sk-78acbc74-e820-4835-94d9-97d935724ec1 div.sk-label label {font-family: monospace;font-weight: bold;background-color: white;display: inline-block;line-height: 1.2em;}#sk-78acbc74-e820-4835-94d9-97d935724ec1 div.sk-label-container {position: relative;z-index: 2;text-align: center;}#sk-78acbc74-e820-4835-94d9-97d935724ec1 div.sk-container {/* jupyter's `normalize.less` sets `[hidden] { display: none; }` but bootstrap.min.css set `[hidden] { display: none !important; }` so we also need the `!important` here to be able to override the default hidden behavior on the sphinx rendered scikit-learn.org. See: https://github.com/scikit-learn/scikit-learn/issues/21755 */display: inline-block !important;position: relative;}#sk-78acbc74-e820-4835-94d9-97d935724ec1 div.sk-text-repr-fallback {display: none;}</style><div id=\"sk-78acbc74-e820-4835-94d9-97d935724ec1\" class=\"sk-top-container\"><div class=\"sk-text-repr-fallback\"><pre>Pipeline(steps=[(&#x27;columntransformer&#x27;,\n",
              "                 ColumnTransformer(transformers=[(&#x27;num&#x27;,\n",
              "                                                  Pipeline(steps=[(&#x27;impute&#x27;,\n",
              "                                                                   IterativeImputer()),\n",
              "                                                                  (&#x27;standardize&#x27;,\n",
              "                                                                   StandardScaler())]),\n",
              "                                                  [&#x27;Area&#x27;, &#x27;BuildingYear&#x27;,\n",
              "                                                   &#x27;Year&#x27;,\n",
              "                                                   &#x27;AvgTimeToNearestStation&#x27;,\n",
              "                                                   &#x27;RoomCount&#x27;, &#x27;Age&#x27;]),\n",
              "                                                 (&#x27;cat&#x27;,\n",
              "                                                  Pipeline(steps=[(&#x27;impute&#x27;,\n",
              "                                                                   SimpleImputer(strategy=&#x27;most_frequent&#x27;)),\n",
              "                                                                  (&#x27;dummify&#x27;,\n",
              "                                                                   OneHotEncoder(drop=&#x27;first&#x27;,\n",
              "                                                                                 sparse=False))]),\n",
              "                                                  [&#x27;Structure&#x27;, &#x27;Use&#x27;,\n",
              "                                                   &#x27;CityPlanning&#x27;, &#x27;Location&#x27;,\n",
              "                                                   &#x27;ConstructionYear&#x27;])])),\n",
              "                (&#x27;linearregression&#x27;, LinearRegression())])</pre><b>Please rerun this cell to show the HTML repr or trust the notebook.</b></div><div class=\"sk-container\" hidden><div class=\"sk-item sk-dashed-wrapped\"><div class=\"sk-label-container\"><div class=\"sk-label sk-toggleable\"><input class=\"sk-toggleable__control sk-hidden--visually\" id=\"d5aaeeaa-3c55-4e38-9cbd-4c183d88a11f\" type=\"checkbox\" ><label for=\"d5aaeeaa-3c55-4e38-9cbd-4c183d88a11f\" class=\"sk-toggleable__label sk-toggleable__label-arrow\">Pipeline</label><div class=\"sk-toggleable__content\"><pre>Pipeline(steps=[(&#x27;columntransformer&#x27;,\n",
              "                 ColumnTransformer(transformers=[(&#x27;num&#x27;,\n",
              "                                                  Pipeline(steps=[(&#x27;impute&#x27;,\n",
              "                                                                   IterativeImputer()),\n",
              "                                                                  (&#x27;standardize&#x27;,\n",
              "                                                                   StandardScaler())]),\n",
              "                                                  [&#x27;Area&#x27;, &#x27;BuildingYear&#x27;,\n",
              "                                                   &#x27;Year&#x27;,\n",
              "                                                   &#x27;AvgTimeToNearestStation&#x27;,\n",
              "                                                   &#x27;RoomCount&#x27;, &#x27;Age&#x27;]),\n",
              "                                                 (&#x27;cat&#x27;,\n",
              "                                                  Pipeline(steps=[(&#x27;impute&#x27;,\n",
              "                                                                   SimpleImputer(strategy=&#x27;most_frequent&#x27;)),\n",
              "                                                                  (&#x27;dummify&#x27;,\n",
              "                                                                   OneHotEncoder(drop=&#x27;first&#x27;,\n",
              "                                                                                 sparse=False))]),\n",
              "                                                  [&#x27;Structure&#x27;, &#x27;Use&#x27;,\n",
              "                                                   &#x27;CityPlanning&#x27;, &#x27;Location&#x27;,\n",
              "                                                   &#x27;ConstructionYear&#x27;])])),\n",
              "                (&#x27;linearregression&#x27;, LinearRegression())])</pre></div></div></div><div class=\"sk-serial\"><div class=\"sk-item sk-dashed-wrapped\"><div class=\"sk-label-container\"><div class=\"sk-label sk-toggleable\"><input class=\"sk-toggleable__control sk-hidden--visually\" id=\"609ec073-b199-4e52-b3b0-c8f7afe4f4c2\" type=\"checkbox\" ><label for=\"609ec073-b199-4e52-b3b0-c8f7afe4f4c2\" class=\"sk-toggleable__label sk-toggleable__label-arrow\">columntransformer: ColumnTransformer</label><div class=\"sk-toggleable__content\"><pre>ColumnTransformer(transformers=[(&#x27;num&#x27;,\n",
              "                                 Pipeline(steps=[(&#x27;impute&#x27;, IterativeImputer()),\n",
              "                                                 (&#x27;standardize&#x27;,\n",
              "                                                  StandardScaler())]),\n",
              "                                 [&#x27;Area&#x27;, &#x27;BuildingYear&#x27;, &#x27;Year&#x27;,\n",
              "                                  &#x27;AvgTimeToNearestStation&#x27;, &#x27;RoomCount&#x27;,\n",
              "                                  &#x27;Age&#x27;]),\n",
              "                                (&#x27;cat&#x27;,\n",
              "                                 Pipeline(steps=[(&#x27;impute&#x27;,\n",
              "                                                  SimpleImputer(strategy=&#x27;most_frequent&#x27;)),\n",
              "                                                 (&#x27;dummify&#x27;,\n",
              "                                                  OneHotEncoder(drop=&#x27;first&#x27;,\n",
              "                                                                sparse=False))]),\n",
              "                                 [&#x27;Structure&#x27;, &#x27;Use&#x27;, &#x27;CityPlanning&#x27;,\n",
              "                                  &#x27;Location&#x27;, &#x27;ConstructionYear&#x27;])])</pre></div></div></div><div class=\"sk-parallel\"><div class=\"sk-parallel-item\"><div class=\"sk-item\"><div class=\"sk-label-container\"><div class=\"sk-label sk-toggleable\"><input class=\"sk-toggleable__control sk-hidden--visually\" id=\"70fcb92f-bfda-45e8-9f6c-df24fa3a37f6\" type=\"checkbox\" ><label for=\"70fcb92f-bfda-45e8-9f6c-df24fa3a37f6\" class=\"sk-toggleable__label sk-toggleable__label-arrow\">num</label><div class=\"sk-toggleable__content\"><pre>[&#x27;Area&#x27;, &#x27;BuildingYear&#x27;, &#x27;Year&#x27;, &#x27;AvgTimeToNearestStation&#x27;, &#x27;RoomCount&#x27;, &#x27;Age&#x27;]</pre></div></div></div><div class=\"sk-serial\"><div class=\"sk-item\"><div class=\"sk-serial\"><div class=\"sk-item\"><div class=\"sk-estimator sk-toggleable\"><input class=\"sk-toggleable__control sk-hidden--visually\" id=\"1a2d5986-bd08-48b8-b420-b1444a8dc7a0\" type=\"checkbox\" ><label for=\"1a2d5986-bd08-48b8-b420-b1444a8dc7a0\" class=\"sk-toggleable__label sk-toggleable__label-arrow\">IterativeImputer</label><div class=\"sk-toggleable__content\"><pre>IterativeImputer()</pre></div></div></div><div class=\"sk-item\"><div class=\"sk-estimator sk-toggleable\"><input class=\"sk-toggleable__control sk-hidden--visually\" id=\"c3e28eec-e842-4d76-9295-27a7ba785912\" type=\"checkbox\" ><label for=\"c3e28eec-e842-4d76-9295-27a7ba785912\" class=\"sk-toggleable__label sk-toggleable__label-arrow\">StandardScaler</label><div class=\"sk-toggleable__content\"><pre>StandardScaler()</pre></div></div></div></div></div></div></div></div><div class=\"sk-parallel-item\"><div class=\"sk-item\"><div class=\"sk-label-container\"><div class=\"sk-label sk-toggleable\"><input class=\"sk-toggleable__control sk-hidden--visually\" id=\"d6016478-e797-4916-8685-e1cb664f8f93\" type=\"checkbox\" ><label for=\"d6016478-e797-4916-8685-e1cb664f8f93\" class=\"sk-toggleable__label sk-toggleable__label-arrow\">cat</label><div class=\"sk-toggleable__content\"><pre>[&#x27;Structure&#x27;, &#x27;Use&#x27;, &#x27;CityPlanning&#x27;, &#x27;Location&#x27;, &#x27;ConstructionYear&#x27;]</pre></div></div></div><div class=\"sk-serial\"><div class=\"sk-item\"><div class=\"sk-serial\"><div class=\"sk-item\"><div class=\"sk-estimator sk-toggleable\"><input class=\"sk-toggleable__control sk-hidden--visually\" id=\"0f27bfc2-7fd5-4de6-954f-69ba73b0fefa\" type=\"checkbox\" ><label for=\"0f27bfc2-7fd5-4de6-954f-69ba73b0fefa\" class=\"sk-toggleable__label sk-toggleable__label-arrow\">SimpleImputer</label><div class=\"sk-toggleable__content\"><pre>SimpleImputer(strategy=&#x27;most_frequent&#x27;)</pre></div></div></div><div class=\"sk-item\"><div class=\"sk-estimator sk-toggleable\"><input class=\"sk-toggleable__control sk-hidden--visually\" id=\"48e80955-b387-4f03-8f78-61a2337efe22\" type=\"checkbox\" ><label for=\"48e80955-b387-4f03-8f78-61a2337efe22\" class=\"sk-toggleable__label sk-toggleable__label-arrow\">OneHotEncoder</label><div class=\"sk-toggleable__content\"><pre>OneHotEncoder(drop=&#x27;first&#x27;, sparse=False)</pre></div></div></div></div></div></div></div></div></div></div><div class=\"sk-item\"><div class=\"sk-estimator sk-toggleable\"><input class=\"sk-toggleable__control sk-hidden--visually\" id=\"3921e4dc-aef6-40fa-bf91-76294adde745\" type=\"checkbox\" ><label for=\"3921e4dc-aef6-40fa-bf91-76294adde745\" class=\"sk-toggleable__label sk-toggleable__label-arrow\">LinearRegression</label><div class=\"sk-toggleable__content\"><pre>LinearRegression()</pre></div></div></div></div></div></div></div>"
            ]
          },
          "metadata": {},
          "execution_count": 55
        }
      ],
      "source": [
        "from sklearn.linear_model import LinearRegression\n",
        "from sklearn.model_selection import cross_val_score\n",
        "\n",
        "lin_reg = make_pipeline(pipeline, LinearRegression())\n",
        "lin_reg.fit(df_X, df_y)"
      ]
    },
    {
      "cell_type": "code",
      "execution_count": null,
      "metadata": {
        "colab": {
          "base_uri": "https://localhost:8080/"
        },
        "id": "hyQaotxipLgK",
        "outputId": "6a0563d2-7856-4468-da59-141620b1e671"
      },
      "outputs": [
        {
          "output_type": "stream",
          "name": "stdout",
          "text": [
            "Linear Regression Model R-square Score: 0.5674\n"
          ]
        }
      ],
      "source": [
        "lin_reg_score = cross_val_score(lin_reg,df_X, df_y, cv=10, scoring=\"r2\" )\n",
        "print('Linear Regression Model R-square Score: {:.4f}'.format(lin_reg_score.mean()))"
      ]
    },
    {
      "cell_type": "markdown",
      "source": [
        "For this model of Linear Regression, we get an $R^2$ of `0.5674.`\n",
        "This shows that roughly 56% of the variablity of the `tradeprice` is explained by the linear regression model."
      ],
      "metadata": {
        "id": "X2mdNhXO-ZLg"
      }
    },
    {
      "cell_type": "markdown",
      "source": [
        "------------------------------------------------------------------------------------------------------------------------------------"
      ],
      "metadata": {
        "id": "ZVAk_m2Q-yQF"
      }
    },
    {
      "cell_type": "markdown",
      "metadata": {
        "id": "UaqMABMtPKPm"
      },
      "source": [
        "##3.2 Lasso Regression"
      ]
    },
    {
      "cell_type": "markdown",
      "source": [
        "*Lasso Regression is a regularization technique, used over regression methods to get a more accurate prediction.\n",
        "The model uses a shrinkage method wherein it shrinks the data values towards a central point as in the mean.*\n",
        "\n",
        "It is also primirarily used when the data is suspected to show signs of multicollinearity. We use this model to address this concern and check for multicollinearity in the dataset."
      ],
      "metadata": {
        "id": "U2lsIjXF-xdd"
      }
    },
    {
      "cell_type": "code",
      "execution_count": null,
      "metadata": {
        "colab": {
          "base_uri": "https://localhost:8080/",
          "height": 224
        },
        "id": "HzzOmesqPgL1",
        "outputId": "b124d9e3-f247-46c7-f6fc-341e921b7ff5"
      },
      "outputs": [
        {
          "output_type": "execute_result",
          "data": {
            "text/plain": [
              "Pipeline(steps=[('columntransformer',\n",
              "                 ColumnTransformer(transformers=[('num',\n",
              "                                                  Pipeline(steps=[('impute',\n",
              "                                                                   IterativeImputer()),\n",
              "                                                                  ('standardize',\n",
              "                                                                   StandardScaler())]),\n",
              "                                                  ['Area', 'BuildingYear',\n",
              "                                                   'Year',\n",
              "                                                   'AvgTimeToNearestStation',\n",
              "                                                   'RoomCount', 'Age']),\n",
              "                                                 ('cat',\n",
              "                                                  Pipeline(steps=[('impute',\n",
              "                                                                   SimpleImputer(strategy='most_frequent')),\n",
              "                                                                  ('dummify',\n",
              "                                                                   OneHotEncoder(drop='first',\n",
              "                                                                                 sparse=False))]),\n",
              "                                                  ['Structure', 'Use',\n",
              "                                                   'CityPlanning', 'Location',\n",
              "                                                   'ConstructionYear'])])),\n",
              "                ('lassocv', LassoCV(cv=10, random_state=90))])"
            ],
            "text/html": [
              "<style>#sk-818e4eb4-5f20-4519-8780-2e0ab93481bf {color: black;background-color: white;}#sk-818e4eb4-5f20-4519-8780-2e0ab93481bf pre{padding: 0;}#sk-818e4eb4-5f20-4519-8780-2e0ab93481bf div.sk-toggleable {background-color: white;}#sk-818e4eb4-5f20-4519-8780-2e0ab93481bf label.sk-toggleable__label {cursor: pointer;display: block;width: 100%;margin-bottom: 0;padding: 0.3em;box-sizing: border-box;text-align: center;}#sk-818e4eb4-5f20-4519-8780-2e0ab93481bf label.sk-toggleable__label-arrow:before {content: \"▸\";float: left;margin-right: 0.25em;color: #696969;}#sk-818e4eb4-5f20-4519-8780-2e0ab93481bf label.sk-toggleable__label-arrow:hover:before {color: black;}#sk-818e4eb4-5f20-4519-8780-2e0ab93481bf div.sk-estimator:hover label.sk-toggleable__label-arrow:before {color: black;}#sk-818e4eb4-5f20-4519-8780-2e0ab93481bf div.sk-toggleable__content {max-height: 0;max-width: 0;overflow: hidden;text-align: left;background-color: #f0f8ff;}#sk-818e4eb4-5f20-4519-8780-2e0ab93481bf div.sk-toggleable__content pre {margin: 0.2em;color: black;border-radius: 0.25em;background-color: #f0f8ff;}#sk-818e4eb4-5f20-4519-8780-2e0ab93481bf input.sk-toggleable__control:checked~div.sk-toggleable__content {max-height: 200px;max-width: 100%;overflow: auto;}#sk-818e4eb4-5f20-4519-8780-2e0ab93481bf input.sk-toggleable__control:checked~label.sk-toggleable__label-arrow:before {content: \"▾\";}#sk-818e4eb4-5f20-4519-8780-2e0ab93481bf div.sk-estimator input.sk-toggleable__control:checked~label.sk-toggleable__label {background-color: #d4ebff;}#sk-818e4eb4-5f20-4519-8780-2e0ab93481bf div.sk-label input.sk-toggleable__control:checked~label.sk-toggleable__label {background-color: #d4ebff;}#sk-818e4eb4-5f20-4519-8780-2e0ab93481bf input.sk-hidden--visually {border: 0;clip: rect(1px 1px 1px 1px);clip: rect(1px, 1px, 1px, 1px);height: 1px;margin: -1px;overflow: hidden;padding: 0;position: absolute;width: 1px;}#sk-818e4eb4-5f20-4519-8780-2e0ab93481bf div.sk-estimator {font-family: monospace;background-color: #f0f8ff;border: 1px dotted black;border-radius: 0.25em;box-sizing: border-box;margin-bottom: 0.5em;}#sk-818e4eb4-5f20-4519-8780-2e0ab93481bf div.sk-estimator:hover {background-color: #d4ebff;}#sk-818e4eb4-5f20-4519-8780-2e0ab93481bf div.sk-parallel-item::after {content: \"\";width: 100%;border-bottom: 1px solid gray;flex-grow: 1;}#sk-818e4eb4-5f20-4519-8780-2e0ab93481bf div.sk-label:hover label.sk-toggleable__label {background-color: #d4ebff;}#sk-818e4eb4-5f20-4519-8780-2e0ab93481bf div.sk-serial::before {content: \"\";position: absolute;border-left: 1px solid gray;box-sizing: border-box;top: 2em;bottom: 0;left: 50%;}#sk-818e4eb4-5f20-4519-8780-2e0ab93481bf div.sk-serial {display: flex;flex-direction: column;align-items: center;background-color: white;padding-right: 0.2em;padding-left: 0.2em;}#sk-818e4eb4-5f20-4519-8780-2e0ab93481bf div.sk-item {z-index: 1;}#sk-818e4eb4-5f20-4519-8780-2e0ab93481bf div.sk-parallel {display: flex;align-items: stretch;justify-content: center;background-color: white;}#sk-818e4eb4-5f20-4519-8780-2e0ab93481bf div.sk-parallel::before {content: \"\";position: absolute;border-left: 1px solid gray;box-sizing: border-box;top: 2em;bottom: 0;left: 50%;}#sk-818e4eb4-5f20-4519-8780-2e0ab93481bf div.sk-parallel-item {display: flex;flex-direction: column;position: relative;background-color: white;}#sk-818e4eb4-5f20-4519-8780-2e0ab93481bf div.sk-parallel-item:first-child::after {align-self: flex-end;width: 50%;}#sk-818e4eb4-5f20-4519-8780-2e0ab93481bf div.sk-parallel-item:last-child::after {align-self: flex-start;width: 50%;}#sk-818e4eb4-5f20-4519-8780-2e0ab93481bf div.sk-parallel-item:only-child::after {width: 0;}#sk-818e4eb4-5f20-4519-8780-2e0ab93481bf div.sk-dashed-wrapped {border: 1px dashed gray;margin: 0 0.4em 0.5em 0.4em;box-sizing: border-box;padding-bottom: 0.4em;background-color: white;position: relative;}#sk-818e4eb4-5f20-4519-8780-2e0ab93481bf div.sk-label label {font-family: monospace;font-weight: bold;background-color: white;display: inline-block;line-height: 1.2em;}#sk-818e4eb4-5f20-4519-8780-2e0ab93481bf div.sk-label-container {position: relative;z-index: 2;text-align: center;}#sk-818e4eb4-5f20-4519-8780-2e0ab93481bf div.sk-container {/* jupyter's `normalize.less` sets `[hidden] { display: none; }` but bootstrap.min.css set `[hidden] { display: none !important; }` so we also need the `!important` here to be able to override the default hidden behavior on the sphinx rendered scikit-learn.org. See: https://github.com/scikit-learn/scikit-learn/issues/21755 */display: inline-block !important;position: relative;}#sk-818e4eb4-5f20-4519-8780-2e0ab93481bf div.sk-text-repr-fallback {display: none;}</style><div id=\"sk-818e4eb4-5f20-4519-8780-2e0ab93481bf\" class=\"sk-top-container\"><div class=\"sk-text-repr-fallback\"><pre>Pipeline(steps=[(&#x27;columntransformer&#x27;,\n",
              "                 ColumnTransformer(transformers=[(&#x27;num&#x27;,\n",
              "                                                  Pipeline(steps=[(&#x27;impute&#x27;,\n",
              "                                                                   IterativeImputer()),\n",
              "                                                                  (&#x27;standardize&#x27;,\n",
              "                                                                   StandardScaler())]),\n",
              "                                                  [&#x27;Area&#x27;, &#x27;BuildingYear&#x27;,\n",
              "                                                   &#x27;Year&#x27;,\n",
              "                                                   &#x27;AvgTimeToNearestStation&#x27;,\n",
              "                                                   &#x27;RoomCount&#x27;, &#x27;Age&#x27;]),\n",
              "                                                 (&#x27;cat&#x27;,\n",
              "                                                  Pipeline(steps=[(&#x27;impute&#x27;,\n",
              "                                                                   SimpleImputer(strategy=&#x27;most_frequent&#x27;)),\n",
              "                                                                  (&#x27;dummify&#x27;,\n",
              "                                                                   OneHotEncoder(drop=&#x27;first&#x27;,\n",
              "                                                                                 sparse=False))]),\n",
              "                                                  [&#x27;Structure&#x27;, &#x27;Use&#x27;,\n",
              "                                                   &#x27;CityPlanning&#x27;, &#x27;Location&#x27;,\n",
              "                                                   &#x27;ConstructionYear&#x27;])])),\n",
              "                (&#x27;lassocv&#x27;, LassoCV(cv=10, random_state=90))])</pre><b>Please rerun this cell to show the HTML repr or trust the notebook.</b></div><div class=\"sk-container\" hidden><div class=\"sk-item sk-dashed-wrapped\"><div class=\"sk-label-container\"><div class=\"sk-label sk-toggleable\"><input class=\"sk-toggleable__control sk-hidden--visually\" id=\"f4d4c8a3-f90b-4ece-939e-95b612f84297\" type=\"checkbox\" ><label for=\"f4d4c8a3-f90b-4ece-939e-95b612f84297\" class=\"sk-toggleable__label sk-toggleable__label-arrow\">Pipeline</label><div class=\"sk-toggleable__content\"><pre>Pipeline(steps=[(&#x27;columntransformer&#x27;,\n",
              "                 ColumnTransformer(transformers=[(&#x27;num&#x27;,\n",
              "                                                  Pipeline(steps=[(&#x27;impute&#x27;,\n",
              "                                                                   IterativeImputer()),\n",
              "                                                                  (&#x27;standardize&#x27;,\n",
              "                                                                   StandardScaler())]),\n",
              "                                                  [&#x27;Area&#x27;, &#x27;BuildingYear&#x27;,\n",
              "                                                   &#x27;Year&#x27;,\n",
              "                                                   &#x27;AvgTimeToNearestStation&#x27;,\n",
              "                                                   &#x27;RoomCount&#x27;, &#x27;Age&#x27;]),\n",
              "                                                 (&#x27;cat&#x27;,\n",
              "                                                  Pipeline(steps=[(&#x27;impute&#x27;,\n",
              "                                                                   SimpleImputer(strategy=&#x27;most_frequent&#x27;)),\n",
              "                                                                  (&#x27;dummify&#x27;,\n",
              "                                                                   OneHotEncoder(drop=&#x27;first&#x27;,\n",
              "                                                                                 sparse=False))]),\n",
              "                                                  [&#x27;Structure&#x27;, &#x27;Use&#x27;,\n",
              "                                                   &#x27;CityPlanning&#x27;, &#x27;Location&#x27;,\n",
              "                                                   &#x27;ConstructionYear&#x27;])])),\n",
              "                (&#x27;lassocv&#x27;, LassoCV(cv=10, random_state=90))])</pre></div></div></div><div class=\"sk-serial\"><div class=\"sk-item sk-dashed-wrapped\"><div class=\"sk-label-container\"><div class=\"sk-label sk-toggleable\"><input class=\"sk-toggleable__control sk-hidden--visually\" id=\"47601d0e-b3cd-46c5-a49c-0cde65aaebb7\" type=\"checkbox\" ><label for=\"47601d0e-b3cd-46c5-a49c-0cde65aaebb7\" class=\"sk-toggleable__label sk-toggleable__label-arrow\">columntransformer: ColumnTransformer</label><div class=\"sk-toggleable__content\"><pre>ColumnTransformer(transformers=[(&#x27;num&#x27;,\n",
              "                                 Pipeline(steps=[(&#x27;impute&#x27;, IterativeImputer()),\n",
              "                                                 (&#x27;standardize&#x27;,\n",
              "                                                  StandardScaler())]),\n",
              "                                 [&#x27;Area&#x27;, &#x27;BuildingYear&#x27;, &#x27;Year&#x27;,\n",
              "                                  &#x27;AvgTimeToNearestStation&#x27;, &#x27;RoomCount&#x27;,\n",
              "                                  &#x27;Age&#x27;]),\n",
              "                                (&#x27;cat&#x27;,\n",
              "                                 Pipeline(steps=[(&#x27;impute&#x27;,\n",
              "                                                  SimpleImputer(strategy=&#x27;most_frequent&#x27;)),\n",
              "                                                 (&#x27;dummify&#x27;,\n",
              "                                                  OneHotEncoder(drop=&#x27;first&#x27;,\n",
              "                                                                sparse=False))]),\n",
              "                                 [&#x27;Structure&#x27;, &#x27;Use&#x27;, &#x27;CityPlanning&#x27;,\n",
              "                                  &#x27;Location&#x27;, &#x27;ConstructionYear&#x27;])])</pre></div></div></div><div class=\"sk-parallel\"><div class=\"sk-parallel-item\"><div class=\"sk-item\"><div class=\"sk-label-container\"><div class=\"sk-label sk-toggleable\"><input class=\"sk-toggleable__control sk-hidden--visually\" id=\"58d3b816-7af8-45ac-b15e-356935131863\" type=\"checkbox\" ><label for=\"58d3b816-7af8-45ac-b15e-356935131863\" class=\"sk-toggleable__label sk-toggleable__label-arrow\">num</label><div class=\"sk-toggleable__content\"><pre>[&#x27;Area&#x27;, &#x27;BuildingYear&#x27;, &#x27;Year&#x27;, &#x27;AvgTimeToNearestStation&#x27;, &#x27;RoomCount&#x27;, &#x27;Age&#x27;]</pre></div></div></div><div class=\"sk-serial\"><div class=\"sk-item\"><div class=\"sk-serial\"><div class=\"sk-item\"><div class=\"sk-estimator sk-toggleable\"><input class=\"sk-toggleable__control sk-hidden--visually\" id=\"41ef910f-3670-4135-9a5d-19a5079f1669\" type=\"checkbox\" ><label for=\"41ef910f-3670-4135-9a5d-19a5079f1669\" class=\"sk-toggleable__label sk-toggleable__label-arrow\">IterativeImputer</label><div class=\"sk-toggleable__content\"><pre>IterativeImputer()</pre></div></div></div><div class=\"sk-item\"><div class=\"sk-estimator sk-toggleable\"><input class=\"sk-toggleable__control sk-hidden--visually\" id=\"62de0a5b-bbae-4e2e-a0e2-e7c904fe7463\" type=\"checkbox\" ><label for=\"62de0a5b-bbae-4e2e-a0e2-e7c904fe7463\" class=\"sk-toggleable__label sk-toggleable__label-arrow\">StandardScaler</label><div class=\"sk-toggleable__content\"><pre>StandardScaler()</pre></div></div></div></div></div></div></div></div><div class=\"sk-parallel-item\"><div class=\"sk-item\"><div class=\"sk-label-container\"><div class=\"sk-label sk-toggleable\"><input class=\"sk-toggleable__control sk-hidden--visually\" id=\"51f23e64-7192-4d6a-9364-7fba3090325a\" type=\"checkbox\" ><label for=\"51f23e64-7192-4d6a-9364-7fba3090325a\" class=\"sk-toggleable__label sk-toggleable__label-arrow\">cat</label><div class=\"sk-toggleable__content\"><pre>[&#x27;Structure&#x27;, &#x27;Use&#x27;, &#x27;CityPlanning&#x27;, &#x27;Location&#x27;, &#x27;ConstructionYear&#x27;]</pre></div></div></div><div class=\"sk-serial\"><div class=\"sk-item\"><div class=\"sk-serial\"><div class=\"sk-item\"><div class=\"sk-estimator sk-toggleable\"><input class=\"sk-toggleable__control sk-hidden--visually\" id=\"39bea137-5380-4d15-a5dd-b78a029930a4\" type=\"checkbox\" ><label for=\"39bea137-5380-4d15-a5dd-b78a029930a4\" class=\"sk-toggleable__label sk-toggleable__label-arrow\">SimpleImputer</label><div class=\"sk-toggleable__content\"><pre>SimpleImputer(strategy=&#x27;most_frequent&#x27;)</pre></div></div></div><div class=\"sk-item\"><div class=\"sk-estimator sk-toggleable\"><input class=\"sk-toggleable__control sk-hidden--visually\" id=\"50f385a4-4a86-463d-bb7a-7e57091a4782\" type=\"checkbox\" ><label for=\"50f385a4-4a86-463d-bb7a-7e57091a4782\" class=\"sk-toggleable__label sk-toggleable__label-arrow\">OneHotEncoder</label><div class=\"sk-toggleable__content\"><pre>OneHotEncoder(drop=&#x27;first&#x27;, sparse=False)</pre></div></div></div></div></div></div></div></div></div></div><div class=\"sk-item\"><div class=\"sk-estimator sk-toggleable\"><input class=\"sk-toggleable__control sk-hidden--visually\" id=\"4be553e3-e840-43d1-a23b-c6a9a301ec72\" type=\"checkbox\" ><label for=\"4be553e3-e840-43d1-a23b-c6a9a301ec72\" class=\"sk-toggleable__label sk-toggleable__label-arrow\">LassoCV</label><div class=\"sk-toggleable__content\"><pre>LassoCV(cv=10, random_state=90)</pre></div></div></div></div></div></div></div>"
            ]
          },
          "metadata": {},
          "execution_count": 57
        }
      ],
      "source": [
        "from sklearn.linear_model import LassoCV\n",
        "from sklearn.model_selection import cross_val_score\n",
        "\n",
        "lasso_cv_pipe = make_pipeline(pipeline, LassoCV(cv = 10, random_state=90))\n",
        "lasso_cv_pipe.fit(df_X, df_y) "
      ]
    },
    {
      "cell_type": "code",
      "source": [
        "lasso_cv_pipe.score(df_X, df_y)\n",
        "print('Lasso Regression Model R-square Score: {:.4f}'.format(lasso_cv_pipe.score(df_X, df_y).mean()))"
      ],
      "metadata": {
        "colab": {
          "base_uri": "https://localhost:8080/"
        },
        "id": "R5IysPQNmlff",
        "outputId": "de4ae9e8-1e24-405f-fd71-5839feb718ea"
      },
      "execution_count": null,
      "outputs": [
        {
          "output_type": "stream",
          "name": "stdout",
          "text": [
            "Lasso Regression Model R-square Score: 0.5613\n"
          ]
        }
      ]
    },
    {
      "cell_type": "markdown",
      "source": [
        "This model of Lasso Regression gives us an $R^2$ score of `0.5613`, thus measuring about 56% of the variability of the `tradeprice` variable."
      ],
      "metadata": {
        "id": "K69PwGVzHhsx"
      }
    },
    {
      "cell_type": "markdown",
      "metadata": {
        "id": "CTyWC1mDyy19"
      },
      "source": [
        "##3.3 Ridge Regression"
      ]
    },
    {
      "cell_type": "markdown",
      "source": [
        "*Ridge Regression is used to analyze data that may contain multicollinearity, using L2 regularization. The ridge model is especially good at imporoving the least-squares estimate when multicollinearity is present.*"
      ],
      "metadata": {
        "id": "pz3ape14KFNf"
      }
    },
    {
      "cell_type": "code",
      "execution_count": null,
      "metadata": {
        "colab": {
          "base_uri": "https://localhost:8080/",
          "height": 224
        },
        "id": "_FbV-p9Ry6-i",
        "outputId": "cab8269e-5140-471f-9f8c-b8bde9325d06"
      },
      "outputs": [
        {
          "output_type": "execute_result",
          "data": {
            "text/plain": [
              "Pipeline(steps=[('columntransformer',\n",
              "                 ColumnTransformer(transformers=[('num',\n",
              "                                                  Pipeline(steps=[('impute',\n",
              "                                                                   IterativeImputer()),\n",
              "                                                                  ('standardize',\n",
              "                                                                   StandardScaler())]),\n",
              "                                                  ['Area', 'BuildingYear',\n",
              "                                                   'Year',\n",
              "                                                   'AvgTimeToNearestStation',\n",
              "                                                   'RoomCount', 'Age']),\n",
              "                                                 ('cat',\n",
              "                                                  Pipeline(steps=[('impute',\n",
              "                                                                   SimpleImputer(strategy='most_frequent')),\n",
              "                                                                  ('dummify',\n",
              "                                                                   OneHotEncoder(drop='first',\n",
              "                                                                                 sparse=False))]),\n",
              "                                                  ['Structure', 'Use',\n",
              "                                                   'CityPlanning', 'Location',\n",
              "                                                   'ConstructionYear'])])),\n",
              "                ('ridgecv', RidgeCV(alphas=array([ 0.1,  1. , 10. ]), cv=10))])"
            ],
            "text/html": [
              "<style>#sk-19207d56-2e4d-4a3f-8045-943a4cdb002b {color: black;background-color: white;}#sk-19207d56-2e4d-4a3f-8045-943a4cdb002b pre{padding: 0;}#sk-19207d56-2e4d-4a3f-8045-943a4cdb002b div.sk-toggleable {background-color: white;}#sk-19207d56-2e4d-4a3f-8045-943a4cdb002b label.sk-toggleable__label {cursor: pointer;display: block;width: 100%;margin-bottom: 0;padding: 0.3em;box-sizing: border-box;text-align: center;}#sk-19207d56-2e4d-4a3f-8045-943a4cdb002b label.sk-toggleable__label-arrow:before {content: \"▸\";float: left;margin-right: 0.25em;color: #696969;}#sk-19207d56-2e4d-4a3f-8045-943a4cdb002b label.sk-toggleable__label-arrow:hover:before {color: black;}#sk-19207d56-2e4d-4a3f-8045-943a4cdb002b div.sk-estimator:hover label.sk-toggleable__label-arrow:before {color: black;}#sk-19207d56-2e4d-4a3f-8045-943a4cdb002b div.sk-toggleable__content {max-height: 0;max-width: 0;overflow: hidden;text-align: left;background-color: #f0f8ff;}#sk-19207d56-2e4d-4a3f-8045-943a4cdb002b div.sk-toggleable__content pre {margin: 0.2em;color: black;border-radius: 0.25em;background-color: #f0f8ff;}#sk-19207d56-2e4d-4a3f-8045-943a4cdb002b input.sk-toggleable__control:checked~div.sk-toggleable__content {max-height: 200px;max-width: 100%;overflow: auto;}#sk-19207d56-2e4d-4a3f-8045-943a4cdb002b input.sk-toggleable__control:checked~label.sk-toggleable__label-arrow:before {content: \"▾\";}#sk-19207d56-2e4d-4a3f-8045-943a4cdb002b div.sk-estimator input.sk-toggleable__control:checked~label.sk-toggleable__label {background-color: #d4ebff;}#sk-19207d56-2e4d-4a3f-8045-943a4cdb002b div.sk-label input.sk-toggleable__control:checked~label.sk-toggleable__label {background-color: #d4ebff;}#sk-19207d56-2e4d-4a3f-8045-943a4cdb002b input.sk-hidden--visually {border: 0;clip: rect(1px 1px 1px 1px);clip: rect(1px, 1px, 1px, 1px);height: 1px;margin: -1px;overflow: hidden;padding: 0;position: absolute;width: 1px;}#sk-19207d56-2e4d-4a3f-8045-943a4cdb002b div.sk-estimator {font-family: monospace;background-color: #f0f8ff;border: 1px dotted black;border-radius: 0.25em;box-sizing: border-box;margin-bottom: 0.5em;}#sk-19207d56-2e4d-4a3f-8045-943a4cdb002b div.sk-estimator:hover {background-color: #d4ebff;}#sk-19207d56-2e4d-4a3f-8045-943a4cdb002b div.sk-parallel-item::after {content: \"\";width: 100%;border-bottom: 1px solid gray;flex-grow: 1;}#sk-19207d56-2e4d-4a3f-8045-943a4cdb002b div.sk-label:hover label.sk-toggleable__label {background-color: #d4ebff;}#sk-19207d56-2e4d-4a3f-8045-943a4cdb002b div.sk-serial::before {content: \"\";position: absolute;border-left: 1px solid gray;box-sizing: border-box;top: 2em;bottom: 0;left: 50%;}#sk-19207d56-2e4d-4a3f-8045-943a4cdb002b div.sk-serial {display: flex;flex-direction: column;align-items: center;background-color: white;padding-right: 0.2em;padding-left: 0.2em;}#sk-19207d56-2e4d-4a3f-8045-943a4cdb002b div.sk-item {z-index: 1;}#sk-19207d56-2e4d-4a3f-8045-943a4cdb002b div.sk-parallel {display: flex;align-items: stretch;justify-content: center;background-color: white;}#sk-19207d56-2e4d-4a3f-8045-943a4cdb002b div.sk-parallel::before {content: \"\";position: absolute;border-left: 1px solid gray;box-sizing: border-box;top: 2em;bottom: 0;left: 50%;}#sk-19207d56-2e4d-4a3f-8045-943a4cdb002b div.sk-parallel-item {display: flex;flex-direction: column;position: relative;background-color: white;}#sk-19207d56-2e4d-4a3f-8045-943a4cdb002b div.sk-parallel-item:first-child::after {align-self: flex-end;width: 50%;}#sk-19207d56-2e4d-4a3f-8045-943a4cdb002b div.sk-parallel-item:last-child::after {align-self: flex-start;width: 50%;}#sk-19207d56-2e4d-4a3f-8045-943a4cdb002b div.sk-parallel-item:only-child::after {width: 0;}#sk-19207d56-2e4d-4a3f-8045-943a4cdb002b div.sk-dashed-wrapped {border: 1px dashed gray;margin: 0 0.4em 0.5em 0.4em;box-sizing: border-box;padding-bottom: 0.4em;background-color: white;position: relative;}#sk-19207d56-2e4d-4a3f-8045-943a4cdb002b div.sk-label label {font-family: monospace;font-weight: bold;background-color: white;display: inline-block;line-height: 1.2em;}#sk-19207d56-2e4d-4a3f-8045-943a4cdb002b div.sk-label-container {position: relative;z-index: 2;text-align: center;}#sk-19207d56-2e4d-4a3f-8045-943a4cdb002b div.sk-container {/* jupyter's `normalize.less` sets `[hidden] { display: none; }` but bootstrap.min.css set `[hidden] { display: none !important; }` so we also need the `!important` here to be able to override the default hidden behavior on the sphinx rendered scikit-learn.org. See: https://github.com/scikit-learn/scikit-learn/issues/21755 */display: inline-block !important;position: relative;}#sk-19207d56-2e4d-4a3f-8045-943a4cdb002b div.sk-text-repr-fallback {display: none;}</style><div id=\"sk-19207d56-2e4d-4a3f-8045-943a4cdb002b\" class=\"sk-top-container\"><div class=\"sk-text-repr-fallback\"><pre>Pipeline(steps=[(&#x27;columntransformer&#x27;,\n",
              "                 ColumnTransformer(transformers=[(&#x27;num&#x27;,\n",
              "                                                  Pipeline(steps=[(&#x27;impute&#x27;,\n",
              "                                                                   IterativeImputer()),\n",
              "                                                                  (&#x27;standardize&#x27;,\n",
              "                                                                   StandardScaler())]),\n",
              "                                                  [&#x27;Area&#x27;, &#x27;BuildingYear&#x27;,\n",
              "                                                   &#x27;Year&#x27;,\n",
              "                                                   &#x27;AvgTimeToNearestStation&#x27;,\n",
              "                                                   &#x27;RoomCount&#x27;, &#x27;Age&#x27;]),\n",
              "                                                 (&#x27;cat&#x27;,\n",
              "                                                  Pipeline(steps=[(&#x27;impute&#x27;,\n",
              "                                                                   SimpleImputer(strategy=&#x27;most_frequent&#x27;)),\n",
              "                                                                  (&#x27;dummify&#x27;,\n",
              "                                                                   OneHotEncoder(drop=&#x27;first&#x27;,\n",
              "                                                                                 sparse=False))]),\n",
              "                                                  [&#x27;Structure&#x27;, &#x27;Use&#x27;,\n",
              "                                                   &#x27;CityPlanning&#x27;, &#x27;Location&#x27;,\n",
              "                                                   &#x27;ConstructionYear&#x27;])])),\n",
              "                (&#x27;ridgecv&#x27;, RidgeCV(alphas=array([ 0.1,  1. , 10. ]), cv=10))])</pre><b>Please rerun this cell to show the HTML repr or trust the notebook.</b></div><div class=\"sk-container\" hidden><div class=\"sk-item sk-dashed-wrapped\"><div class=\"sk-label-container\"><div class=\"sk-label sk-toggleable\"><input class=\"sk-toggleable__control sk-hidden--visually\" id=\"9a31f8d8-b28c-40a7-bf28-7c3b5ac40db3\" type=\"checkbox\" ><label for=\"9a31f8d8-b28c-40a7-bf28-7c3b5ac40db3\" class=\"sk-toggleable__label sk-toggleable__label-arrow\">Pipeline</label><div class=\"sk-toggleable__content\"><pre>Pipeline(steps=[(&#x27;columntransformer&#x27;,\n",
              "                 ColumnTransformer(transformers=[(&#x27;num&#x27;,\n",
              "                                                  Pipeline(steps=[(&#x27;impute&#x27;,\n",
              "                                                                   IterativeImputer()),\n",
              "                                                                  (&#x27;standardize&#x27;,\n",
              "                                                                   StandardScaler())]),\n",
              "                                                  [&#x27;Area&#x27;, &#x27;BuildingYear&#x27;,\n",
              "                                                   &#x27;Year&#x27;,\n",
              "                                                   &#x27;AvgTimeToNearestStation&#x27;,\n",
              "                                                   &#x27;RoomCount&#x27;, &#x27;Age&#x27;]),\n",
              "                                                 (&#x27;cat&#x27;,\n",
              "                                                  Pipeline(steps=[(&#x27;impute&#x27;,\n",
              "                                                                   SimpleImputer(strategy=&#x27;most_frequent&#x27;)),\n",
              "                                                                  (&#x27;dummify&#x27;,\n",
              "                                                                   OneHotEncoder(drop=&#x27;first&#x27;,\n",
              "                                                                                 sparse=False))]),\n",
              "                                                  [&#x27;Structure&#x27;, &#x27;Use&#x27;,\n",
              "                                                   &#x27;CityPlanning&#x27;, &#x27;Location&#x27;,\n",
              "                                                   &#x27;ConstructionYear&#x27;])])),\n",
              "                (&#x27;ridgecv&#x27;, RidgeCV(alphas=array([ 0.1,  1. , 10. ]), cv=10))])</pre></div></div></div><div class=\"sk-serial\"><div class=\"sk-item sk-dashed-wrapped\"><div class=\"sk-label-container\"><div class=\"sk-label sk-toggleable\"><input class=\"sk-toggleable__control sk-hidden--visually\" id=\"5474925d-0c2d-4982-907f-18f83e9bbe2b\" type=\"checkbox\" ><label for=\"5474925d-0c2d-4982-907f-18f83e9bbe2b\" class=\"sk-toggleable__label sk-toggleable__label-arrow\">columntransformer: ColumnTransformer</label><div class=\"sk-toggleable__content\"><pre>ColumnTransformer(transformers=[(&#x27;num&#x27;,\n",
              "                                 Pipeline(steps=[(&#x27;impute&#x27;, IterativeImputer()),\n",
              "                                                 (&#x27;standardize&#x27;,\n",
              "                                                  StandardScaler())]),\n",
              "                                 [&#x27;Area&#x27;, &#x27;BuildingYear&#x27;, &#x27;Year&#x27;,\n",
              "                                  &#x27;AvgTimeToNearestStation&#x27;, &#x27;RoomCount&#x27;,\n",
              "                                  &#x27;Age&#x27;]),\n",
              "                                (&#x27;cat&#x27;,\n",
              "                                 Pipeline(steps=[(&#x27;impute&#x27;,\n",
              "                                                  SimpleImputer(strategy=&#x27;most_frequent&#x27;)),\n",
              "                                                 (&#x27;dummify&#x27;,\n",
              "                                                  OneHotEncoder(drop=&#x27;first&#x27;,\n",
              "                                                                sparse=False))]),\n",
              "                                 [&#x27;Structure&#x27;, &#x27;Use&#x27;, &#x27;CityPlanning&#x27;,\n",
              "                                  &#x27;Location&#x27;, &#x27;ConstructionYear&#x27;])])</pre></div></div></div><div class=\"sk-parallel\"><div class=\"sk-parallel-item\"><div class=\"sk-item\"><div class=\"sk-label-container\"><div class=\"sk-label sk-toggleable\"><input class=\"sk-toggleable__control sk-hidden--visually\" id=\"bd4e366c-f134-4ee3-b1ed-4b8ca18775a2\" type=\"checkbox\" ><label for=\"bd4e366c-f134-4ee3-b1ed-4b8ca18775a2\" class=\"sk-toggleable__label sk-toggleable__label-arrow\">num</label><div class=\"sk-toggleable__content\"><pre>[&#x27;Area&#x27;, &#x27;BuildingYear&#x27;, &#x27;Year&#x27;, &#x27;AvgTimeToNearestStation&#x27;, &#x27;RoomCount&#x27;, &#x27;Age&#x27;]</pre></div></div></div><div class=\"sk-serial\"><div class=\"sk-item\"><div class=\"sk-serial\"><div class=\"sk-item\"><div class=\"sk-estimator sk-toggleable\"><input class=\"sk-toggleable__control sk-hidden--visually\" id=\"5a2b6ce2-7b06-4d90-b571-f4a811c83f65\" type=\"checkbox\" ><label for=\"5a2b6ce2-7b06-4d90-b571-f4a811c83f65\" class=\"sk-toggleable__label sk-toggleable__label-arrow\">IterativeImputer</label><div class=\"sk-toggleable__content\"><pre>IterativeImputer()</pre></div></div></div><div class=\"sk-item\"><div class=\"sk-estimator sk-toggleable\"><input class=\"sk-toggleable__control sk-hidden--visually\" id=\"3f665d73-0362-4b21-b376-3ad07823452c\" type=\"checkbox\" ><label for=\"3f665d73-0362-4b21-b376-3ad07823452c\" class=\"sk-toggleable__label sk-toggleable__label-arrow\">StandardScaler</label><div class=\"sk-toggleable__content\"><pre>StandardScaler()</pre></div></div></div></div></div></div></div></div><div class=\"sk-parallel-item\"><div class=\"sk-item\"><div class=\"sk-label-container\"><div class=\"sk-label sk-toggleable\"><input class=\"sk-toggleable__control sk-hidden--visually\" id=\"5d5b20cb-d375-475b-a6d1-e05684454bfc\" type=\"checkbox\" ><label for=\"5d5b20cb-d375-475b-a6d1-e05684454bfc\" class=\"sk-toggleable__label sk-toggleable__label-arrow\">cat</label><div class=\"sk-toggleable__content\"><pre>[&#x27;Structure&#x27;, &#x27;Use&#x27;, &#x27;CityPlanning&#x27;, &#x27;Location&#x27;, &#x27;ConstructionYear&#x27;]</pre></div></div></div><div class=\"sk-serial\"><div class=\"sk-item\"><div class=\"sk-serial\"><div class=\"sk-item\"><div class=\"sk-estimator sk-toggleable\"><input class=\"sk-toggleable__control sk-hidden--visually\" id=\"85a01e93-fb64-494a-acd6-e8ccc4a93ba0\" type=\"checkbox\" ><label for=\"85a01e93-fb64-494a-acd6-e8ccc4a93ba0\" class=\"sk-toggleable__label sk-toggleable__label-arrow\">SimpleImputer</label><div class=\"sk-toggleable__content\"><pre>SimpleImputer(strategy=&#x27;most_frequent&#x27;)</pre></div></div></div><div class=\"sk-item\"><div class=\"sk-estimator sk-toggleable\"><input class=\"sk-toggleable__control sk-hidden--visually\" id=\"feeb6200-7bfd-4323-89af-1f5f8bf72404\" type=\"checkbox\" ><label for=\"feeb6200-7bfd-4323-89af-1f5f8bf72404\" class=\"sk-toggleable__label sk-toggleable__label-arrow\">OneHotEncoder</label><div class=\"sk-toggleable__content\"><pre>OneHotEncoder(drop=&#x27;first&#x27;, sparse=False)</pre></div></div></div></div></div></div></div></div></div></div><div class=\"sk-item\"><div class=\"sk-estimator sk-toggleable\"><input class=\"sk-toggleable__control sk-hidden--visually\" id=\"a3b2a787-e32b-48c4-968f-a12133776dd8\" type=\"checkbox\" ><label for=\"a3b2a787-e32b-48c4-968f-a12133776dd8\" class=\"sk-toggleable__label sk-toggleable__label-arrow\">RidgeCV</label><div class=\"sk-toggleable__content\"><pre>RidgeCV(alphas=array([ 0.1,  1. , 10. ]), cv=10)</pre></div></div></div></div></div></div></div>"
            ]
          },
          "metadata": {},
          "execution_count": 59
        }
      ],
      "source": [
        "from sklearn.linear_model import RidgeCV\n",
        "\n",
        "ridge_cv_pipe = make_pipeline(pipeline, RidgeCV(cv = 10))\n",
        "ridge_cv_pipe.fit(df_X, df_y)"
      ]
    },
    {
      "cell_type": "code",
      "source": [
        "ridge_cv_pipe.score(df_X, df_y)\n",
        "print('Ridge Regression Model R-square Score: {:.4f}'.format(ridge_cv_pipe.score(df_X, df_y).mean()))"
      ],
      "metadata": {
        "colab": {
          "base_uri": "https://localhost:8080/"
        },
        "id": "XVOFk1Cdmqs9",
        "outputId": "4f74dd2e-af1c-44dd-9459-f97677aa5fa9"
      },
      "execution_count": null,
      "outputs": [
        {
          "output_type": "stream",
          "name": "stdout",
          "text": [
            "Ridge Regression Model R-square Score: 0.5614\n"
          ]
        }
      ]
    },
    {
      "cell_type": "markdown",
      "source": [
        "The Ridge Regression model gives us an $R^2$ score of `0.5614`. Therefore explaining about 56% of the variability of `tradeprice` variable.\n",
        "\n"
      ],
      "metadata": {
        "id": "QvL90Vz2KEBw"
      }
    },
    {
      "cell_type": "markdown",
      "metadata": {
        "id": "HXw2KrSdn7M2"
      },
      "source": [
        "## 3.4 SGD Regressor"
      ]
    },
    {
      "cell_type": "markdown",
      "source": [
        "*Stochastic Gradient Descent is an optimization model in machine learning that attempts to find the model parameters that correspond to the best fit between predicted and actual outputs.*"
      ],
      "metadata": {
        "id": "5A28623KRm71"
      }
    },
    {
      "cell_type": "code",
      "execution_count": null,
      "metadata": {
        "id": "5sBUtGALuHsC",
        "colab": {
          "base_uri": "https://localhost:8080/",
          "height": 224
        },
        "outputId": "deee4ce0-435a-45e5-e60e-416bc0a91504"
      },
      "outputs": [
        {
          "output_type": "execute_result",
          "data": {
            "text/plain": [
              "Pipeline(steps=[('columntransformer',\n",
              "                 ColumnTransformer(transformers=[('num',\n",
              "                                                  Pipeline(steps=[('impute',\n",
              "                                                                   IterativeImputer()),\n",
              "                                                                  ('standardize',\n",
              "                                                                   StandardScaler())]),\n",
              "                                                  ['Area', 'BuildingYear',\n",
              "                                                   'Year',\n",
              "                                                   'AvgTimeToNearestStation',\n",
              "                                                   'RoomCount', 'Age']),\n",
              "                                                 ('cat',\n",
              "                                                  Pipeline(steps=[('impute',\n",
              "                                                                   SimpleImputer(strategy='most_frequent')),\n",
              "                                                                  ('dummify',\n",
              "                                                                   OneHotEncoder(drop='first',\n",
              "                                                                                 sparse=False))]),\n",
              "                                                  ['Structure', 'Use',\n",
              "                                                   'CityPlanning', 'Location',\n",
              "                                                   'ConstructionYear'])])),\n",
              "                ('sgdregressor', SGDRegressor(random_state=90))])"
            ],
            "text/html": [
              "<style>#sk-60e3c890-d88f-45be-b0f6-2216314750b8 {color: black;background-color: white;}#sk-60e3c890-d88f-45be-b0f6-2216314750b8 pre{padding: 0;}#sk-60e3c890-d88f-45be-b0f6-2216314750b8 div.sk-toggleable {background-color: white;}#sk-60e3c890-d88f-45be-b0f6-2216314750b8 label.sk-toggleable__label {cursor: pointer;display: block;width: 100%;margin-bottom: 0;padding: 0.3em;box-sizing: border-box;text-align: center;}#sk-60e3c890-d88f-45be-b0f6-2216314750b8 label.sk-toggleable__label-arrow:before {content: \"▸\";float: left;margin-right: 0.25em;color: #696969;}#sk-60e3c890-d88f-45be-b0f6-2216314750b8 label.sk-toggleable__label-arrow:hover:before {color: black;}#sk-60e3c890-d88f-45be-b0f6-2216314750b8 div.sk-estimator:hover label.sk-toggleable__label-arrow:before {color: black;}#sk-60e3c890-d88f-45be-b0f6-2216314750b8 div.sk-toggleable__content {max-height: 0;max-width: 0;overflow: hidden;text-align: left;background-color: #f0f8ff;}#sk-60e3c890-d88f-45be-b0f6-2216314750b8 div.sk-toggleable__content pre {margin: 0.2em;color: black;border-radius: 0.25em;background-color: #f0f8ff;}#sk-60e3c890-d88f-45be-b0f6-2216314750b8 input.sk-toggleable__control:checked~div.sk-toggleable__content {max-height: 200px;max-width: 100%;overflow: auto;}#sk-60e3c890-d88f-45be-b0f6-2216314750b8 input.sk-toggleable__control:checked~label.sk-toggleable__label-arrow:before {content: \"▾\";}#sk-60e3c890-d88f-45be-b0f6-2216314750b8 div.sk-estimator input.sk-toggleable__control:checked~label.sk-toggleable__label {background-color: #d4ebff;}#sk-60e3c890-d88f-45be-b0f6-2216314750b8 div.sk-label input.sk-toggleable__control:checked~label.sk-toggleable__label {background-color: #d4ebff;}#sk-60e3c890-d88f-45be-b0f6-2216314750b8 input.sk-hidden--visually {border: 0;clip: rect(1px 1px 1px 1px);clip: rect(1px, 1px, 1px, 1px);height: 1px;margin: -1px;overflow: hidden;padding: 0;position: absolute;width: 1px;}#sk-60e3c890-d88f-45be-b0f6-2216314750b8 div.sk-estimator {font-family: monospace;background-color: #f0f8ff;border: 1px dotted black;border-radius: 0.25em;box-sizing: border-box;margin-bottom: 0.5em;}#sk-60e3c890-d88f-45be-b0f6-2216314750b8 div.sk-estimator:hover {background-color: #d4ebff;}#sk-60e3c890-d88f-45be-b0f6-2216314750b8 div.sk-parallel-item::after {content: \"\";width: 100%;border-bottom: 1px solid gray;flex-grow: 1;}#sk-60e3c890-d88f-45be-b0f6-2216314750b8 div.sk-label:hover label.sk-toggleable__label {background-color: #d4ebff;}#sk-60e3c890-d88f-45be-b0f6-2216314750b8 div.sk-serial::before {content: \"\";position: absolute;border-left: 1px solid gray;box-sizing: border-box;top: 2em;bottom: 0;left: 50%;}#sk-60e3c890-d88f-45be-b0f6-2216314750b8 div.sk-serial {display: flex;flex-direction: column;align-items: center;background-color: white;padding-right: 0.2em;padding-left: 0.2em;}#sk-60e3c890-d88f-45be-b0f6-2216314750b8 div.sk-item {z-index: 1;}#sk-60e3c890-d88f-45be-b0f6-2216314750b8 div.sk-parallel {display: flex;align-items: stretch;justify-content: center;background-color: white;}#sk-60e3c890-d88f-45be-b0f6-2216314750b8 div.sk-parallel::before {content: \"\";position: absolute;border-left: 1px solid gray;box-sizing: border-box;top: 2em;bottom: 0;left: 50%;}#sk-60e3c890-d88f-45be-b0f6-2216314750b8 div.sk-parallel-item {display: flex;flex-direction: column;position: relative;background-color: white;}#sk-60e3c890-d88f-45be-b0f6-2216314750b8 div.sk-parallel-item:first-child::after {align-self: flex-end;width: 50%;}#sk-60e3c890-d88f-45be-b0f6-2216314750b8 div.sk-parallel-item:last-child::after {align-self: flex-start;width: 50%;}#sk-60e3c890-d88f-45be-b0f6-2216314750b8 div.sk-parallel-item:only-child::after {width: 0;}#sk-60e3c890-d88f-45be-b0f6-2216314750b8 div.sk-dashed-wrapped {border: 1px dashed gray;margin: 0 0.4em 0.5em 0.4em;box-sizing: border-box;padding-bottom: 0.4em;background-color: white;position: relative;}#sk-60e3c890-d88f-45be-b0f6-2216314750b8 div.sk-label label {font-family: monospace;font-weight: bold;background-color: white;display: inline-block;line-height: 1.2em;}#sk-60e3c890-d88f-45be-b0f6-2216314750b8 div.sk-label-container {position: relative;z-index: 2;text-align: center;}#sk-60e3c890-d88f-45be-b0f6-2216314750b8 div.sk-container {/* jupyter's `normalize.less` sets `[hidden] { display: none; }` but bootstrap.min.css set `[hidden] { display: none !important; }` so we also need the `!important` here to be able to override the default hidden behavior on the sphinx rendered scikit-learn.org. See: https://github.com/scikit-learn/scikit-learn/issues/21755 */display: inline-block !important;position: relative;}#sk-60e3c890-d88f-45be-b0f6-2216314750b8 div.sk-text-repr-fallback {display: none;}</style><div id=\"sk-60e3c890-d88f-45be-b0f6-2216314750b8\" class=\"sk-top-container\"><div class=\"sk-text-repr-fallback\"><pre>Pipeline(steps=[(&#x27;columntransformer&#x27;,\n",
              "                 ColumnTransformer(transformers=[(&#x27;num&#x27;,\n",
              "                                                  Pipeline(steps=[(&#x27;impute&#x27;,\n",
              "                                                                   IterativeImputer()),\n",
              "                                                                  (&#x27;standardize&#x27;,\n",
              "                                                                   StandardScaler())]),\n",
              "                                                  [&#x27;Area&#x27;, &#x27;BuildingYear&#x27;,\n",
              "                                                   &#x27;Year&#x27;,\n",
              "                                                   &#x27;AvgTimeToNearestStation&#x27;,\n",
              "                                                   &#x27;RoomCount&#x27;, &#x27;Age&#x27;]),\n",
              "                                                 (&#x27;cat&#x27;,\n",
              "                                                  Pipeline(steps=[(&#x27;impute&#x27;,\n",
              "                                                                   SimpleImputer(strategy=&#x27;most_frequent&#x27;)),\n",
              "                                                                  (&#x27;dummify&#x27;,\n",
              "                                                                   OneHotEncoder(drop=&#x27;first&#x27;,\n",
              "                                                                                 sparse=False))]),\n",
              "                                                  [&#x27;Structure&#x27;, &#x27;Use&#x27;,\n",
              "                                                   &#x27;CityPlanning&#x27;, &#x27;Location&#x27;,\n",
              "                                                   &#x27;ConstructionYear&#x27;])])),\n",
              "                (&#x27;sgdregressor&#x27;, SGDRegressor(random_state=90))])</pre><b>Please rerun this cell to show the HTML repr or trust the notebook.</b></div><div class=\"sk-container\" hidden><div class=\"sk-item sk-dashed-wrapped\"><div class=\"sk-label-container\"><div class=\"sk-label sk-toggleable\"><input class=\"sk-toggleable__control sk-hidden--visually\" id=\"73aa7137-1303-4158-b337-6ff702746b00\" type=\"checkbox\" ><label for=\"73aa7137-1303-4158-b337-6ff702746b00\" class=\"sk-toggleable__label sk-toggleable__label-arrow\">Pipeline</label><div class=\"sk-toggleable__content\"><pre>Pipeline(steps=[(&#x27;columntransformer&#x27;,\n",
              "                 ColumnTransformer(transformers=[(&#x27;num&#x27;,\n",
              "                                                  Pipeline(steps=[(&#x27;impute&#x27;,\n",
              "                                                                   IterativeImputer()),\n",
              "                                                                  (&#x27;standardize&#x27;,\n",
              "                                                                   StandardScaler())]),\n",
              "                                                  [&#x27;Area&#x27;, &#x27;BuildingYear&#x27;,\n",
              "                                                   &#x27;Year&#x27;,\n",
              "                                                   &#x27;AvgTimeToNearestStation&#x27;,\n",
              "                                                   &#x27;RoomCount&#x27;, &#x27;Age&#x27;]),\n",
              "                                                 (&#x27;cat&#x27;,\n",
              "                                                  Pipeline(steps=[(&#x27;impute&#x27;,\n",
              "                                                                   SimpleImputer(strategy=&#x27;most_frequent&#x27;)),\n",
              "                                                                  (&#x27;dummify&#x27;,\n",
              "                                                                   OneHotEncoder(drop=&#x27;first&#x27;,\n",
              "                                                                                 sparse=False))]),\n",
              "                                                  [&#x27;Structure&#x27;, &#x27;Use&#x27;,\n",
              "                                                   &#x27;CityPlanning&#x27;, &#x27;Location&#x27;,\n",
              "                                                   &#x27;ConstructionYear&#x27;])])),\n",
              "                (&#x27;sgdregressor&#x27;, SGDRegressor(random_state=90))])</pre></div></div></div><div class=\"sk-serial\"><div class=\"sk-item sk-dashed-wrapped\"><div class=\"sk-label-container\"><div class=\"sk-label sk-toggleable\"><input class=\"sk-toggleable__control sk-hidden--visually\" id=\"983e1db7-e493-46c1-a6e2-df2cc7d06b44\" type=\"checkbox\" ><label for=\"983e1db7-e493-46c1-a6e2-df2cc7d06b44\" class=\"sk-toggleable__label sk-toggleable__label-arrow\">columntransformer: ColumnTransformer</label><div class=\"sk-toggleable__content\"><pre>ColumnTransformer(transformers=[(&#x27;num&#x27;,\n",
              "                                 Pipeline(steps=[(&#x27;impute&#x27;, IterativeImputer()),\n",
              "                                                 (&#x27;standardize&#x27;,\n",
              "                                                  StandardScaler())]),\n",
              "                                 [&#x27;Area&#x27;, &#x27;BuildingYear&#x27;, &#x27;Year&#x27;,\n",
              "                                  &#x27;AvgTimeToNearestStation&#x27;, &#x27;RoomCount&#x27;,\n",
              "                                  &#x27;Age&#x27;]),\n",
              "                                (&#x27;cat&#x27;,\n",
              "                                 Pipeline(steps=[(&#x27;impute&#x27;,\n",
              "                                                  SimpleImputer(strategy=&#x27;most_frequent&#x27;)),\n",
              "                                                 (&#x27;dummify&#x27;,\n",
              "                                                  OneHotEncoder(drop=&#x27;first&#x27;,\n",
              "                                                                sparse=False))]),\n",
              "                                 [&#x27;Structure&#x27;, &#x27;Use&#x27;, &#x27;CityPlanning&#x27;,\n",
              "                                  &#x27;Location&#x27;, &#x27;ConstructionYear&#x27;])])</pre></div></div></div><div class=\"sk-parallel\"><div class=\"sk-parallel-item\"><div class=\"sk-item\"><div class=\"sk-label-container\"><div class=\"sk-label sk-toggleable\"><input class=\"sk-toggleable__control sk-hidden--visually\" id=\"0fcadb73-b70c-477e-901c-7c1d9bfdff38\" type=\"checkbox\" ><label for=\"0fcadb73-b70c-477e-901c-7c1d9bfdff38\" class=\"sk-toggleable__label sk-toggleable__label-arrow\">num</label><div class=\"sk-toggleable__content\"><pre>[&#x27;Area&#x27;, &#x27;BuildingYear&#x27;, &#x27;Year&#x27;, &#x27;AvgTimeToNearestStation&#x27;, &#x27;RoomCount&#x27;, &#x27;Age&#x27;]</pre></div></div></div><div class=\"sk-serial\"><div class=\"sk-item\"><div class=\"sk-serial\"><div class=\"sk-item\"><div class=\"sk-estimator sk-toggleable\"><input class=\"sk-toggleable__control sk-hidden--visually\" id=\"789cc300-eb06-4328-8ac6-e07f93e3627f\" type=\"checkbox\" ><label for=\"789cc300-eb06-4328-8ac6-e07f93e3627f\" class=\"sk-toggleable__label sk-toggleable__label-arrow\">IterativeImputer</label><div class=\"sk-toggleable__content\"><pre>IterativeImputer()</pre></div></div></div><div class=\"sk-item\"><div class=\"sk-estimator sk-toggleable\"><input class=\"sk-toggleable__control sk-hidden--visually\" id=\"21994ea0-1b25-4eb8-904f-984972e27e01\" type=\"checkbox\" ><label for=\"21994ea0-1b25-4eb8-904f-984972e27e01\" class=\"sk-toggleable__label sk-toggleable__label-arrow\">StandardScaler</label><div class=\"sk-toggleable__content\"><pre>StandardScaler()</pre></div></div></div></div></div></div></div></div><div class=\"sk-parallel-item\"><div class=\"sk-item\"><div class=\"sk-label-container\"><div class=\"sk-label sk-toggleable\"><input class=\"sk-toggleable__control sk-hidden--visually\" id=\"d9953fc6-3138-4257-a025-719104b7bf8d\" type=\"checkbox\" ><label for=\"d9953fc6-3138-4257-a025-719104b7bf8d\" class=\"sk-toggleable__label sk-toggleable__label-arrow\">cat</label><div class=\"sk-toggleable__content\"><pre>[&#x27;Structure&#x27;, &#x27;Use&#x27;, &#x27;CityPlanning&#x27;, &#x27;Location&#x27;, &#x27;ConstructionYear&#x27;]</pre></div></div></div><div class=\"sk-serial\"><div class=\"sk-item\"><div class=\"sk-serial\"><div class=\"sk-item\"><div class=\"sk-estimator sk-toggleable\"><input class=\"sk-toggleable__control sk-hidden--visually\" id=\"c3630c99-3628-4f03-a622-0e10f32920d5\" type=\"checkbox\" ><label for=\"c3630c99-3628-4f03-a622-0e10f32920d5\" class=\"sk-toggleable__label sk-toggleable__label-arrow\">SimpleImputer</label><div class=\"sk-toggleable__content\"><pre>SimpleImputer(strategy=&#x27;most_frequent&#x27;)</pre></div></div></div><div class=\"sk-item\"><div class=\"sk-estimator sk-toggleable\"><input class=\"sk-toggleable__control sk-hidden--visually\" id=\"981a9008-f369-4676-859d-c3565fa50738\" type=\"checkbox\" ><label for=\"981a9008-f369-4676-859d-c3565fa50738\" class=\"sk-toggleable__label sk-toggleable__label-arrow\">OneHotEncoder</label><div class=\"sk-toggleable__content\"><pre>OneHotEncoder(drop=&#x27;first&#x27;, sparse=False)</pre></div></div></div></div></div></div></div></div></div></div><div class=\"sk-item\"><div class=\"sk-estimator sk-toggleable\"><input class=\"sk-toggleable__control sk-hidden--visually\" id=\"918f1c95-4d20-40ef-a2c6-eece1f45ec4f\" type=\"checkbox\" ><label for=\"918f1c95-4d20-40ef-a2c6-eece1f45ec4f\" class=\"sk-toggleable__label sk-toggleable__label-arrow\">SGDRegressor</label><div class=\"sk-toggleable__content\"><pre>SGDRegressor(random_state=90)</pre></div></div></div></div></div></div></div>"
            ]
          },
          "metadata": {},
          "execution_count": 61
        }
      ],
      "source": [
        "from sklearn.linear_model import SGDRegressor\n",
        "sgdr_reg = make_pipeline(pipeline, SGDRegressor(random_state=90))\n",
        "sgdr_reg.fit(df_X, df_y)"
      ]
    },
    {
      "cell_type": "code",
      "execution_count": null,
      "metadata": {
        "id": "m1SzbflvuaLX",
        "colab": {
          "base_uri": "https://localhost:8080/"
        },
        "outputId": "4be46fa4-ca31-4588-b99d-a4431c901029"
      },
      "outputs": [
        {
          "output_type": "stream",
          "name": "stdout",
          "text": [
            "SGD Regressor Model R-square Score: 0.5667\n"
          ]
        }
      ],
      "source": [
        "sgdr_reg_score = cross_val_score(sgdr_reg, df_X, df_y, cv=10, scoring=\"r2\")\n",
        "print('SGD Regressor Model R-square Score: {:.4f}'.format(sgdr_reg_score.mean()))"
      ]
    },
    {
      "cell_type": "markdown",
      "source": [
        "The SGD Regressor model gives us an $R^2$ score of 0.5667, thus explaining about 56.67% of \n",
        "the variability thats occuring in the `tradeprice` variable."
      ],
      "metadata": {
        "id": "u6kK06iOTjH-"
      }
    },
    {
      "cell_type": "markdown",
      "metadata": {
        "id": "Ale0lvuWpho2"
      },
      "source": [
        "## 3.5 Linear Support Vector Regression"
      ]
    },
    {
      "cell_type": "markdown",
      "source": [
        "*Linear Support Vector Regression (SVR) allows models to choose how much error is acceptable and will determine a parameter that best fits the model.*\n",
        "\n",
        "We choose to run this model as it allows for more flexibility in choosing penalties and our models to scale better with a large number of samples."
      ],
      "metadata": {
        "id": "BVPiEnMNX-Xd"
      }
    },
    {
      "cell_type": "code",
      "execution_count": null,
      "metadata": {
        "id": "cckAALixptLe",
        "colab": {
          "base_uri": "https://localhost:8080/",
          "height": 224
        },
        "outputId": "4e64f434-1b2a-4b35-ca4e-943ad59f818a"
      },
      "outputs": [
        {
          "output_type": "execute_result",
          "data": {
            "text/plain": [
              "Pipeline(steps=[('columntransformer',\n",
              "                 ColumnTransformer(transformers=[('num',\n",
              "                                                  Pipeline(steps=[('impute',\n",
              "                                                                   IterativeImputer()),\n",
              "                                                                  ('standardize',\n",
              "                                                                   StandardScaler())]),\n",
              "                                                  ['Area', 'BuildingYear',\n",
              "                                                   'Year',\n",
              "                                                   'AvgTimeToNearestStation',\n",
              "                                                   'RoomCount', 'Age']),\n",
              "                                                 ('cat',\n",
              "                                                  Pipeline(steps=[('impute',\n",
              "                                                                   SimpleImputer(strategy='most_frequent')),\n",
              "                                                                  ('dummify',\n",
              "                                                                   OneHotEncoder(drop='first',\n",
              "                                                                                 sparse=False))]),\n",
              "                                                  ['Structure', 'Use',\n",
              "                                                   'CityPlanning', 'Location',\n",
              "                                                   'ConstructionYear'])])),\n",
              "                ('linearsvr', LinearSVR(random_state=90))])"
            ],
            "text/html": [
              "<style>#sk-f8271d2f-3190-4cd2-8290-08d6f92b81d8 {color: black;background-color: white;}#sk-f8271d2f-3190-4cd2-8290-08d6f92b81d8 pre{padding: 0;}#sk-f8271d2f-3190-4cd2-8290-08d6f92b81d8 div.sk-toggleable {background-color: white;}#sk-f8271d2f-3190-4cd2-8290-08d6f92b81d8 label.sk-toggleable__label {cursor: pointer;display: block;width: 100%;margin-bottom: 0;padding: 0.3em;box-sizing: border-box;text-align: center;}#sk-f8271d2f-3190-4cd2-8290-08d6f92b81d8 label.sk-toggleable__label-arrow:before {content: \"▸\";float: left;margin-right: 0.25em;color: #696969;}#sk-f8271d2f-3190-4cd2-8290-08d6f92b81d8 label.sk-toggleable__label-arrow:hover:before {color: black;}#sk-f8271d2f-3190-4cd2-8290-08d6f92b81d8 div.sk-estimator:hover label.sk-toggleable__label-arrow:before {color: black;}#sk-f8271d2f-3190-4cd2-8290-08d6f92b81d8 div.sk-toggleable__content {max-height: 0;max-width: 0;overflow: hidden;text-align: left;background-color: #f0f8ff;}#sk-f8271d2f-3190-4cd2-8290-08d6f92b81d8 div.sk-toggleable__content pre {margin: 0.2em;color: black;border-radius: 0.25em;background-color: #f0f8ff;}#sk-f8271d2f-3190-4cd2-8290-08d6f92b81d8 input.sk-toggleable__control:checked~div.sk-toggleable__content {max-height: 200px;max-width: 100%;overflow: auto;}#sk-f8271d2f-3190-4cd2-8290-08d6f92b81d8 input.sk-toggleable__control:checked~label.sk-toggleable__label-arrow:before {content: \"▾\";}#sk-f8271d2f-3190-4cd2-8290-08d6f92b81d8 div.sk-estimator input.sk-toggleable__control:checked~label.sk-toggleable__label {background-color: #d4ebff;}#sk-f8271d2f-3190-4cd2-8290-08d6f92b81d8 div.sk-label input.sk-toggleable__control:checked~label.sk-toggleable__label {background-color: #d4ebff;}#sk-f8271d2f-3190-4cd2-8290-08d6f92b81d8 input.sk-hidden--visually {border: 0;clip: rect(1px 1px 1px 1px);clip: rect(1px, 1px, 1px, 1px);height: 1px;margin: -1px;overflow: hidden;padding: 0;position: absolute;width: 1px;}#sk-f8271d2f-3190-4cd2-8290-08d6f92b81d8 div.sk-estimator {font-family: monospace;background-color: #f0f8ff;border: 1px dotted black;border-radius: 0.25em;box-sizing: border-box;margin-bottom: 0.5em;}#sk-f8271d2f-3190-4cd2-8290-08d6f92b81d8 div.sk-estimator:hover {background-color: #d4ebff;}#sk-f8271d2f-3190-4cd2-8290-08d6f92b81d8 div.sk-parallel-item::after {content: \"\";width: 100%;border-bottom: 1px solid gray;flex-grow: 1;}#sk-f8271d2f-3190-4cd2-8290-08d6f92b81d8 div.sk-label:hover label.sk-toggleable__label {background-color: #d4ebff;}#sk-f8271d2f-3190-4cd2-8290-08d6f92b81d8 div.sk-serial::before {content: \"\";position: absolute;border-left: 1px solid gray;box-sizing: border-box;top: 2em;bottom: 0;left: 50%;}#sk-f8271d2f-3190-4cd2-8290-08d6f92b81d8 div.sk-serial {display: flex;flex-direction: column;align-items: center;background-color: white;padding-right: 0.2em;padding-left: 0.2em;}#sk-f8271d2f-3190-4cd2-8290-08d6f92b81d8 div.sk-item {z-index: 1;}#sk-f8271d2f-3190-4cd2-8290-08d6f92b81d8 div.sk-parallel {display: flex;align-items: stretch;justify-content: center;background-color: white;}#sk-f8271d2f-3190-4cd2-8290-08d6f92b81d8 div.sk-parallel::before {content: \"\";position: absolute;border-left: 1px solid gray;box-sizing: border-box;top: 2em;bottom: 0;left: 50%;}#sk-f8271d2f-3190-4cd2-8290-08d6f92b81d8 div.sk-parallel-item {display: flex;flex-direction: column;position: relative;background-color: white;}#sk-f8271d2f-3190-4cd2-8290-08d6f92b81d8 div.sk-parallel-item:first-child::after {align-self: flex-end;width: 50%;}#sk-f8271d2f-3190-4cd2-8290-08d6f92b81d8 div.sk-parallel-item:last-child::after {align-self: flex-start;width: 50%;}#sk-f8271d2f-3190-4cd2-8290-08d6f92b81d8 div.sk-parallel-item:only-child::after {width: 0;}#sk-f8271d2f-3190-4cd2-8290-08d6f92b81d8 div.sk-dashed-wrapped {border: 1px dashed gray;margin: 0 0.4em 0.5em 0.4em;box-sizing: border-box;padding-bottom: 0.4em;background-color: white;position: relative;}#sk-f8271d2f-3190-4cd2-8290-08d6f92b81d8 div.sk-label label {font-family: monospace;font-weight: bold;background-color: white;display: inline-block;line-height: 1.2em;}#sk-f8271d2f-3190-4cd2-8290-08d6f92b81d8 div.sk-label-container {position: relative;z-index: 2;text-align: center;}#sk-f8271d2f-3190-4cd2-8290-08d6f92b81d8 div.sk-container {/* jupyter's `normalize.less` sets `[hidden] { display: none; }` but bootstrap.min.css set `[hidden] { display: none !important; }` so we also need the `!important` here to be able to override the default hidden behavior on the sphinx rendered scikit-learn.org. See: https://github.com/scikit-learn/scikit-learn/issues/21755 */display: inline-block !important;position: relative;}#sk-f8271d2f-3190-4cd2-8290-08d6f92b81d8 div.sk-text-repr-fallback {display: none;}</style><div id=\"sk-f8271d2f-3190-4cd2-8290-08d6f92b81d8\" class=\"sk-top-container\"><div class=\"sk-text-repr-fallback\"><pre>Pipeline(steps=[(&#x27;columntransformer&#x27;,\n",
              "                 ColumnTransformer(transformers=[(&#x27;num&#x27;,\n",
              "                                                  Pipeline(steps=[(&#x27;impute&#x27;,\n",
              "                                                                   IterativeImputer()),\n",
              "                                                                  (&#x27;standardize&#x27;,\n",
              "                                                                   StandardScaler())]),\n",
              "                                                  [&#x27;Area&#x27;, &#x27;BuildingYear&#x27;,\n",
              "                                                   &#x27;Year&#x27;,\n",
              "                                                   &#x27;AvgTimeToNearestStation&#x27;,\n",
              "                                                   &#x27;RoomCount&#x27;, &#x27;Age&#x27;]),\n",
              "                                                 (&#x27;cat&#x27;,\n",
              "                                                  Pipeline(steps=[(&#x27;impute&#x27;,\n",
              "                                                                   SimpleImputer(strategy=&#x27;most_frequent&#x27;)),\n",
              "                                                                  (&#x27;dummify&#x27;,\n",
              "                                                                   OneHotEncoder(drop=&#x27;first&#x27;,\n",
              "                                                                                 sparse=False))]),\n",
              "                                                  [&#x27;Structure&#x27;, &#x27;Use&#x27;,\n",
              "                                                   &#x27;CityPlanning&#x27;, &#x27;Location&#x27;,\n",
              "                                                   &#x27;ConstructionYear&#x27;])])),\n",
              "                (&#x27;linearsvr&#x27;, LinearSVR(random_state=90))])</pre><b>Please rerun this cell to show the HTML repr or trust the notebook.</b></div><div class=\"sk-container\" hidden><div class=\"sk-item sk-dashed-wrapped\"><div class=\"sk-label-container\"><div class=\"sk-label sk-toggleable\"><input class=\"sk-toggleable__control sk-hidden--visually\" id=\"518853e2-838b-48c6-b70c-40fcd2935311\" type=\"checkbox\" ><label for=\"518853e2-838b-48c6-b70c-40fcd2935311\" class=\"sk-toggleable__label sk-toggleable__label-arrow\">Pipeline</label><div class=\"sk-toggleable__content\"><pre>Pipeline(steps=[(&#x27;columntransformer&#x27;,\n",
              "                 ColumnTransformer(transformers=[(&#x27;num&#x27;,\n",
              "                                                  Pipeline(steps=[(&#x27;impute&#x27;,\n",
              "                                                                   IterativeImputer()),\n",
              "                                                                  (&#x27;standardize&#x27;,\n",
              "                                                                   StandardScaler())]),\n",
              "                                                  [&#x27;Area&#x27;, &#x27;BuildingYear&#x27;,\n",
              "                                                   &#x27;Year&#x27;,\n",
              "                                                   &#x27;AvgTimeToNearestStation&#x27;,\n",
              "                                                   &#x27;RoomCount&#x27;, &#x27;Age&#x27;]),\n",
              "                                                 (&#x27;cat&#x27;,\n",
              "                                                  Pipeline(steps=[(&#x27;impute&#x27;,\n",
              "                                                                   SimpleImputer(strategy=&#x27;most_frequent&#x27;)),\n",
              "                                                                  (&#x27;dummify&#x27;,\n",
              "                                                                   OneHotEncoder(drop=&#x27;first&#x27;,\n",
              "                                                                                 sparse=False))]),\n",
              "                                                  [&#x27;Structure&#x27;, &#x27;Use&#x27;,\n",
              "                                                   &#x27;CityPlanning&#x27;, &#x27;Location&#x27;,\n",
              "                                                   &#x27;ConstructionYear&#x27;])])),\n",
              "                (&#x27;linearsvr&#x27;, LinearSVR(random_state=90))])</pre></div></div></div><div class=\"sk-serial\"><div class=\"sk-item sk-dashed-wrapped\"><div class=\"sk-label-container\"><div class=\"sk-label sk-toggleable\"><input class=\"sk-toggleable__control sk-hidden--visually\" id=\"bdc8f11c-ca47-474d-8a49-38aa034c1ee7\" type=\"checkbox\" ><label for=\"bdc8f11c-ca47-474d-8a49-38aa034c1ee7\" class=\"sk-toggleable__label sk-toggleable__label-arrow\">columntransformer: ColumnTransformer</label><div class=\"sk-toggleable__content\"><pre>ColumnTransformer(transformers=[(&#x27;num&#x27;,\n",
              "                                 Pipeline(steps=[(&#x27;impute&#x27;, IterativeImputer()),\n",
              "                                                 (&#x27;standardize&#x27;,\n",
              "                                                  StandardScaler())]),\n",
              "                                 [&#x27;Area&#x27;, &#x27;BuildingYear&#x27;, &#x27;Year&#x27;,\n",
              "                                  &#x27;AvgTimeToNearestStation&#x27;, &#x27;RoomCount&#x27;,\n",
              "                                  &#x27;Age&#x27;]),\n",
              "                                (&#x27;cat&#x27;,\n",
              "                                 Pipeline(steps=[(&#x27;impute&#x27;,\n",
              "                                                  SimpleImputer(strategy=&#x27;most_frequent&#x27;)),\n",
              "                                                 (&#x27;dummify&#x27;,\n",
              "                                                  OneHotEncoder(drop=&#x27;first&#x27;,\n",
              "                                                                sparse=False))]),\n",
              "                                 [&#x27;Structure&#x27;, &#x27;Use&#x27;, &#x27;CityPlanning&#x27;,\n",
              "                                  &#x27;Location&#x27;, &#x27;ConstructionYear&#x27;])])</pre></div></div></div><div class=\"sk-parallel\"><div class=\"sk-parallel-item\"><div class=\"sk-item\"><div class=\"sk-label-container\"><div class=\"sk-label sk-toggleable\"><input class=\"sk-toggleable__control sk-hidden--visually\" id=\"a998913a-297a-495a-9cf1-ae42a0f458f1\" type=\"checkbox\" ><label for=\"a998913a-297a-495a-9cf1-ae42a0f458f1\" class=\"sk-toggleable__label sk-toggleable__label-arrow\">num</label><div class=\"sk-toggleable__content\"><pre>[&#x27;Area&#x27;, &#x27;BuildingYear&#x27;, &#x27;Year&#x27;, &#x27;AvgTimeToNearestStation&#x27;, &#x27;RoomCount&#x27;, &#x27;Age&#x27;]</pre></div></div></div><div class=\"sk-serial\"><div class=\"sk-item\"><div class=\"sk-serial\"><div class=\"sk-item\"><div class=\"sk-estimator sk-toggleable\"><input class=\"sk-toggleable__control sk-hidden--visually\" id=\"89d00874-e41e-4dc7-ae8c-1ca0ff6a8903\" type=\"checkbox\" ><label for=\"89d00874-e41e-4dc7-ae8c-1ca0ff6a8903\" class=\"sk-toggleable__label sk-toggleable__label-arrow\">IterativeImputer</label><div class=\"sk-toggleable__content\"><pre>IterativeImputer()</pre></div></div></div><div class=\"sk-item\"><div class=\"sk-estimator sk-toggleable\"><input class=\"sk-toggleable__control sk-hidden--visually\" id=\"a6348e50-7e4c-4ae7-bc30-0e7402681a18\" type=\"checkbox\" ><label for=\"a6348e50-7e4c-4ae7-bc30-0e7402681a18\" class=\"sk-toggleable__label sk-toggleable__label-arrow\">StandardScaler</label><div class=\"sk-toggleable__content\"><pre>StandardScaler()</pre></div></div></div></div></div></div></div></div><div class=\"sk-parallel-item\"><div class=\"sk-item\"><div class=\"sk-label-container\"><div class=\"sk-label sk-toggleable\"><input class=\"sk-toggleable__control sk-hidden--visually\" id=\"737da958-16ad-4b88-9cb3-98a6ab422a6b\" type=\"checkbox\" ><label for=\"737da958-16ad-4b88-9cb3-98a6ab422a6b\" class=\"sk-toggleable__label sk-toggleable__label-arrow\">cat</label><div class=\"sk-toggleable__content\"><pre>[&#x27;Structure&#x27;, &#x27;Use&#x27;, &#x27;CityPlanning&#x27;, &#x27;Location&#x27;, &#x27;ConstructionYear&#x27;]</pre></div></div></div><div class=\"sk-serial\"><div class=\"sk-item\"><div class=\"sk-serial\"><div class=\"sk-item\"><div class=\"sk-estimator sk-toggleable\"><input class=\"sk-toggleable__control sk-hidden--visually\" id=\"54ead859-6c7c-48f3-9836-f37b928563db\" type=\"checkbox\" ><label for=\"54ead859-6c7c-48f3-9836-f37b928563db\" class=\"sk-toggleable__label sk-toggleable__label-arrow\">SimpleImputer</label><div class=\"sk-toggleable__content\"><pre>SimpleImputer(strategy=&#x27;most_frequent&#x27;)</pre></div></div></div><div class=\"sk-item\"><div class=\"sk-estimator sk-toggleable\"><input class=\"sk-toggleable__control sk-hidden--visually\" id=\"7411c160-508a-49a4-85b0-3fd9499df578\" type=\"checkbox\" ><label for=\"7411c160-508a-49a4-85b0-3fd9499df578\" class=\"sk-toggleable__label sk-toggleable__label-arrow\">OneHotEncoder</label><div class=\"sk-toggleable__content\"><pre>OneHotEncoder(drop=&#x27;first&#x27;, sparse=False)</pre></div></div></div></div></div></div></div></div></div></div><div class=\"sk-item\"><div class=\"sk-estimator sk-toggleable\"><input class=\"sk-toggleable__control sk-hidden--visually\" id=\"a11b343e-77d7-4706-aeaf-d9fea13bf200\" type=\"checkbox\" ><label for=\"a11b343e-77d7-4706-aeaf-d9fea13bf200\" class=\"sk-toggleable__label sk-toggleable__label-arrow\">LinearSVR</label><div class=\"sk-toggleable__content\"><pre>LinearSVR(random_state=90)</pre></div></div></div></div></div></div></div>"
            ]
          },
          "metadata": {},
          "execution_count": 63
        }
      ],
      "source": [
        "from sklearn.svm import LinearSVR\n",
        "\n",
        "lsvr_reg = make_pipeline(pipeline, LinearSVR(random_state=90))\n",
        "lsvr_reg.fit(df_X, df_y)"
      ]
    },
    {
      "cell_type": "code",
      "execution_count": null,
      "metadata": {
        "id": "dI8aoCRPqHFS",
        "colab": {
          "base_uri": "https://localhost:8080/"
        },
        "outputId": "bf6b7232-d6f0-4df3-d7d3-6b7c7fe59ddd"
      },
      "outputs": [
        {
          "output_type": "stream",
          "name": "stdout",
          "text": [
            "Linear Support Vector Regression Model R-square Score: -1.6432\n"
          ]
        }
      ],
      "source": [
        "lsvr_reg_score = cross_val_score(lsvr_reg, df_X, df_y, cv=10, scoring=\"r2\" )\n",
        "print('Linear Support Vector Regression Model R-square Score: {:.4f}'.format(lsvr_reg_score.mean()))"
      ]
    },
    {
      "cell_type": "markdown",
      "source": [
        "Using the linear SVR, we got an $R^2$ of `-1.6432`, which represents that the model does not fit well with the data. We have chosen to exclude this model."
      ],
      "metadata": {
        "id": "2fa4Fp5OYAth"
      }
    },
    {
      "cell_type": "markdown",
      "metadata": {
        "id": "Bi_jtZ8MPM40"
      },
      "source": [
        "##3.6 Decision Tree Regressor"
      ]
    },
    {
      "cell_type": "markdown",
      "source": [
        "*Decision Tree models are supervised learning models that can be used for \n",
        "regression and classification. It creates subsets of the dataset by splitting the data into a tree-like pattern in smaller subsets. It predicts the output based on the subset that the set of features falls into.*\n",
        "\n",
        "We use the Decision Tree Regressor to perform prediction analysis of the `tradeprice` variable. \n",
        "\n",
        "**Additionally, we took the advice from Professor Sahoo to search for the optimal alpha value before fitting the `DecisionTreeRegressor` as this particular model will be significantly handicapped without tuning the alpha first, rendering its $R^2$ score to be lower than that of others using the base model.**"
      ],
      "metadata": {
        "id": "5UuvsvuxOh2e"
      }
    },
    {
      "cell_type": "code",
      "execution_count": null,
      "metadata": {
        "id": "gvJFBYDcME7d"
      },
      "outputs": [],
      "source": [
        "# Pruning the tree\n",
        "\n",
        "from sklearn.tree import DecisionTreeRegressor\n",
        "from sklearn.tree import DecisionTreeRegressor\n",
        "\n",
        "reg_full = DecisionTreeRegressor().fit(X_train, y_train)\n",
        "path_reg = reg_full.cost_complexity_pruning_path(X_train, y_train)\n",
        "\n",
        "ccp_alphas, impurities = path_reg.ccp_alphas, path_reg.impurities\n",
        "\n",
        "# we set the negative ccp_alpha values to 0 so it does not return errors when we try to grid search\n",
        "\n",
        "ccp_alphas[ccp_alphas<0] = 0"
      ]
    },
    {
      "cell_type": "code",
      "execution_count": null,
      "metadata": {
        "id": "PuHFAXHjNRvE",
        "colab": {
          "base_uri": "https://localhost:8080/",
          "height": 72
        },
        "outputId": "d88d4101-c2b3-43fd-d07d-580eb483a58f"
      },
      "outputs": [
        {
          "output_type": "execute_result",
          "data": {
            "text/plain": [
              "DecisionTreeRegressor(ccp_alpha=58454.91956602782, random_state=90)"
            ],
            "text/html": [
              "<style>#sk-18cef596-290b-4b91-8772-de1acafd3dee {color: black;background-color: white;}#sk-18cef596-290b-4b91-8772-de1acafd3dee pre{padding: 0;}#sk-18cef596-290b-4b91-8772-de1acafd3dee div.sk-toggleable {background-color: white;}#sk-18cef596-290b-4b91-8772-de1acafd3dee label.sk-toggleable__label {cursor: pointer;display: block;width: 100%;margin-bottom: 0;padding: 0.3em;box-sizing: border-box;text-align: center;}#sk-18cef596-290b-4b91-8772-de1acafd3dee label.sk-toggleable__label-arrow:before {content: \"▸\";float: left;margin-right: 0.25em;color: #696969;}#sk-18cef596-290b-4b91-8772-de1acafd3dee label.sk-toggleable__label-arrow:hover:before {color: black;}#sk-18cef596-290b-4b91-8772-de1acafd3dee div.sk-estimator:hover label.sk-toggleable__label-arrow:before {color: black;}#sk-18cef596-290b-4b91-8772-de1acafd3dee div.sk-toggleable__content {max-height: 0;max-width: 0;overflow: hidden;text-align: left;background-color: #f0f8ff;}#sk-18cef596-290b-4b91-8772-de1acafd3dee div.sk-toggleable__content pre {margin: 0.2em;color: black;border-radius: 0.25em;background-color: #f0f8ff;}#sk-18cef596-290b-4b91-8772-de1acafd3dee input.sk-toggleable__control:checked~div.sk-toggleable__content {max-height: 200px;max-width: 100%;overflow: auto;}#sk-18cef596-290b-4b91-8772-de1acafd3dee input.sk-toggleable__control:checked~label.sk-toggleable__label-arrow:before {content: \"▾\";}#sk-18cef596-290b-4b91-8772-de1acafd3dee div.sk-estimator input.sk-toggleable__control:checked~label.sk-toggleable__label {background-color: #d4ebff;}#sk-18cef596-290b-4b91-8772-de1acafd3dee div.sk-label input.sk-toggleable__control:checked~label.sk-toggleable__label {background-color: #d4ebff;}#sk-18cef596-290b-4b91-8772-de1acafd3dee input.sk-hidden--visually {border: 0;clip: rect(1px 1px 1px 1px);clip: rect(1px, 1px, 1px, 1px);height: 1px;margin: -1px;overflow: hidden;padding: 0;position: absolute;width: 1px;}#sk-18cef596-290b-4b91-8772-de1acafd3dee div.sk-estimator {font-family: monospace;background-color: #f0f8ff;border: 1px dotted black;border-radius: 0.25em;box-sizing: border-box;margin-bottom: 0.5em;}#sk-18cef596-290b-4b91-8772-de1acafd3dee div.sk-estimator:hover {background-color: #d4ebff;}#sk-18cef596-290b-4b91-8772-de1acafd3dee div.sk-parallel-item::after {content: \"\";width: 100%;border-bottom: 1px solid gray;flex-grow: 1;}#sk-18cef596-290b-4b91-8772-de1acafd3dee div.sk-label:hover label.sk-toggleable__label {background-color: #d4ebff;}#sk-18cef596-290b-4b91-8772-de1acafd3dee div.sk-serial::before {content: \"\";position: absolute;border-left: 1px solid gray;box-sizing: border-box;top: 2em;bottom: 0;left: 50%;}#sk-18cef596-290b-4b91-8772-de1acafd3dee div.sk-serial {display: flex;flex-direction: column;align-items: center;background-color: white;padding-right: 0.2em;padding-left: 0.2em;}#sk-18cef596-290b-4b91-8772-de1acafd3dee div.sk-item {z-index: 1;}#sk-18cef596-290b-4b91-8772-de1acafd3dee div.sk-parallel {display: flex;align-items: stretch;justify-content: center;background-color: white;}#sk-18cef596-290b-4b91-8772-de1acafd3dee div.sk-parallel::before {content: \"\";position: absolute;border-left: 1px solid gray;box-sizing: border-box;top: 2em;bottom: 0;left: 50%;}#sk-18cef596-290b-4b91-8772-de1acafd3dee div.sk-parallel-item {display: flex;flex-direction: column;position: relative;background-color: white;}#sk-18cef596-290b-4b91-8772-de1acafd3dee div.sk-parallel-item:first-child::after {align-self: flex-end;width: 50%;}#sk-18cef596-290b-4b91-8772-de1acafd3dee div.sk-parallel-item:last-child::after {align-self: flex-start;width: 50%;}#sk-18cef596-290b-4b91-8772-de1acafd3dee div.sk-parallel-item:only-child::after {width: 0;}#sk-18cef596-290b-4b91-8772-de1acafd3dee div.sk-dashed-wrapped {border: 1px dashed gray;margin: 0 0.4em 0.5em 0.4em;box-sizing: border-box;padding-bottom: 0.4em;background-color: white;position: relative;}#sk-18cef596-290b-4b91-8772-de1acafd3dee div.sk-label label {font-family: monospace;font-weight: bold;background-color: white;display: inline-block;line-height: 1.2em;}#sk-18cef596-290b-4b91-8772-de1acafd3dee div.sk-label-container {position: relative;z-index: 2;text-align: center;}#sk-18cef596-290b-4b91-8772-de1acafd3dee div.sk-container {/* jupyter's `normalize.less` sets `[hidden] { display: none; }` but bootstrap.min.css set `[hidden] { display: none !important; }` so we also need the `!important` here to be able to override the default hidden behavior on the sphinx rendered scikit-learn.org. See: https://github.com/scikit-learn/scikit-learn/issues/21755 */display: inline-block !important;position: relative;}#sk-18cef596-290b-4b91-8772-de1acafd3dee div.sk-text-repr-fallback {display: none;}</style><div id=\"sk-18cef596-290b-4b91-8772-de1acafd3dee\" class=\"sk-top-container\"><div class=\"sk-text-repr-fallback\"><pre>DecisionTreeRegressor(ccp_alpha=58454.91956602782, random_state=90)</pre><b>Please rerun this cell to show the HTML repr or trust the notebook.</b></div><div class=\"sk-container\" hidden><div class=\"sk-item\"><div class=\"sk-estimator sk-toggleable\"><input class=\"sk-toggleable__control sk-hidden--visually\" id=\"9920d4eb-4051-4306-a544-092bd6248733\" type=\"checkbox\" checked><label for=\"9920d4eb-4051-4306-a544-092bd6248733\" class=\"sk-toggleable__label sk-toggleable__label-arrow\">DecisionTreeRegressor</label><div class=\"sk-toggleable__content\"><pre>DecisionTreeRegressor(ccp_alpha=58454.91956602782, random_state=90)</pre></div></div></div></div></div>"
            ]
          },
          "metadata": {},
          "execution_count": 66
        }
      ],
      "source": [
        "# Identify the best alpha value using GridSearch\n",
        "\n",
        "from sklearn.model_selection import GridSearchCV\n",
        "from sklearn.experimental import enable_halving_search_cv\n",
        "from sklearn.model_selection import HalvingGridSearchCV\n",
        "from scipy.stats import randint\n",
        "\n",
        "param_grid = {'ccp_alpha': ccp_alphas}\n",
        "\n",
        "halving_grid_search = HalvingGridSearchCV(DecisionTreeRegressor(random_state=90), param_grid, cv=5, scoring='r2', random_state=90)\n",
        "halving_grid_search.fit(X_train, y_train)\n",
        "halving_grid_search.best_estimator_"
      ]
    },
    {
      "cell_type": "code",
      "source": [
        "# using the best alpha value to train\n",
        "\n",
        "from sklearn.tree import DecisionTreeRegressor\n",
        "\n",
        "decision_tree_pipe = make_pipeline(pipeline, halving_grid_search.best_estimator_)\n",
        "decision_tree_scores = cross_val_score(decision_tree_pipe, df_X, df_y, cv=10, scoring='r2')\n",
        "decision_tree_scores.mean().round(2)\n",
        "\n",
        "print('Decision Tree Regressor Model R-square Score: {:.4f}'.format(decision_tree_scores.mean()))"
      ],
      "metadata": {
        "id": "8NSKZjBUqrZp",
        "colab": {
          "base_uri": "https://localhost:8080/"
        },
        "outputId": "cbb83f3a-84a1-4959-866e-9b6222efdc69"
      },
      "execution_count": null,
      "outputs": [
        {
          "output_type": "stream",
          "name": "stdout",
          "text": [
            "Decision Tree Regressor Model R-square Score: 0.4446\n"
          ]
        }
      ]
    },
    {
      "cell_type": "markdown",
      "source": [
        "We get a $R^2$ score of 0.4446 by using this model, therefore explaining about 44.46% of the variability of the `tradeprice` variable."
      ],
      "metadata": {
        "id": "ghs5tfO2-HKY"
      }
    },
    {
      "cell_type": "markdown",
      "metadata": {
        "id": "fMEUXZTv09Xa"
      },
      "source": [
        "##3.7 Random Forest Regressor"
      ]
    },
    {
      "cell_type": "markdown",
      "source": [
        "*Random Forest Regression is an estimator that fits multiple decision trees on several sub-samples and uses the average to make better predictive accuracy estimations and control over-fitting in the models.*\n",
        "\n",
        "Random Forest Regression is also suitable for large datasets such as this one, and it can determine transaction prices based on the decision criteria chosen."
      ],
      "metadata": {
        "id": "gLZK0rU2eqoj"
      }
    },
    {
      "cell_type": "code",
      "execution_count": null,
      "metadata": {
        "id": "5hy3CEr11NLw",
        "colab": {
          "base_uri": "https://localhost:8080/"
        },
        "outputId": "f28d322c-faa1-4926-ee1a-f57974081a32"
      },
      "outputs": [
        {
          "output_type": "stream",
          "name": "stdout",
          "text": [
            "Test data R^2: 0.6604\n"
          ]
        }
      ],
      "source": [
        "from sklearn.ensemble import RandomForestRegressor\n",
        "\n",
        "rdf_pipe = make_pipeline(pipeline, RandomForestRegressor(random_state=90))\n",
        "rdf_scores = cross_val_score(rdf_pipe, df_X, df_y, cv=10, scoring='r2')\n",
        "rdf_scores.mean().round(2)\n",
        "\n",
        "print('Random Forest Regressor Model R-square Score: {:.4f}'.format(rdf_scores.mean()))"
      ]
    },
    {
      "cell_type": "markdown",
      "source": [
        "Based on our computation, we got an $R^2$ of .6604, which was our highest $R^2$ from all the models, explaining about 66.04% of \n",
        "the variability thats occuring in the `tradeprice` variable."
      ],
      "metadata": {
        "id": "AbfGIa43Nbcj"
      }
    },
    {
      "cell_type": "markdown",
      "source": [
        "We compare models with positive R-squared score to find the one with highest R-squared score."
      ],
      "metadata": {
        "id": "4NqVNBGaRsuZ"
      }
    },
    {
      "cell_type": "code",
      "source": [
        "# Evaluating Models using r2\n",
        "\n",
        "model_eval = pd.DataFrame({'Model': ['Linear Regression','Lasso Regression','Ridge Regression',\n",
        "                                   'SGD Regressor','Decision Tree Regressor','Random Forest Regressor'], \n",
        "                         'R-squared Score': [lin_reg_score.mean().round(4), lasso_cv_pipe.score(df_X, df_y).mean().round(4), \n",
        "                                      ridge_cv_pipe.score(df_X, df_y).mean().round(4),sgdr_reg_score.mean().round(4)\n",
        "                                      ,decision_tree_scores.mean().round(4),rdf_scores.mean().round(4)]})\n",
        "model_eval"
      ],
      "metadata": {
        "colab": {
          "base_uri": "https://localhost:8080/",
          "height": 231
        },
        "id": "1CJr8y0-N0l1",
        "outputId": "4e1f53c3-9933-48aa-b58e-32b0bb0b0ccc"
      },
      "execution_count": null,
      "outputs": [
        {
          "output_type": "execute_result",
          "data": {
            "text/plain": [
              "                     Model  R-squared Score\n",
              "0        Linear Regression           0.5674\n",
              "1         Lasso Regression           0.5613\n",
              "2         Ridge Regression           0.5614\n",
              "3            SGD Regressor           0.5667\n",
              "4  Decision Tree Regressor           0.4446\n",
              "5  Random Forest Regressor           0.6604"
            ],
            "text/html": [
              "\n",
              "  <div id=\"df-e2abb657-6ad0-4bff-ac8e-653d75822009\">\n",
              "    <div class=\"colab-df-container\">\n",
              "      <div>\n",
              "<style scoped>\n",
              "    .dataframe tbody tr th:only-of-type {\n",
              "        vertical-align: middle;\n",
              "    }\n",
              "\n",
              "    .dataframe tbody tr th {\n",
              "        vertical-align: top;\n",
              "    }\n",
              "\n",
              "    .dataframe thead th {\n",
              "        text-align: right;\n",
              "    }\n",
              "</style>\n",
              "<table border=\"1\" class=\"dataframe\">\n",
              "  <thead>\n",
              "    <tr style=\"text-align: right;\">\n",
              "      <th></th>\n",
              "      <th>Model</th>\n",
              "      <th>R-squared Score</th>\n",
              "    </tr>\n",
              "  </thead>\n",
              "  <tbody>\n",
              "    <tr>\n",
              "      <th>0</th>\n",
              "      <td>Linear Regression</td>\n",
              "      <td>0.5674</td>\n",
              "    </tr>\n",
              "    <tr>\n",
              "      <th>1</th>\n",
              "      <td>Lasso Regression</td>\n",
              "      <td>0.5613</td>\n",
              "    </tr>\n",
              "    <tr>\n",
              "      <th>2</th>\n",
              "      <td>Ridge Regression</td>\n",
              "      <td>0.5614</td>\n",
              "    </tr>\n",
              "    <tr>\n",
              "      <th>3</th>\n",
              "      <td>SGD Regressor</td>\n",
              "      <td>0.5667</td>\n",
              "    </tr>\n",
              "    <tr>\n",
              "      <th>4</th>\n",
              "      <td>Decision Tree Regressor</td>\n",
              "      <td>0.4446</td>\n",
              "    </tr>\n",
              "    <tr>\n",
              "      <th>5</th>\n",
              "      <td>Random Forest Regressor</td>\n",
              "      <td>0.6604</td>\n",
              "    </tr>\n",
              "  </tbody>\n",
              "</table>\n",
              "</div>\n",
              "      <button class=\"colab-df-convert\" onclick=\"convertToInteractive('df-e2abb657-6ad0-4bff-ac8e-653d75822009')\"\n",
              "              title=\"Convert this dataframe to an interactive table.\"\n",
              "              style=\"display:none;\">\n",
              "        \n",
              "  <svg xmlns=\"http://www.w3.org/2000/svg\" height=\"24px\"viewBox=\"0 0 24 24\"\n",
              "       width=\"24px\">\n",
              "    <path d=\"M0 0h24v24H0V0z\" fill=\"none\"/>\n",
              "    <path d=\"M18.56 5.44l.94 2.06.94-2.06 2.06-.94-2.06-.94-.94-2.06-.94 2.06-2.06.94zm-11 1L8.5 8.5l.94-2.06 2.06-.94-2.06-.94L8.5 2.5l-.94 2.06-2.06.94zm10 10l.94 2.06.94-2.06 2.06-.94-2.06-.94-.94-2.06-.94 2.06-2.06.94z\"/><path d=\"M17.41 7.96l-1.37-1.37c-.4-.4-.92-.59-1.43-.59-.52 0-1.04.2-1.43.59L10.3 9.45l-7.72 7.72c-.78.78-.78 2.05 0 2.83L4 21.41c.39.39.9.59 1.41.59.51 0 1.02-.2 1.41-.59l7.78-7.78 2.81-2.81c.8-.78.8-2.07 0-2.86zM5.41 20L4 18.59l7.72-7.72 1.47 1.35L5.41 20z\"/>\n",
              "  </svg>\n",
              "      </button>\n",
              "      \n",
              "  <style>\n",
              "    .colab-df-container {\n",
              "      display:flex;\n",
              "      flex-wrap:wrap;\n",
              "      gap: 12px;\n",
              "    }\n",
              "\n",
              "    .colab-df-convert {\n",
              "      background-color: #E8F0FE;\n",
              "      border: none;\n",
              "      border-radius: 50%;\n",
              "      cursor: pointer;\n",
              "      display: none;\n",
              "      fill: #1967D2;\n",
              "      height: 32px;\n",
              "      padding: 0 0 0 0;\n",
              "      width: 32px;\n",
              "    }\n",
              "\n",
              "    .colab-df-convert:hover {\n",
              "      background-color: #E2EBFA;\n",
              "      box-shadow: 0px 1px 2px rgba(60, 64, 67, 0.3), 0px 1px 3px 1px rgba(60, 64, 67, 0.15);\n",
              "      fill: #174EA6;\n",
              "    }\n",
              "\n",
              "    [theme=dark] .colab-df-convert {\n",
              "      background-color: #3B4455;\n",
              "      fill: #D2E3FC;\n",
              "    }\n",
              "\n",
              "    [theme=dark] .colab-df-convert:hover {\n",
              "      background-color: #434B5C;\n",
              "      box-shadow: 0px 1px 3px 1px rgba(0, 0, 0, 0.15);\n",
              "      filter: drop-shadow(0px 1px 2px rgba(0, 0, 0, 0.3));\n",
              "      fill: #FFFFFF;\n",
              "    }\n",
              "  </style>\n",
              "\n",
              "      <script>\n",
              "        const buttonEl =\n",
              "          document.querySelector('#df-e2abb657-6ad0-4bff-ac8e-653d75822009 button.colab-df-convert');\n",
              "        buttonEl.style.display =\n",
              "          google.colab.kernel.accessAllowed ? 'block' : 'none';\n",
              "\n",
              "        async function convertToInteractive(key) {\n",
              "          const element = document.querySelector('#df-e2abb657-6ad0-4bff-ac8e-653d75822009');\n",
              "          const dataTable =\n",
              "            await google.colab.kernel.invokeFunction('convertToInteractive',\n",
              "                                                     [key], {});\n",
              "          if (!dataTable) return;\n",
              "\n",
              "          const docLinkHtml = 'Like what you see? Visit the ' +\n",
              "            '<a target=\"_blank\" href=https://colab.research.google.com/notebooks/data_table.ipynb>data table notebook</a>'\n",
              "            + ' to learn more about interactive tables.';\n",
              "          element.innerHTML = '';\n",
              "          dataTable['output_type'] = 'display_data';\n",
              "          await google.colab.output.renderOutput(dataTable, element);\n",
              "          const docLink = document.createElement('div');\n",
              "          docLink.innerHTML = docLinkHtml;\n",
              "          element.appendChild(docLink);\n",
              "        }\n",
              "      </script>\n",
              "    </div>\n",
              "  </div>\n",
              "  "
            ]
          },
          "metadata": {},
          "execution_count": 80
        }
      ]
    },
    {
      "cell_type": "code",
      "source": [
        "plt.figure(figsize=(20,10))\n",
        "plt.rcParams['font.size'] = '16'\n",
        "plt.title(\"R-squared Score of Different Models\", fontsize=25)\n",
        "plt.ylabel(\"R-squared Score\",fontsize=18)\n",
        "plt.xlabel(\"Models\",fontsize=18)\n",
        "sns.barplot(data=model_eval, x=\"Model\", y=\"R-squared Score\", palette=\"YlGnBu\")\n",
        "plt.show()"
      ],
      "metadata": {
        "colab": {
          "base_uri": "https://localhost:8080/",
          "height": 638
        },
        "id": "KWXhFWURQYMf",
        "outputId": "7852a1cb-0d5d-438c-c523-54ac682f1f5b"
      },
      "execution_count": null,
      "outputs": [
        {
          "output_type": "display_data",
          "data": {
            "text/plain": [
              "<Figure size 1440x720 with 1 Axes>"
            ],
            "image/png": "[encoded data removed]"
          },
          "metadata": {}
        }
      ]
    },
    {
      "cell_type": "markdown",
      "metadata": {
        "id": "46dkqjKr3Zn1"
      },
      "source": [
        "#4.Model Fine Tuning"
      ]
    },
    {
      "cell_type": "markdown",
      "source": [
        "We are tuning the `RandomForestRegressor` using `HalvingRandomSearch` method. We are selecting `max_depth` as the only parameter to tune (due to the computational limitations imposed by Google Colab, we are unable to tune multiple hyperparameters for this project)."
      ],
      "metadata": {
        "id": "yZnAbom7KCOY"
      }
    },
    {
      "cell_type": "code",
      "execution_count": null,
      "metadata": {
        "id": "TXe15YlA4IBC",
        "colab": {
          "base_uri": "https://localhost:8080/",
          "height": 227
        },
        "outputId": "39c37b44-087d-421d-bfe5-bb0be4d2977f"
      },
      "outputs": [
        {
          "output_type": "execute_result",
          "data": {
            "text/plain": [
              "Pipeline(steps=[('columntransformer',\n",
              "                 ColumnTransformer(transformers=[('num',\n",
              "                                                  Pipeline(steps=[('impute',\n",
              "                                                                   IterativeImputer()),\n",
              "                                                                  ('standardize',\n",
              "                                                                   StandardScaler())]),\n",
              "                                                  ['Area', 'BuildingYear',\n",
              "                                                   'Year',\n",
              "                                                   'AvgTimeToNearestStation',\n",
              "                                                   'RoomCount', 'Age']),\n",
              "                                                 ('cat',\n",
              "                                                  Pipeline(steps=[('impute',\n",
              "                                                                   SimpleImputer(strategy='most_frequent')),\n",
              "                                                                  ('dummify',\n",
              "                                                                   OneHotEncoder(drop='first',\n",
              "                                                                                 sparse=False))]),\n",
              "                                                  ['Structure', 'Use',\n",
              "                                                   'CityPlanning', 'Location',\n",
              "                                                   'ConstructionYear'])])),\n",
              "                ('randomforestregressor',\n",
              "                 RandomForestRegressor(max_depth=11.552597181178786,\n",
              "                                       random_state=90))])"
            ],
            "text/html": [
              "<style>#sk-3b78ca30-a76f-4422-8255-d745a64cd300 {color: black;background-color: white;}#sk-3b78ca30-a76f-4422-8255-d745a64cd300 pre{padding: 0;}#sk-3b78ca30-a76f-4422-8255-d745a64cd300 div.sk-toggleable {background-color: white;}#sk-3b78ca30-a76f-4422-8255-d745a64cd300 label.sk-toggleable__label {cursor: pointer;display: block;width: 100%;margin-bottom: 0;padding: 0.3em;box-sizing: border-box;text-align: center;}#sk-3b78ca30-a76f-4422-8255-d745a64cd300 label.sk-toggleable__label-arrow:before {content: \"▸\";float: left;margin-right: 0.25em;color: #696969;}#sk-3b78ca30-a76f-4422-8255-d745a64cd300 label.sk-toggleable__label-arrow:hover:before {color: black;}#sk-3b78ca30-a76f-4422-8255-d745a64cd300 div.sk-estimator:hover label.sk-toggleable__label-arrow:before {color: black;}#sk-3b78ca30-a76f-4422-8255-d745a64cd300 div.sk-toggleable__content {max-height: 0;max-width: 0;overflow: hidden;text-align: left;background-color: #f0f8ff;}#sk-3b78ca30-a76f-4422-8255-d745a64cd300 div.sk-toggleable__content pre {margin: 0.2em;color: black;border-radius: 0.25em;background-color: #f0f8ff;}#sk-3b78ca30-a76f-4422-8255-d745a64cd300 input.sk-toggleable__control:checked~div.sk-toggleable__content {max-height: 200px;max-width: 100%;overflow: auto;}#sk-3b78ca30-a76f-4422-8255-d745a64cd300 input.sk-toggleable__control:checked~label.sk-toggleable__label-arrow:before {content: \"▾\";}#sk-3b78ca30-a76f-4422-8255-d745a64cd300 div.sk-estimator input.sk-toggleable__control:checked~label.sk-toggleable__label {background-color: #d4ebff;}#sk-3b78ca30-a76f-4422-8255-d745a64cd300 div.sk-label input.sk-toggleable__control:checked~label.sk-toggleable__label {background-color: #d4ebff;}#sk-3b78ca30-a76f-4422-8255-d745a64cd300 input.sk-hidden--visually {border: 0;clip: rect(1px 1px 1px 1px);clip: rect(1px, 1px, 1px, 1px);height: 1px;margin: -1px;overflow: hidden;padding: 0;position: absolute;width: 1px;}#sk-3b78ca30-a76f-4422-8255-d745a64cd300 div.sk-estimator {font-family: monospace;background-color: #f0f8ff;border: 1px dotted black;border-radius: 0.25em;box-sizing: border-box;margin-bottom: 0.5em;}#sk-3b78ca30-a76f-4422-8255-d745a64cd300 div.sk-estimator:hover {background-color: #d4ebff;}#sk-3b78ca30-a76f-4422-8255-d745a64cd300 div.sk-parallel-item::after {content: \"\";width: 100%;border-bottom: 1px solid gray;flex-grow: 1;}#sk-3b78ca30-a76f-4422-8255-d745a64cd300 div.sk-label:hover label.sk-toggleable__label {background-color: #d4ebff;}#sk-3b78ca30-a76f-4422-8255-d745a64cd300 div.sk-serial::before {content: \"\";position: absolute;border-left: 1px solid gray;box-sizing: border-box;top: 2em;bottom: 0;left: 50%;}#sk-3b78ca30-a76f-4422-8255-d745a64cd300 div.sk-serial {display: flex;flex-direction: column;align-items: center;background-color: white;padding-right: 0.2em;padding-left: 0.2em;}#sk-3b78ca30-a76f-4422-8255-d745a64cd300 div.sk-item {z-index: 1;}#sk-3b78ca30-a76f-4422-8255-d745a64cd300 div.sk-parallel {display: flex;align-items: stretch;justify-content: center;background-color: white;}#sk-3b78ca30-a76f-4422-8255-d745a64cd300 div.sk-parallel::before {content: \"\";position: absolute;border-left: 1px solid gray;box-sizing: border-box;top: 2em;bottom: 0;left: 50%;}#sk-3b78ca30-a76f-4422-8255-d745a64cd300 div.sk-parallel-item {display: flex;flex-direction: column;position: relative;background-color: white;}#sk-3b78ca30-a76f-4422-8255-d745a64cd300 div.sk-parallel-item:first-child::after {align-self: flex-end;width: 50%;}#sk-3b78ca30-a76f-4422-8255-d745a64cd300 div.sk-parallel-item:last-child::after {align-self: flex-start;width: 50%;}#sk-3b78ca30-a76f-4422-8255-d745a64cd300 div.sk-parallel-item:only-child::after {width: 0;}#sk-3b78ca30-a76f-4422-8255-d745a64cd300 div.sk-dashed-wrapped {border: 1px dashed gray;margin: 0 0.4em 0.5em 0.4em;box-sizing: border-box;padding-bottom: 0.4em;background-color: white;position: relative;}#sk-3b78ca30-a76f-4422-8255-d745a64cd300 div.sk-label label {font-family: monospace;font-weight: bold;background-color: white;display: inline-block;line-height: 1.2em;}#sk-3b78ca30-a76f-4422-8255-d745a64cd300 div.sk-label-container {position: relative;z-index: 2;text-align: center;}#sk-3b78ca30-a76f-4422-8255-d745a64cd300 div.sk-container {/* jupyter's `normalize.less` sets `[hidden] { display: none; }` but bootstrap.min.css set `[hidden] { display: none !important; }` so we also need the `!important` here to be able to override the default hidden behavior on the sphinx rendered scikit-learn.org. See: https://github.com/scikit-learn/scikit-learn/issues/21755 */display: inline-block !important;position: relative;}#sk-3b78ca30-a76f-4422-8255-d745a64cd300 div.sk-text-repr-fallback {display: none;}</style><div id=\"sk-3b78ca30-a76f-4422-8255-d745a64cd300\" class=\"sk-top-container\"><div class=\"sk-text-repr-fallback\"><pre>Pipeline(steps=[(&#x27;columntransformer&#x27;,\n",
              "                 ColumnTransformer(transformers=[(&#x27;num&#x27;,\n",
              "                                                  Pipeline(steps=[(&#x27;impute&#x27;,\n",
              "                                                                   IterativeImputer()),\n",
              "                                                                  (&#x27;standardize&#x27;,\n",
              "                                                                   StandardScaler())]),\n",
              "                                                  [&#x27;Area&#x27;, &#x27;BuildingYear&#x27;,\n",
              "                                                   &#x27;Year&#x27;,\n",
              "                                                   &#x27;AvgTimeToNearestStation&#x27;,\n",
              "                                                   &#x27;RoomCount&#x27;, &#x27;Age&#x27;]),\n",
              "                                                 (&#x27;cat&#x27;,\n",
              "                                                  Pipeline(steps=[(&#x27;impute&#x27;,\n",
              "                                                                   SimpleImputer(strategy=&#x27;most_frequent&#x27;)),\n",
              "                                                                  (&#x27;dummify&#x27;,\n",
              "                                                                   OneHotEncoder(drop=&#x27;first&#x27;,\n",
              "                                                                                 sparse=False))]),\n",
              "                                                  [&#x27;Structure&#x27;, &#x27;Use&#x27;,\n",
              "                                                   &#x27;CityPlanning&#x27;, &#x27;Location&#x27;,\n",
              "                                                   &#x27;ConstructionYear&#x27;])])),\n",
              "                (&#x27;randomforestregressor&#x27;,\n",
              "                 RandomForestRegressor(max_depth=11.552597181178786,\n",
              "                                       random_state=90))])</pre><b>Please rerun this cell to show the HTML repr or trust the notebook.</b></div><div class=\"sk-container\" hidden><div class=\"sk-item sk-dashed-wrapped\"><div class=\"sk-label-container\"><div class=\"sk-label sk-toggleable\"><input class=\"sk-toggleable__control sk-hidden--visually\" id=\"6a9e76d1-195b-4340-901e-504698e43a02\" type=\"checkbox\" ><label for=\"6a9e76d1-195b-4340-901e-504698e43a02\" class=\"sk-toggleable__label sk-toggleable__label-arrow\">Pipeline</label><div class=\"sk-toggleable__content\"><pre>Pipeline(steps=[(&#x27;columntransformer&#x27;,\n",
              "                 ColumnTransformer(transformers=[(&#x27;num&#x27;,\n",
              "                                                  Pipeline(steps=[(&#x27;impute&#x27;,\n",
              "                                                                   IterativeImputer()),\n",
              "                                                                  (&#x27;standardize&#x27;,\n",
              "                                                                   StandardScaler())]),\n",
              "                                                  [&#x27;Area&#x27;, &#x27;BuildingYear&#x27;,\n",
              "                                                   &#x27;Year&#x27;,\n",
              "                                                   &#x27;AvgTimeToNearestStation&#x27;,\n",
              "                                                   &#x27;RoomCount&#x27;, &#x27;Age&#x27;]),\n",
              "                                                 (&#x27;cat&#x27;,\n",
              "                                                  Pipeline(steps=[(&#x27;impute&#x27;,\n",
              "                                                                   SimpleImputer(strategy=&#x27;most_frequent&#x27;)),\n",
              "                                                                  (&#x27;dummify&#x27;,\n",
              "                                                                   OneHotEncoder(drop=&#x27;first&#x27;,\n",
              "                                                                                 sparse=False))]),\n",
              "                                                  [&#x27;Structure&#x27;, &#x27;Use&#x27;,\n",
              "                                                   &#x27;CityPlanning&#x27;, &#x27;Location&#x27;,\n",
              "                                                   &#x27;ConstructionYear&#x27;])])),\n",
              "                (&#x27;randomforestregressor&#x27;,\n",
              "                 RandomForestRegressor(max_depth=11.552597181178786,\n",
              "                                       random_state=90))])</pre></div></div></div><div class=\"sk-serial\"><div class=\"sk-item sk-dashed-wrapped\"><div class=\"sk-label-container\"><div class=\"sk-label sk-toggleable\"><input class=\"sk-toggleable__control sk-hidden--visually\" id=\"d0f26e11-54bb-472f-8353-63165e8d66d7\" type=\"checkbox\" ><label for=\"d0f26e11-54bb-472f-8353-63165e8d66d7\" class=\"sk-toggleable__label sk-toggleable__label-arrow\">columntransformer: ColumnTransformer</label><div class=\"sk-toggleable__content\"><pre>ColumnTransformer(transformers=[(&#x27;num&#x27;,\n",
              "                                 Pipeline(steps=[(&#x27;impute&#x27;, IterativeImputer()),\n",
              "                                                 (&#x27;standardize&#x27;,\n",
              "                                                  StandardScaler())]),\n",
              "                                 [&#x27;Area&#x27;, &#x27;BuildingYear&#x27;, &#x27;Year&#x27;,\n",
              "                                  &#x27;AvgTimeToNearestStation&#x27;, &#x27;RoomCount&#x27;,\n",
              "                                  &#x27;Age&#x27;]),\n",
              "                                (&#x27;cat&#x27;,\n",
              "                                 Pipeline(steps=[(&#x27;impute&#x27;,\n",
              "                                                  SimpleImputer(strategy=&#x27;most_frequent&#x27;)),\n",
              "                                                 (&#x27;dummify&#x27;,\n",
              "                                                  OneHotEncoder(drop=&#x27;first&#x27;,\n",
              "                                                                sparse=False))]),\n",
              "                                 [&#x27;Structure&#x27;, &#x27;Use&#x27;, &#x27;CityPlanning&#x27;,\n",
              "                                  &#x27;Location&#x27;, &#x27;ConstructionYear&#x27;])])</pre></div></div></div><div class=\"sk-parallel\"><div class=\"sk-parallel-item\"><div class=\"sk-item\"><div class=\"sk-label-container\"><div class=\"sk-label sk-toggleable\"><input class=\"sk-toggleable__control sk-hidden--visually\" id=\"95f9ae0a-1e1c-4c5b-ad97-c1992d9e3223\" type=\"checkbox\" ><label for=\"95f9ae0a-1e1c-4c5b-ad97-c1992d9e3223\" class=\"sk-toggleable__label sk-toggleable__label-arrow\">num</label><div class=\"sk-toggleable__content\"><pre>[&#x27;Area&#x27;, &#x27;BuildingYear&#x27;, &#x27;Year&#x27;, &#x27;AvgTimeToNearestStation&#x27;, &#x27;RoomCount&#x27;, &#x27;Age&#x27;]</pre></div></div></div><div class=\"sk-serial\"><div class=\"sk-item\"><div class=\"sk-serial\"><div class=\"sk-item\"><div class=\"sk-estimator sk-toggleable\"><input class=\"sk-toggleable__control sk-hidden--visually\" id=\"127dba28-4822-4a61-8e22-52d428048579\" type=\"checkbox\" ><label for=\"127dba28-4822-4a61-8e22-52d428048579\" class=\"sk-toggleable__label sk-toggleable__label-arrow\">IterativeImputer</label><div class=\"sk-toggleable__content\"><pre>IterativeImputer()</pre></div></div></div><div class=\"sk-item\"><div class=\"sk-estimator sk-toggleable\"><input class=\"sk-toggleable__control sk-hidden--visually\" id=\"f175bcb2-d7a5-4bbb-b573-3fa29ef51c93\" type=\"checkbox\" ><label for=\"f175bcb2-d7a5-4bbb-b573-3fa29ef51c93\" class=\"sk-toggleable__label sk-toggleable__label-arrow\">StandardScaler</label><div class=\"sk-toggleable__content\"><pre>StandardScaler()</pre></div></div></div></div></div></div></div></div><div class=\"sk-parallel-item\"><div class=\"sk-item\"><div class=\"sk-label-container\"><div class=\"sk-label sk-toggleable\"><input class=\"sk-toggleable__control sk-hidden--visually\" id=\"3d0d5219-93fb-4185-86c1-09b1e795aafd\" type=\"checkbox\" ><label for=\"3d0d5219-93fb-4185-86c1-09b1e795aafd\" class=\"sk-toggleable__label sk-toggleable__label-arrow\">cat</label><div class=\"sk-toggleable__content\"><pre>[&#x27;Structure&#x27;, &#x27;Use&#x27;, &#x27;CityPlanning&#x27;, &#x27;Location&#x27;, &#x27;ConstructionYear&#x27;]</pre></div></div></div><div class=\"sk-serial\"><div class=\"sk-item\"><div class=\"sk-serial\"><div class=\"sk-item\"><div class=\"sk-estimator sk-toggleable\"><input class=\"sk-toggleable__control sk-hidden--visually\" id=\"45df0325-9b7f-44c3-bdce-1a6c900e56a7\" type=\"checkbox\" ><label for=\"45df0325-9b7f-44c3-bdce-1a6c900e56a7\" class=\"sk-toggleable__label sk-toggleable__label-arrow\">SimpleImputer</label><div class=\"sk-toggleable__content\"><pre>SimpleImputer(strategy=&#x27;most_frequent&#x27;)</pre></div></div></div><div class=\"sk-item\"><div class=\"sk-estimator sk-toggleable\"><input class=\"sk-toggleable__control sk-hidden--visually\" id=\"c8ff2fde-208f-4b70-b198-e699957b4059\" type=\"checkbox\" ><label for=\"c8ff2fde-208f-4b70-b198-e699957b4059\" class=\"sk-toggleable__label sk-toggleable__label-arrow\">OneHotEncoder</label><div class=\"sk-toggleable__content\"><pre>OneHotEncoder(drop=&#x27;first&#x27;, sparse=False)</pre></div></div></div></div></div></div></div></div></div></div><div class=\"sk-item\"><div class=\"sk-estimator sk-toggleable\"><input class=\"sk-toggleable__control sk-hidden--visually\" id=\"e8c31a60-89af-4ce5-a132-e3686d40745d\" type=\"checkbox\" ><label for=\"e8c31a60-89af-4ce5-a132-e3686d40745d\" class=\"sk-toggleable__label sk-toggleable__label-arrow\">RandomForestRegressor</label><div class=\"sk-toggleable__content\"><pre>RandomForestRegressor(max_depth=11.552597181178786, random_state=90)</pre></div></div></div></div></div></div></div>"
            ]
          },
          "metadata": {},
          "execution_count": 135
        }
      ],
      "source": [
        "from sklearn.experimental import enable_halving_search_cv\n",
        "from sklearn.model_selection import HalvingRandomSearchCV\n",
        "\n",
        "from scipy.stats import loguniform\n",
        "\n",
        "param_distribs = [{'randomforestregressor__max_depth': loguniform(1e-1,1e+2)}]\n",
        "\n",
        "halving_random_search = HalvingRandomSearchCV(rdf_pipe, param_distribs, n_candidates=20, cv=3, min_resources='exhaust',\n",
        "                                 scoring='r2', random_state=90)\n",
        "\n",
        "halving_random_search.fit(df_X, df_y)\n",
        "halving_random_search.best_estimator_"
      ]
    },
    {
      "cell_type": "code",
      "source": [
        "halving_random_cv_res = pd.DataFrame(halving_random_search.cv_results_)\n",
        "halving_random_cv_res.sort_values(by=['iter', 'mean_test_score'], ascending=False, inplace=True)\n",
        "halving_random_cv_res.filter(regex = '(iter|^param_|mean_test_score|n_resources)', axis=1).head(10)"
      ],
      "metadata": {
        "colab": {
          "base_uri": "https://localhost:8080/",
          "height": 363
        },
        "id": "bt8pOndT_-ej",
        "outputId": "bb96ecce-282e-4f8b-edb1-4b3da2d82a49"
      },
      "execution_count": null,
      "outputs": [
        {
          "output_type": "execute_result",
          "data": {
            "text/plain": [
              "    iter  n_resources param_randomforestregressor__max_depth  mean_test_score\n",
              "27     2        42768                              11.552597         0.667433\n",
              "28     2        42768                               8.585698         0.657692\n",
              "29     2        42768                               8.046725         0.657692\n",
              "21     1        14256                               8.585698         0.577584\n",
              "22     1        14256                               8.046725         0.577584\n",
              "20     1        14256                              11.552597         0.571512\n",
              "24     1        14256                               7.185114         0.570172\n",
              "26     1        14256                               5.487738         0.534504\n",
              "25     1        14256                               4.545286         0.492898\n",
              "23     1        14256                                3.23855         0.426602"
            ],
            "text/html": [
              "\n",
              "  <div id=\"df-44f0c668-3c43-40c9-a930-c8054f20fe86\">\n",
              "    <div class=\"colab-df-container\">\n",
              "      <div>\n",
              "<style scoped>\n",
              "    .dataframe tbody tr th:only-of-type {\n",
              "        vertical-align: middle;\n",
              "    }\n",
              "\n",
              "    .dataframe tbody tr th {\n",
              "        vertical-align: top;\n",
              "    }\n",
              "\n",
              "    .dataframe thead th {\n",
              "        text-align: right;\n",
              "    }\n",
              "</style>\n",
              "<table border=\"1\" class=\"dataframe\">\n",
              "  <thead>\n",
              "    <tr style=\"text-align: right;\">\n",
              "      <th></th>\n",
              "      <th>iter</th>\n",
              "      <th>n_resources</th>\n",
              "      <th>param_randomforestregressor__max_depth</th>\n",
              "      <th>mean_test_score</th>\n",
              "    </tr>\n",
              "  </thead>\n",
              "  <tbody>\n",
              "    <tr>\n",
              "      <th>27</th>\n",
              "      <td>2</td>\n",
              "      <td>42768</td>\n",
              "      <td>11.552597</td>\n",
              "      <td>0.667433</td>\n",
              "    </tr>\n",
              "    <tr>\n",
              "      <th>28</th>\n",
              "      <td>2</td>\n",
              "      <td>42768</td>\n",
              "      <td>8.585698</td>\n",
              "      <td>0.657692</td>\n",
              "    </tr>\n",
              "    <tr>\n",
              "      <th>29</th>\n",
              "      <td>2</td>\n",
              "      <td>42768</td>\n",
              "      <td>8.046725</td>\n",
              "      <td>0.657692</td>\n",
              "    </tr>\n",
              "    <tr>\n",
              "      <th>21</th>\n",
              "      <td>1</td>\n",
              "      <td>14256</td>\n",
              "      <td>8.585698</td>\n",
              "      <td>0.577584</td>\n",
              "    </tr>\n",
              "    <tr>\n",
              "      <th>22</th>\n",
              "      <td>1</td>\n",
              "      <td>14256</td>\n",
              "      <td>8.046725</td>\n",
              "      <td>0.577584</td>\n",
              "    </tr>\n",
              "    <tr>\n",
              "      <th>20</th>\n",
              "      <td>1</td>\n",
              "      <td>14256</td>\n",
              "      <td>11.552597</td>\n",
              "      <td>0.571512</td>\n",
              "    </tr>\n",
              "    <tr>\n",
              "      <th>24</th>\n",
              "      <td>1</td>\n",
              "      <td>14256</td>\n",
              "      <td>7.185114</td>\n",
              "      <td>0.570172</td>\n",
              "    </tr>\n",
              "    <tr>\n",
              "      <th>26</th>\n",
              "      <td>1</td>\n",
              "      <td>14256</td>\n",
              "      <td>5.487738</td>\n",
              "      <td>0.534504</td>\n",
              "    </tr>\n",
              "    <tr>\n",
              "      <th>25</th>\n",
              "      <td>1</td>\n",
              "      <td>14256</td>\n",
              "      <td>4.545286</td>\n",
              "      <td>0.492898</td>\n",
              "    </tr>\n",
              "    <tr>\n",
              "      <th>23</th>\n",
              "      <td>1</td>\n",
              "      <td>14256</td>\n",
              "      <td>3.23855</td>\n",
              "      <td>0.426602</td>\n",
              "    </tr>\n",
              "  </tbody>\n",
              "</table>\n",
              "</div>\n",
              "      <button class=\"colab-df-convert\" onclick=\"convertToInteractive('df-44f0c668-3c43-40c9-a930-c8054f20fe86')\"\n",
              "              title=\"Convert this dataframe to an interactive table.\"\n",
              "              style=\"display:none;\">\n",
              "        \n",
              "  <svg xmlns=\"http://www.w3.org/2000/svg\" height=\"24px\"viewBox=\"0 0 24 24\"\n",
              "       width=\"24px\">\n",
              "    <path d=\"M0 0h24v24H0V0z\" fill=\"none\"/>\n",
              "    <path d=\"M18.56 5.44l.94 2.06.94-2.06 2.06-.94-2.06-.94-.94-2.06-.94 2.06-2.06.94zm-11 1L8.5 8.5l.94-2.06 2.06-.94-2.06-.94L8.5 2.5l-.94 2.06-2.06.94zm10 10l.94 2.06.94-2.06 2.06-.94-2.06-.94-.94-2.06-.94 2.06-2.06.94z\"/><path d=\"M17.41 7.96l-1.37-1.37c-.4-.4-.92-.59-1.43-.59-.52 0-1.04.2-1.43.59L10.3 9.45l-7.72 7.72c-.78.78-.78 2.05 0 2.83L4 21.41c.39.39.9.59 1.41.59.51 0 1.02-.2 1.41-.59l7.78-7.78 2.81-2.81c.8-.78.8-2.07 0-2.86zM5.41 20L4 18.59l7.72-7.72 1.47 1.35L5.41 20z\"/>\n",
              "  </svg>\n",
              "      </button>\n",
              "      \n",
              "  <style>\n",
              "    .colab-df-container {\n",
              "      display:flex;\n",
              "      flex-wrap:wrap;\n",
              "      gap: 12px;\n",
              "    }\n",
              "\n",
              "    .colab-df-convert {\n",
              "      background-color: #E8F0FE;\n",
              "      border: none;\n",
              "      border-radius: 50%;\n",
              "      cursor: pointer;\n",
              "      display: none;\n",
              "      fill: #1967D2;\n",
              "      height: 32px;\n",
              "      padding: 0 0 0 0;\n",
              "      width: 32px;\n",
              "    }\n",
              "\n",
              "    .colab-df-convert:hover {\n",
              "      background-color: #E2EBFA;\n",
              "      box-shadow: 0px 1px 2px rgba(60, 64, 67, 0.3), 0px 1px 3px 1px rgba(60, 64, 67, 0.15);\n",
              "      fill: #174EA6;\n",
              "    }\n",
              "\n",
              "    [theme=dark] .colab-df-convert {\n",
              "      background-color: #3B4455;\n",
              "      fill: #D2E3FC;\n",
              "    }\n",
              "\n",
              "    [theme=dark] .colab-df-convert:hover {\n",
              "      background-color: #434B5C;\n",
              "      box-shadow: 0px 1px 3px 1px rgba(0, 0, 0, 0.15);\n",
              "      filter: drop-shadow(0px 1px 2px rgba(0, 0, 0, 0.3));\n",
              "      fill: #FFFFFF;\n",
              "    }\n",
              "  </style>\n",
              "\n",
              "      <script>\n",
              "        const buttonEl =\n",
              "          document.querySelector('#df-44f0c668-3c43-40c9-a930-c8054f20fe86 button.colab-df-convert');\n",
              "        buttonEl.style.display =\n",
              "          google.colab.kernel.accessAllowed ? 'block' : 'none';\n",
              "\n",
              "        async function convertToInteractive(key) {\n",
              "          const element = document.querySelector('#df-44f0c668-3c43-40c9-a930-c8054f20fe86');\n",
              "          const dataTable =\n",
              "            await google.colab.kernel.invokeFunction('convertToInteractive',\n",
              "                                                     [key], {});\n",
              "          if (!dataTable) return;\n",
              "\n",
              "          const docLinkHtml = 'Like what you see? Visit the ' +\n",
              "            '<a target=\"_blank\" href=https://colab.research.google.com/notebooks/data_table.ipynb>data table notebook</a>'\n",
              "            + ' to learn more about interactive tables.';\n",
              "          element.innerHTML = '';\n",
              "          dataTable['output_type'] = 'display_data';\n",
              "          await google.colab.output.renderOutput(dataTable, element);\n",
              "          const docLink = document.createElement('div');\n",
              "          docLink.innerHTML = docLinkHtml;\n",
              "          element.appendChild(docLink);\n",
              "        }\n",
              "      </script>\n",
              "    </div>\n",
              "  </div>\n",
              "  "
            ]
          },
          "metadata": {},
          "execution_count": 141
        }
      ]
    },
    {
      "cell_type": "markdown",
      "source": [
        "After the hyperparameter tuning, our `mean_test_score` improved by 0.007"
      ],
      "metadata": {
        "id": "JT3yhrunBYQO"
      }
    },
    {
      "cell_type": "markdown",
      "source": [
        "#5.Model Deployment\n",
        "\n",
        "We are evaluating the model performace on the testing data. "
      ],
      "metadata": {
        "id": "JgX5wjmlEuhy"
      }
    },
    {
      "cell_type": "code",
      "source": [
        "# creating testing sets, storing predictors and response\n",
        "\n",
        "test_X = test_set.drop(\"TradePrice\", axis=1)\n",
        "test_y = test_set[\"TradePrice\"]"
      ],
      "metadata": {
        "id": "HysQ-6L1Fooq"
      },
      "execution_count": null,
      "outputs": []
    },
    {
      "cell_type": "code",
      "source": [
        "# return the r2 score on test data\n",
        "\n",
        "from sklearn.metrics import r2_score\n",
        "\n",
        "final_model = halving_random_search.best_estimator_\n",
        "\n",
        "final_predictions = final_model.predict(test_X)\n",
        "final_r2 = r2_score(test_y, final_predictions)\n",
        "print('Test data R^2: {:.4f}'.format(final_r2))"
      ],
      "metadata": {
        "colab": {
          "base_uri": "https://localhost:8080/"
        },
        "id": "IstN1NbYFyQg",
        "outputId": "a5f447b0-64b8-4424-8a80-145f083d1ebc"
      },
      "execution_count": null,
      "outputs": [
        {
          "output_type": "stream",
          "name": "stdout",
          "text": [
            "Test data R^2: 0.5536\n"
          ]
        }
      ]
    },
    {
      "cell_type": "markdown",
      "source": [
        "#6.Conclusion"
      ],
      "metadata": {
        "id": "w6HS9SyTtWPC"
      }
    },
    {
      "cell_type": "markdown",
      "source": [
        "On running multiple models, we pick the `randomforestregressor` as it returns the best $R^2$ score of `0.6604`.\n",
        "\n",
        "We use the halving random search for our hyperparamteter tuning process.\n",
        "After tuning the hyperparameter on that model, we get an improved $R^2$ of `0.6674`.\n",
        "\n",
        "We evalutate the performance of our model on the test data, for which we got an $R^2$ of `0.5536`.\n",
        "\n",
        "Given the limited time span of this project, as next steps towards a better model we could implement ensemble techniques such as Stacking, to produce an optimal model."
      ],
      "metadata": {
        "id": "gLM--3oetZQK"
      }
    }
  ],
  "metadata": {
    "colab": {
      "collapsed_sections": [
        "cOfEAhDHKxXw",
        "0Qej8xhaWoxY",
        "uw0oaegUWoxd",
        "3w5eWrOWWoxd",
        "jafFJfIhWoxd",
        "OaGczo8kWoxe",
        "_JImt-WwWoxe",
        "3Vr4oOZyR14F",
        "zBi8z0qsSoiG",
        "JgX5wjmlEuhy"
      ],
      "provenance": []
    },
    "kernelspec": {
      "display_name": "Python 3",
      "name": "python3"
    },
    "language_info": {
      "name": "python"
    }
  },
  "nbformat": 4,
  "nbformat_minor": 0
}